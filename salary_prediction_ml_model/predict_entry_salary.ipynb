{
 "cells": [
  {
   "cell_type": "markdown",
   "id": "cfa09243",
   "metadata": {},
   "source": [
    "# <span style=\"font-size: 42px; font-weight: bold\">Intro</span>"
   ]
  },
  {
   "cell_type": "code",
   "execution_count": 1,
   "id": "c95b40d5",
   "metadata": {},
   "outputs": [],
   "source": [
    "import pandas as pd\n",
    "import numpy as np\n",
    "import matplotlib.pyplot as plt\n",
    "import seaborn as sns\n",
    "from sklearn.preprocessing import MinMaxScaler\n",
    "from sklearn.model_selection import train_test_split\n",
    "from sklearn.metrics import mean_squared_error, r2_score, mean_absolute_error\n",
    "from sklearn.linear_model import LinearRegression, Lasso, LassoCV, Ridge, RidgeCV\n",
    "from sklearn.preprocessing import PolynomialFeatures\n",
    "from sklearn.tree import DecisionTreeRegressor"
   ]
  },
  {
   "cell_type": "code",
   "execution_count": 2,
   "id": "be0bd112",
   "metadata": {},
   "outputs": [],
   "source": [
    "#import the dataset\n",
    "df_original = pd.read_csv('education_career_success.csv')"
   ]
  },
  {
   "cell_type": "code",
   "execution_count": 3,
   "id": "86eb5f11",
   "metadata": {},
   "outputs": [
    {
     "data": {
      "text/html": [
       "<div>\n",
       "<style scoped>\n",
       "    .dataframe tbody tr th:only-of-type {\n",
       "        vertical-align: middle;\n",
       "    }\n",
       "\n",
       "    .dataframe tbody tr th {\n",
       "        vertical-align: top;\n",
       "    }\n",
       "\n",
       "    .dataframe thead th {\n",
       "        text-align: right;\n",
       "    }\n",
       "</style>\n",
       "<table border=\"1\" class=\"dataframe\">\n",
       "  <thead>\n",
       "    <tr style=\"text-align: right;\">\n",
       "      <th></th>\n",
       "      <th>student_id</th>\n",
       "      <th>age</th>\n",
       "      <th>gender</th>\n",
       "      <th>high_school_gpa</th>\n",
       "      <th>sat_score</th>\n",
       "      <th>university_ranking</th>\n",
       "      <th>university_gpa</th>\n",
       "      <th>field_of_study</th>\n",
       "      <th>internships_completed</th>\n",
       "      <th>projects_completed</th>\n",
       "      <th>certifications</th>\n",
       "      <th>soft_skills_score</th>\n",
       "      <th>networking_score</th>\n",
       "      <th>job_offers</th>\n",
       "      <th>starting_salary</th>\n",
       "      <th>career_satisfaction</th>\n",
       "      <th>years_to_promotion</th>\n",
       "      <th>current_job_level</th>\n",
       "      <th>work_life_balance</th>\n",
       "      <th>entrepreneurship</th>\n",
       "    </tr>\n",
       "  </thead>\n",
       "  <tbody>\n",
       "    <tr>\n",
       "      <th>0</th>\n",
       "      <td>S00001</td>\n",
       "      <td>24</td>\n",
       "      <td>Male</td>\n",
       "      <td>3.58</td>\n",
       "      <td>1052</td>\n",
       "      <td>291</td>\n",
       "      <td>3.96</td>\n",
       "      <td>Arts</td>\n",
       "      <td>3</td>\n",
       "      <td>7</td>\n",
       "      <td>2</td>\n",
       "      <td>9</td>\n",
       "      <td>8</td>\n",
       "      <td>5</td>\n",
       "      <td>27200</td>\n",
       "      <td>4</td>\n",
       "      <td>5</td>\n",
       "      <td>Entry</td>\n",
       "      <td>7</td>\n",
       "      <td>No</td>\n",
       "    </tr>\n",
       "    <tr>\n",
       "      <th>1</th>\n",
       "      <td>S00002</td>\n",
       "      <td>21</td>\n",
       "      <td>Other</td>\n",
       "      <td>2.52</td>\n",
       "      <td>1211</td>\n",
       "      <td>112</td>\n",
       "      <td>3.63</td>\n",
       "      <td>Law</td>\n",
       "      <td>4</td>\n",
       "      <td>7</td>\n",
       "      <td>3</td>\n",
       "      <td>8</td>\n",
       "      <td>1</td>\n",
       "      <td>4</td>\n",
       "      <td>25000</td>\n",
       "      <td>1</td>\n",
       "      <td>1</td>\n",
       "      <td>Mid</td>\n",
       "      <td>7</td>\n",
       "      <td>No</td>\n",
       "    </tr>\n",
       "    <tr>\n",
       "      <th>2</th>\n",
       "      <td>S00003</td>\n",
       "      <td>28</td>\n",
       "      <td>Female</td>\n",
       "      <td>3.42</td>\n",
       "      <td>1193</td>\n",
       "      <td>715</td>\n",
       "      <td>2.63</td>\n",
       "      <td>Medicine</td>\n",
       "      <td>4</td>\n",
       "      <td>8</td>\n",
       "      <td>1</td>\n",
       "      <td>1</td>\n",
       "      <td>9</td>\n",
       "      <td>0</td>\n",
       "      <td>42400</td>\n",
       "      <td>9</td>\n",
       "      <td>3</td>\n",
       "      <td>Entry</td>\n",
       "      <td>7</td>\n",
       "      <td>No</td>\n",
       "    </tr>\n",
       "    <tr>\n",
       "      <th>3</th>\n",
       "      <td>S00004</td>\n",
       "      <td>25</td>\n",
       "      <td>Male</td>\n",
       "      <td>2.43</td>\n",
       "      <td>1497</td>\n",
       "      <td>170</td>\n",
       "      <td>2.81</td>\n",
       "      <td>Computer Science</td>\n",
       "      <td>3</td>\n",
       "      <td>9</td>\n",
       "      <td>1</td>\n",
       "      <td>10</td>\n",
       "      <td>6</td>\n",
       "      <td>1</td>\n",
       "      <td>57400</td>\n",
       "      <td>7</td>\n",
       "      <td>5</td>\n",
       "      <td>Mid</td>\n",
       "      <td>5</td>\n",
       "      <td>No</td>\n",
       "    </tr>\n",
       "    <tr>\n",
       "      <th>4</th>\n",
       "      <td>S00005</td>\n",
       "      <td>22</td>\n",
       "      <td>Male</td>\n",
       "      <td>2.08</td>\n",
       "      <td>1012</td>\n",
       "      <td>599</td>\n",
       "      <td>2.48</td>\n",
       "      <td>Engineering</td>\n",
       "      <td>4</td>\n",
       "      <td>6</td>\n",
       "      <td>4</td>\n",
       "      <td>10</td>\n",
       "      <td>9</td>\n",
       "      <td>4</td>\n",
       "      <td>47600</td>\n",
       "      <td>9</td>\n",
       "      <td>5</td>\n",
       "      <td>Entry</td>\n",
       "      <td>2</td>\n",
       "      <td>No</td>\n",
       "    </tr>\n",
       "  </tbody>\n",
       "</table>\n",
       "</div>"
      ],
      "text/plain": [
       "  student_id  age  gender  high_school_gpa  sat_score  university_ranking  \\\n",
       "0     S00001   24    Male             3.58       1052                 291   \n",
       "1     S00002   21   Other             2.52       1211                 112   \n",
       "2     S00003   28  Female             3.42       1193                 715   \n",
       "3     S00004   25    Male             2.43       1497                 170   \n",
       "4     S00005   22    Male             2.08       1012                 599   \n",
       "\n",
       "   university_gpa    field_of_study  internships_completed  \\\n",
       "0            3.96              Arts                      3   \n",
       "1            3.63               Law                      4   \n",
       "2            2.63          Medicine                      4   \n",
       "3            2.81  Computer Science                      3   \n",
       "4            2.48       Engineering                      4   \n",
       "\n",
       "   projects_completed  certifications  soft_skills_score  networking_score  \\\n",
       "0                   7               2                  9                 8   \n",
       "1                   7               3                  8                 1   \n",
       "2                   8               1                  1                 9   \n",
       "3                   9               1                 10                 6   \n",
       "4                   6               4                 10                 9   \n",
       "\n",
       "   job_offers  starting_salary  career_satisfaction  years_to_promotion  \\\n",
       "0           5            27200                    4                   5   \n",
       "1           4            25000                    1                   1   \n",
       "2           0            42400                    9                   3   \n",
       "3           1            57400                    7                   5   \n",
       "4           4            47600                    9                   5   \n",
       "\n",
       "  current_job_level  work_life_balance entrepreneurship  \n",
       "0             Entry                  7               No  \n",
       "1               Mid                  7               No  \n",
       "2             Entry                  7               No  \n",
       "3               Mid                  5               No  \n",
       "4             Entry                  2               No  "
      ]
     },
     "execution_count": 3,
     "metadata": {},
     "output_type": "execute_result"
    }
   ],
   "source": [
    "df = df_original.copy()\n",
    "df.head(5)"
   ]
  },
  {
   "cell_type": "code",
   "execution_count": 4,
   "id": "ae8de534",
   "metadata": {},
   "outputs": [
    {
     "name": "stdout",
     "output_type": "stream",
     "text": [
      "<class 'pandas.core.frame.DataFrame'>\n",
      "RangeIndex: 5000 entries, 0 to 4999\n",
      "Data columns (total 20 columns):\n",
      " #   Column                 Non-Null Count  Dtype  \n",
      "---  ------                 --------------  -----  \n",
      " 0   student_id             5000 non-null   object \n",
      " 1   age                    5000 non-null   int64  \n",
      " 2   gender                 5000 non-null   object \n",
      " 3   high_school_gpa        5000 non-null   float64\n",
      " 4   sat_score              5000 non-null   int64  \n",
      " 5   university_ranking     5000 non-null   int64  \n",
      " 6   university_gpa         5000 non-null   float64\n",
      " 7   field_of_study         5000 non-null   object \n",
      " 8   internships_completed  5000 non-null   int64  \n",
      " 9   projects_completed     5000 non-null   int64  \n",
      " 10  certifications         5000 non-null   int64  \n",
      " 11  soft_skills_score      5000 non-null   int64  \n",
      " 12  networking_score       5000 non-null   int64  \n",
      " 13  job_offers             5000 non-null   int64  \n",
      " 14  starting_salary        5000 non-null   int64  \n",
      " 15  career_satisfaction    5000 non-null   int64  \n",
      " 16  years_to_promotion     5000 non-null   int64  \n",
      " 17  current_job_level      5000 non-null   object \n",
      " 18  work_life_balance      5000 non-null   int64  \n",
      " 19  entrepreneurship       5000 non-null   object \n",
      "dtypes: float64(2), int64(13), object(5)\n",
      "memory usage: 781.4+ KB\n",
      "None\n"
     ]
    }
   ],
   "source": [
    "print(df.info())"
   ]
  },
  {
   "cell_type": "markdown",
   "id": "f8434f51",
   "metadata": {},
   "source": [
    "# <span style=\"font-size: 42px; font-weight: bold\">Task 1: Dataset Selection & Preprocessing</span>"
   ]
  },
  {
   "cell_type": "markdown",
   "id": "5b7565ce",
   "metadata": {},
   "source": [
    "# Dropping columns that are irrelevant to predict the starting salary after graduation"
   ]
  },
  {
   "cell_type": "code",
   "execution_count": 5,
   "id": "36f2a1e6",
   "metadata": {},
   "outputs": [
    {
     "data": {
      "text/plain": [
       "Index(['student_id', 'age', 'gender', 'high_school_gpa', 'sat_score',\n",
       "       'university_ranking', 'university_gpa', 'field_of_study',\n",
       "       'internships_completed', 'projects_completed', 'certifications',\n",
       "       'soft_skills_score', 'networking_score', 'job_offers',\n",
       "       'starting_salary', 'career_satisfaction', 'years_to_promotion',\n",
       "       'current_job_level', 'work_life_balance', 'entrepreneurship'],\n",
       "      dtype='object')"
      ]
     },
     "execution_count": 5,
     "metadata": {},
     "output_type": "execute_result"
    }
   ],
   "source": [
    "df.columns"
   ]
  },
  {
   "cell_type": "code",
   "execution_count": 6,
   "id": "82ca262c",
   "metadata": {},
   "outputs": [],
   "source": [
    "# columns_to_drop = ['student_id', 'internships_completed', 'certifications',\n",
    "#         'job_offers', 'career_satisfaction', 'years_to_promotion',\n",
    "#        'current_job_level', 'work_life_balance', 'entrepreneurship',\n",
    "#        'projects_completed', 'soft_skills_score', 'networking_score',]\n",
    "columns_to_drop = ['student_id', 'internships_completed', 'certifications',\n",
    "        'job_offers', 'career_satisfaction', 'years_to_promotion',\n",
    "       'current_job_level', 'work_life_balance', 'entrepreneurship',\n",
    "       'projects_completed', 'soft_skills_score', 'networking_score',]\n",
    "df.drop(columns=columns_to_drop, axis=1, inplace=True, errors='ignore')"
   ]
  },
  {
   "cell_type": "code",
   "execution_count": 7,
   "id": "0fd35223",
   "metadata": {},
   "outputs": [
    {
     "name": "stdout",
     "output_type": "stream",
     "text": [
      "Index(['age', 'gender', 'high_school_gpa', 'sat_score', 'university_ranking',\n",
      "       'university_gpa', 'field_of_study', 'starting_salary'],\n",
      "      dtype='object')\n"
     ]
    }
   ],
   "source": [
    "print(df.columns)"
   ]
  },
  {
   "cell_type": "code",
   "execution_count": 8,
   "id": "aab32d79",
   "metadata": {},
   "outputs": [
    {
     "name": "stdout",
     "output_type": "stream",
     "text": [
      "<class 'pandas.core.frame.DataFrame'>\n",
      "RangeIndex: 5000 entries, 0 to 4999\n",
      "Data columns (total 8 columns):\n",
      " #   Column              Non-Null Count  Dtype  \n",
      "---  ------              --------------  -----  \n",
      " 0   age                 5000 non-null   int64  \n",
      " 1   gender              5000 non-null   object \n",
      " 2   high_school_gpa     5000 non-null   float64\n",
      " 3   sat_score           5000 non-null   int64  \n",
      " 4   university_ranking  5000 non-null   int64  \n",
      " 5   university_gpa      5000 non-null   float64\n",
      " 6   field_of_study      5000 non-null   object \n",
      " 7   starting_salary     5000 non-null   int64  \n",
      "dtypes: float64(2), int64(4), object(2)\n",
      "memory usage: 312.6+ KB\n"
     ]
    }
   ],
   "source": [
    "df.info()"
   ]
  },
  {
   "cell_type": "code",
   "execution_count": 9,
   "id": "9ff326d7",
   "metadata": {},
   "outputs": [
    {
     "data": {
      "text/html": [
       "<div>\n",
       "<style scoped>\n",
       "    .dataframe tbody tr th:only-of-type {\n",
       "        vertical-align: middle;\n",
       "    }\n",
       "\n",
       "    .dataframe tbody tr th {\n",
       "        vertical-align: top;\n",
       "    }\n",
       "\n",
       "    .dataframe thead th {\n",
       "        text-align: right;\n",
       "    }\n",
       "</style>\n",
       "<table border=\"1\" class=\"dataframe\">\n",
       "  <thead>\n",
       "    <tr style=\"text-align: right;\">\n",
       "      <th></th>\n",
       "      <th>age</th>\n",
       "      <th>gender</th>\n",
       "      <th>high_school_gpa</th>\n",
       "      <th>sat_score</th>\n",
       "      <th>university_ranking</th>\n",
       "      <th>university_gpa</th>\n",
       "      <th>field_of_study</th>\n",
       "      <th>starting_salary</th>\n",
       "    </tr>\n",
       "  </thead>\n",
       "  <tbody>\n",
       "    <tr>\n",
       "      <th>0</th>\n",
       "      <td>24</td>\n",
       "      <td>Male</td>\n",
       "      <td>3.58</td>\n",
       "      <td>1052</td>\n",
       "      <td>291</td>\n",
       "      <td>3.96</td>\n",
       "      <td>Arts</td>\n",
       "      <td>27200</td>\n",
       "    </tr>\n",
       "    <tr>\n",
       "      <th>1</th>\n",
       "      <td>21</td>\n",
       "      <td>Other</td>\n",
       "      <td>2.52</td>\n",
       "      <td>1211</td>\n",
       "      <td>112</td>\n",
       "      <td>3.63</td>\n",
       "      <td>Law</td>\n",
       "      <td>25000</td>\n",
       "    </tr>\n",
       "    <tr>\n",
       "      <th>2</th>\n",
       "      <td>28</td>\n",
       "      <td>Female</td>\n",
       "      <td>3.42</td>\n",
       "      <td>1193</td>\n",
       "      <td>715</td>\n",
       "      <td>2.63</td>\n",
       "      <td>Medicine</td>\n",
       "      <td>42400</td>\n",
       "    </tr>\n",
       "    <tr>\n",
       "      <th>3</th>\n",
       "      <td>25</td>\n",
       "      <td>Male</td>\n",
       "      <td>2.43</td>\n",
       "      <td>1497</td>\n",
       "      <td>170</td>\n",
       "      <td>2.81</td>\n",
       "      <td>Computer Science</td>\n",
       "      <td>57400</td>\n",
       "    </tr>\n",
       "    <tr>\n",
       "      <th>4</th>\n",
       "      <td>22</td>\n",
       "      <td>Male</td>\n",
       "      <td>2.08</td>\n",
       "      <td>1012</td>\n",
       "      <td>599</td>\n",
       "      <td>2.48</td>\n",
       "      <td>Engineering</td>\n",
       "      <td>47600</td>\n",
       "    </tr>\n",
       "  </tbody>\n",
       "</table>\n",
       "</div>"
      ],
      "text/plain": [
       "   age  gender  high_school_gpa  sat_score  university_ranking  \\\n",
       "0   24    Male             3.58       1052                 291   \n",
       "1   21   Other             2.52       1211                 112   \n",
       "2   28  Female             3.42       1193                 715   \n",
       "3   25    Male             2.43       1497                 170   \n",
       "4   22    Male             2.08       1012                 599   \n",
       "\n",
       "   university_gpa    field_of_study  starting_salary  \n",
       "0            3.96              Arts            27200  \n",
       "1            3.63               Law            25000  \n",
       "2            2.63          Medicine            42400  \n",
       "3            2.81  Computer Science            57400  \n",
       "4            2.48       Engineering            47600  "
      ]
     },
     "execution_count": 9,
     "metadata": {},
     "output_type": "execute_result"
    }
   ],
   "source": [
    "df.head()"
   ]
  },
  {
   "cell_type": "markdown",
   "id": "ad91b233",
   "metadata": {},
   "source": [
    "# Handle duplicates and missing values"
   ]
  },
  {
   "cell_type": "code",
   "execution_count": 10,
   "id": "f2d4d90d",
   "metadata": {},
   "outputs": [
    {
     "data": {
      "text/html": [
       "<div>\n",
       "<style scoped>\n",
       "    .dataframe tbody tr th:only-of-type {\n",
       "        vertical-align: middle;\n",
       "    }\n",
       "\n",
       "    .dataframe tbody tr th {\n",
       "        vertical-align: top;\n",
       "    }\n",
       "\n",
       "    .dataframe thead th {\n",
       "        text-align: right;\n",
       "    }\n",
       "</style>\n",
       "<table border=\"1\" class=\"dataframe\">\n",
       "  <thead>\n",
       "    <tr style=\"text-align: right;\">\n",
       "      <th></th>\n",
       "      <th>age</th>\n",
       "      <th>gender</th>\n",
       "      <th>high_school_gpa</th>\n",
       "      <th>sat_score</th>\n",
       "      <th>university_ranking</th>\n",
       "      <th>university_gpa</th>\n",
       "      <th>field_of_study</th>\n",
       "      <th>starting_salary</th>\n",
       "    </tr>\n",
       "  </thead>\n",
       "  <tbody>\n",
       "  </tbody>\n",
       "</table>\n",
       "</div>"
      ],
      "text/plain": [
       "Empty DataFrame\n",
       "Columns: [age, gender, high_school_gpa, sat_score, university_ranking, university_gpa, field_of_study, starting_salary]\n",
       "Index: []"
      ]
     },
     "execution_count": 10,
     "metadata": {},
     "output_type": "execute_result"
    }
   ],
   "source": [
    "df[df.duplicated()]"
   ]
  },
  {
   "cell_type": "code",
   "execution_count": 11,
   "id": "f395ec8d",
   "metadata": {},
   "outputs": [
    {
     "data": {
      "text/plain": [
       "Index([], dtype='object')"
      ]
     },
     "execution_count": 11,
     "metadata": {},
     "output_type": "execute_result"
    }
   ],
   "source": [
    "df.columns[df.isnull().any()]"
   ]
  },
  {
   "cell_type": "markdown",
   "id": "8edce719",
   "metadata": {},
   "source": [
    "# Handling numeric columns"
   ]
  },
  {
   "cell_type": "markdown",
   "id": "3553d53b",
   "metadata": {},
   "source": [
    "## Handling outliers"
   ]
  },
  {
   "cell_type": "code",
   "execution_count": 12,
   "id": "2e229f9c",
   "metadata": {},
   "outputs": [
    {
     "data": {
      "text/html": [
       "<div>\n",
       "<style scoped>\n",
       "    .dataframe tbody tr th:only-of-type {\n",
       "        vertical-align: middle;\n",
       "    }\n",
       "\n",
       "    .dataframe tbody tr th {\n",
       "        vertical-align: top;\n",
       "    }\n",
       "\n",
       "    .dataframe thead th {\n",
       "        text-align: right;\n",
       "    }\n",
       "</style>\n",
       "<table border=\"1\" class=\"dataframe\">\n",
       "  <thead>\n",
       "    <tr style=\"text-align: right;\">\n",
       "      <th></th>\n",
       "      <th>age</th>\n",
       "      <th>high_school_gpa</th>\n",
       "      <th>sat_score</th>\n",
       "      <th>university_ranking</th>\n",
       "      <th>university_gpa</th>\n",
       "      <th>starting_salary</th>\n",
       "    </tr>\n",
       "  </thead>\n",
       "  <tbody>\n",
       "    <tr>\n",
       "      <th>count</th>\n",
       "      <td>5000.00</td>\n",
       "      <td>5000.00</td>\n",
       "      <td>5000.00</td>\n",
       "      <td>5000.00</td>\n",
       "      <td>5000.00</td>\n",
       "      <td>5000.00</td>\n",
       "    </tr>\n",
       "    <tr>\n",
       "      <th>mean</th>\n",
       "      <td>23.44</td>\n",
       "      <td>3.00</td>\n",
       "      <td>1253.83</td>\n",
       "      <td>504.34</td>\n",
       "      <td>3.02</td>\n",
       "      <td>50563.54</td>\n",
       "    </tr>\n",
       "    <tr>\n",
       "      <th>std</th>\n",
       "      <td>3.47</td>\n",
       "      <td>0.58</td>\n",
       "      <td>203.23</td>\n",
       "      <td>291.06</td>\n",
       "      <td>0.58</td>\n",
       "      <td>14494.96</td>\n",
       "    </tr>\n",
       "    <tr>\n",
       "      <th>min</th>\n",
       "      <td>18.00</td>\n",
       "      <td>2.00</td>\n",
       "      <td>900.00</td>\n",
       "      <td>1.00</td>\n",
       "      <td>2.00</td>\n",
       "      <td>25000.00</td>\n",
       "    </tr>\n",
       "    <tr>\n",
       "      <th>25%</th>\n",
       "      <td>20.00</td>\n",
       "      <td>2.50</td>\n",
       "      <td>1076.00</td>\n",
       "      <td>256.00</td>\n",
       "      <td>2.52</td>\n",
       "      <td>40200.00</td>\n",
       "    </tr>\n",
       "    <tr>\n",
       "      <th>50%</th>\n",
       "      <td>23.00</td>\n",
       "      <td>2.99</td>\n",
       "      <td>1257.00</td>\n",
       "      <td>501.50</td>\n",
       "      <td>3.03</td>\n",
       "      <td>50300.00</td>\n",
       "    </tr>\n",
       "    <tr>\n",
       "      <th>75%</th>\n",
       "      <td>26.00</td>\n",
       "      <td>3.50</td>\n",
       "      <td>1432.00</td>\n",
       "      <td>759.00</td>\n",
       "      <td>3.51</td>\n",
       "      <td>60500.00</td>\n",
       "    </tr>\n",
       "    <tr>\n",
       "      <th>max</th>\n",
       "      <td>29.00</td>\n",
       "      <td>4.00</td>\n",
       "      <td>1600.00</td>\n",
       "      <td>1000.00</td>\n",
       "      <td>4.00</td>\n",
       "      <td>101000.00</td>\n",
       "    </tr>\n",
       "  </tbody>\n",
       "</table>\n",
       "</div>"
      ],
      "text/plain": [
       "           age  high_school_gpa  sat_score  university_ranking  \\\n",
       "count  5000.00          5000.00    5000.00             5000.00   \n",
       "mean     23.44             3.00    1253.83              504.34   \n",
       "std       3.47             0.58     203.23              291.06   \n",
       "min      18.00             2.00     900.00                1.00   \n",
       "25%      20.00             2.50    1076.00              256.00   \n",
       "50%      23.00             2.99    1257.00              501.50   \n",
       "75%      26.00             3.50    1432.00              759.00   \n",
       "max      29.00             4.00    1600.00             1000.00   \n",
       "\n",
       "       university_gpa  starting_salary  \n",
       "count         5000.00          5000.00  \n",
       "mean             3.02         50563.54  \n",
       "std              0.58         14494.96  \n",
       "min              2.00         25000.00  \n",
       "25%              2.52         40200.00  \n",
       "50%              3.03         50300.00  \n",
       "75%              3.51         60500.00  \n",
       "max              4.00        101000.00  "
      ]
     },
     "execution_count": 12,
     "metadata": {},
     "output_type": "execute_result"
    }
   ],
   "source": [
    "df.describe().round(2)"
   ]
  },
  {
   "cell_type": "code",
   "execution_count": 13,
   "id": "82f3562d",
   "metadata": {},
   "outputs": [
    {
     "name": "stdout",
     "output_type": "stream",
     "text": [
      "Number of distinct values in each column:\n",
      "age: 12\n",
      "high_school_gpa: 201\n",
      "sat_score: 700\n",
      "university_ranking: 993\n",
      "university_gpa: 201\n",
      "starting_salary: 623\n"
     ]
    }
   ],
   "source": [
    "print(\"Number of distinct values in each column:\")\n",
    "for column in df.columns:\n",
    "    if df[column].dtype != 'object':\n",
    "        print(f'{column}: {df[column].nunique()}')"
   ]
  },
  {
   "cell_type": "code",
   "execution_count": 14,
   "id": "9ed91013",
   "metadata": {},
   "outputs": [],
   "source": [
    "def analyze_outliers_iqr(df, column):\n",
    "    plt.figure(figsize=(3, 3))\n",
    "    sns.boxplot(y=column, data=df)\n",
    "    plt.title(column)\n",
    "    plt.show()\n",
    "\n",
    "    print(\"Handling outliers using IQR method for column:\", column, '\\n')\n",
    "    \n",
    "    Q1 = df[column].quantile(0.25)\n",
    "    Q3 = df[column].quantile(0.75)\n",
    "    IQR = Q3 - Q1\n",
    "    lower_bound = Q1 - 1.5 * IQR\n",
    "    upper_bound = Q3 + 1.5 * IQR\n",
    "    \n",
    "    df_excluded_upper = df[df[column] > upper_bound]\n",
    "    df_excluded_lower = df[df[column] < lower_bound]\n",
    "    df_kept = df[(df[column] >= lower_bound) & (df[column] <= upper_bound)]\n",
    "\n",
    "    print(f\"{column} minimum: {df[column].min()}\")   \n",
    "    print(f\"{column} 25% quantile (Q1): {Q1}\")\n",
    "    print (f\"{column} lower bound: {lower_bound}\")\n",
    "    print(f\"Number of lower outliers: {len(df_excluded_lower)}\", '\\n')\n",
    "    \n",
    "    print(f\"{column} maximum: {df[column].max()}\")\n",
    "    print(f\"{column} 75% quantile (Q3): {Q3}\")    \n",
    "    print (f\"{column} upper bound: {upper_bound}\")    \n",
    "    print(f\"Number of upper outliers: {len(df_excluded_upper)}\", '\\n')\n",
    "    \n",
    "    print(f\"Number of total outliers: {len(df_excluded_upper) + len(df_excluded_lower)}\", '\\n')\n",
    "    \n",
    "    print(f\"Number of kept data points: {len(df_kept)}\",'\\n')\n",
    "    \n",
    "    print(\"Excluded upper outliers:\")\n",
    "    print(df_excluded_upper[column], '\\n')\n",
    "\n",
    "    print(\"Excluded lower outliers:\")\n",
    "    print(df_excluded_lower[column], '\\n')\n",
    "\n",
    "    return {\"df_kept\": df_kept, \"df_excluded_upper\": df_excluded_upper, \"df_excluded_lower\": df_excluded_lower}"
   ]
  },
  {
   "cell_type": "code",
   "execution_count": 15,
   "id": "96e3f1b0",
   "metadata": {},
   "outputs": [
    {
     "data": {
      "image/png": "[encoded data removed]",
      "text/plain": [
       "<Figure size 300x300 with 1 Axes>"
      ]
     },
     "metadata": {},
     "output_type": "display_data"
    },
    {
     "name": "stdout",
     "output_type": "stream",
     "text": [
      "Handling outliers using IQR method for column: starting_salary \n",
      "\n",
      "starting_salary minimum: 25000\n",
      "starting_salary 25% quantile (Q1): 40200.0\n",
      "starting_salary lower bound: 9750.0\n",
      "Number of lower outliers: 0 \n",
      "\n",
      "starting_salary maximum: 101000\n",
      "starting_salary 75% quantile (Q3): 60500.0\n",
      "starting_salary upper bound: 90950.0\n",
      "Number of upper outliers: 12 \n",
      "\n",
      "Number of total outliers: 12 \n",
      "\n",
      "Number of kept data points: 4988 \n",
      "\n",
      "Excluded upper outliers:\n",
      "16       97500\n",
      "128      96700\n",
      "1284     92400\n",
      "1340     96900\n",
      "1809    101000\n",
      "2496     91000\n",
      "2541     92500\n",
      "3434     94400\n",
      "3503     98200\n",
      "3830     98900\n",
      "4145     93000\n",
      "4538    100600\n",
      "Name: starting_salary, dtype: int64 \n",
      "\n",
      "Excluded lower outliers:\n",
      "Series([], Name: starting_salary, dtype: int64) \n",
      "\n"
     ]
    }
   ],
   "source": [
    "df_outliers_starting_salary = analyze_outliers_iqr(df, 'starting_salary')"
   ]
  },
  {
   "cell_type": "code",
   "execution_count": 16,
   "id": "308d2d90",
   "metadata": {},
   "outputs": [
    {
     "data": {
      "text/html": [
       "<div>\n",
       "<style scoped>\n",
       "    .dataframe tbody tr th:only-of-type {\n",
       "        vertical-align: middle;\n",
       "    }\n",
       "\n",
       "    .dataframe tbody tr th {\n",
       "        vertical-align: top;\n",
       "    }\n",
       "\n",
       "    .dataframe thead th {\n",
       "        text-align: right;\n",
       "    }\n",
       "</style>\n",
       "<table border=\"1\" class=\"dataframe\">\n",
       "  <thead>\n",
       "    <tr style=\"text-align: right;\">\n",
       "      <th></th>\n",
       "      <th>age</th>\n",
       "      <th>gender</th>\n",
       "      <th>high_school_gpa</th>\n",
       "      <th>sat_score</th>\n",
       "      <th>university_ranking</th>\n",
       "      <th>university_gpa</th>\n",
       "      <th>field_of_study</th>\n",
       "      <th>starting_salary</th>\n",
       "    </tr>\n",
       "  </thead>\n",
       "  <tbody>\n",
       "    <tr>\n",
       "      <th>16</th>\n",
       "      <td>20</td>\n",
       "      <td>Female</td>\n",
       "      <td>3.73</td>\n",
       "      <td>1539</td>\n",
       "      <td>116</td>\n",
       "      <td>3.78</td>\n",
       "      <td>Law</td>\n",
       "      <td>97500</td>\n",
       "    </tr>\n",
       "    <tr>\n",
       "      <th>128</th>\n",
       "      <td>24</td>\n",
       "      <td>Female</td>\n",
       "      <td>2.62</td>\n",
       "      <td>1039</td>\n",
       "      <td>274</td>\n",
       "      <td>3.60</td>\n",
       "      <td>Arts</td>\n",
       "      <td>96700</td>\n",
       "    </tr>\n",
       "    <tr>\n",
       "      <th>1284</th>\n",
       "      <td>18</td>\n",
       "      <td>Female</td>\n",
       "      <td>3.89</td>\n",
       "      <td>1290</td>\n",
       "      <td>213</td>\n",
       "      <td>3.99</td>\n",
       "      <td>Business</td>\n",
       "      <td>92400</td>\n",
       "    </tr>\n",
       "    <tr>\n",
       "      <th>1340</th>\n",
       "      <td>25</td>\n",
       "      <td>Female</td>\n",
       "      <td>2.97</td>\n",
       "      <td>900</td>\n",
       "      <td>835</td>\n",
       "      <td>3.07</td>\n",
       "      <td>Law</td>\n",
       "      <td>96900</td>\n",
       "    </tr>\n",
       "    <tr>\n",
       "      <th>1809</th>\n",
       "      <td>28</td>\n",
       "      <td>Other</td>\n",
       "      <td>2.34</td>\n",
       "      <td>1089</td>\n",
       "      <td>24</td>\n",
       "      <td>3.01</td>\n",
       "      <td>Arts</td>\n",
       "      <td>101000</td>\n",
       "    </tr>\n",
       "    <tr>\n",
       "      <th>2496</th>\n",
       "      <td>19</td>\n",
       "      <td>Male</td>\n",
       "      <td>2.82</td>\n",
       "      <td>1268</td>\n",
       "      <td>937</td>\n",
       "      <td>2.78</td>\n",
       "      <td>Law</td>\n",
       "      <td>91000</td>\n",
       "    </tr>\n",
       "    <tr>\n",
       "      <th>2541</th>\n",
       "      <td>19</td>\n",
       "      <td>Male</td>\n",
       "      <td>2.94</td>\n",
       "      <td>1594</td>\n",
       "      <td>569</td>\n",
       "      <td>3.36</td>\n",
       "      <td>Arts</td>\n",
       "      <td>92500</td>\n",
       "    </tr>\n",
       "    <tr>\n",
       "      <th>3434</th>\n",
       "      <td>23</td>\n",
       "      <td>Male</td>\n",
       "      <td>2.90</td>\n",
       "      <td>1499</td>\n",
       "      <td>223</td>\n",
       "      <td>2.87</td>\n",
       "      <td>Law</td>\n",
       "      <td>94400</td>\n",
       "    </tr>\n",
       "    <tr>\n",
       "      <th>3503</th>\n",
       "      <td>25</td>\n",
       "      <td>Male</td>\n",
       "      <td>3.99</td>\n",
       "      <td>982</td>\n",
       "      <td>459</td>\n",
       "      <td>2.70</td>\n",
       "      <td>Engineering</td>\n",
       "      <td>98200</td>\n",
       "    </tr>\n",
       "    <tr>\n",
       "      <th>3830</th>\n",
       "      <td>20</td>\n",
       "      <td>Male</td>\n",
       "      <td>3.23</td>\n",
       "      <td>1238</td>\n",
       "      <td>234</td>\n",
       "      <td>2.82</td>\n",
       "      <td>Arts</td>\n",
       "      <td>98900</td>\n",
       "    </tr>\n",
       "    <tr>\n",
       "      <th>4145</th>\n",
       "      <td>21</td>\n",
       "      <td>Female</td>\n",
       "      <td>2.01</td>\n",
       "      <td>1120</td>\n",
       "      <td>594</td>\n",
       "      <td>3.96</td>\n",
       "      <td>Engineering</td>\n",
       "      <td>93000</td>\n",
       "    </tr>\n",
       "    <tr>\n",
       "      <th>4538</th>\n",
       "      <td>21</td>\n",
       "      <td>Male</td>\n",
       "      <td>2.38</td>\n",
       "      <td>1450</td>\n",
       "      <td>943</td>\n",
       "      <td>3.93</td>\n",
       "      <td>Law</td>\n",
       "      <td>100600</td>\n",
       "    </tr>\n",
       "  </tbody>\n",
       "</table>\n",
       "</div>"
      ],
      "text/plain": [
       "      age  gender  high_school_gpa  sat_score  university_ranking  \\\n",
       "16     20  Female             3.73       1539                 116   \n",
       "128    24  Female             2.62       1039                 274   \n",
       "1284   18  Female             3.89       1290                 213   \n",
       "1340   25  Female             2.97        900                 835   \n",
       "1809   28   Other             2.34       1089                  24   \n",
       "2496   19    Male             2.82       1268                 937   \n",
       "2541   19    Male             2.94       1594                 569   \n",
       "3434   23    Male             2.90       1499                 223   \n",
       "3503   25    Male             3.99        982                 459   \n",
       "3830   20    Male             3.23       1238                 234   \n",
       "4145   21  Female             2.01       1120                 594   \n",
       "4538   21    Male             2.38       1450                 943   \n",
       "\n",
       "      university_gpa field_of_study  starting_salary  \n",
       "16              3.78            Law            97500  \n",
       "128             3.60           Arts            96700  \n",
       "1284            3.99       Business            92400  \n",
       "1340            3.07            Law            96900  \n",
       "1809            3.01           Arts           101000  \n",
       "2496            2.78            Law            91000  \n",
       "2541            3.36           Arts            92500  \n",
       "3434            2.87            Law            94400  \n",
       "3503            2.70    Engineering            98200  \n",
       "3830            2.82           Arts            98900  \n",
       "4145            3.96    Engineering            93000  \n",
       "4538            3.93            Law           100600  "
      ]
     },
     "execution_count": 16,
     "metadata": {},
     "output_type": "execute_result"
    }
   ],
   "source": [
    "df_outliers_starting_salary['df_excluded_upper']"
   ]
  },
  {
   "cell_type": "code",
   "execution_count": 17,
   "id": "bcbf374a",
   "metadata": {},
   "outputs": [],
   "source": [
    "df = df_outliers_starting_salary['df_kept'].copy()"
   ]
  },
  {
   "cell_type": "code",
   "execution_count": 18,
   "id": "8bccfdf8",
   "metadata": {},
   "outputs": [
    {
     "data": {
      "image/png": "[encoded data removed]",
      "text/plain": [
       "<Figure size 300x300 with 1 Axes>"
      ]
     },
     "metadata": {},
     "output_type": "display_data"
    },
    {
     "name": "stdout",
     "output_type": "stream",
     "text": [
      "Handling outliers using IQR method for column: high_school_gpa \n",
      "\n",
      "high_school_gpa minimum: 2.0\n",
      "high_school_gpa 25% quantile (Q1): 2.5\n",
      "high_school_gpa lower bound: 1.0\n",
      "Number of lower outliers: 0 \n",
      "\n",
      "high_school_gpa maximum: 4.0\n",
      "high_school_gpa 75% quantile (Q3): 3.5\n",
      "high_school_gpa upper bound: 5.0\n",
      "Number of upper outliers: 0 \n",
      "\n",
      "Number of total outliers: 0 \n",
      "\n",
      "Number of kept data points: 4988 \n",
      "\n",
      "Excluded upper outliers:\n",
      "Series([], Name: high_school_gpa, dtype: float64) \n",
      "\n",
      "Excluded lower outliers:\n",
      "Series([], Name: high_school_gpa, dtype: float64) \n",
      "\n"
     ]
    },
    {
     "data": {
      "text/plain": [
       "{'df_kept':       age  gender  high_school_gpa  sat_score  university_ranking  \\\n",
       " 0      24    Male             3.58       1052                 291   \n",
       " 1      21   Other             2.52       1211                 112   \n",
       " 2      28  Female             3.42       1193                 715   \n",
       " 3      25    Male             2.43       1497                 170   \n",
       " 4      22    Male             2.08       1012                 599   \n",
       " ...   ...     ...              ...        ...                 ...   \n",
       " 4995   26  Female             2.44       1258                 776   \n",
       " 4996   18  Female             3.94       1032                 923   \n",
       " 4997   19  Female             3.45       1299                 720   \n",
       " 4998   19    Male             2.70       1038                 319   \n",
       " 4999   23  Female             2.19       1145                  82   \n",
       " \n",
       "       university_gpa    field_of_study  starting_salary  \n",
       " 0               3.96              Arts            27200  \n",
       " 1               3.63               Law            25000  \n",
       " 2               2.63          Medicine            42400  \n",
       " 3               2.81  Computer Science            57400  \n",
       " 4               2.48       Engineering            47600  \n",
       " ...              ...               ...              ...  \n",
       " 4995            2.44              Arts            31500  \n",
       " 4996            3.73               Law            41800  \n",
       " 4997            2.52               Law            49500  \n",
       " 4998            3.94               Law            54700  \n",
       " 4999            3.19  Computer Science            57000  \n",
       " \n",
       " [4988 rows x 8 columns],\n",
       " 'df_excluded_upper': Empty DataFrame\n",
       " Columns: [age, gender, high_school_gpa, sat_score, university_ranking, university_gpa, field_of_study, starting_salary]\n",
       " Index: [],\n",
       " 'df_excluded_lower': Empty DataFrame\n",
       " Columns: [age, gender, high_school_gpa, sat_score, university_ranking, university_gpa, field_of_study, starting_salary]\n",
       " Index: []}"
      ]
     },
     "execution_count": 18,
     "metadata": {},
     "output_type": "execute_result"
    }
   ],
   "source": [
    "analyze_outliers_iqr(df, 'high_school_gpa')"
   ]
  },
  {
   "cell_type": "code",
   "execution_count": 19,
   "id": "047262f4",
   "metadata": {},
   "outputs": [
    {
     "data": {
      "image/png": "[encoded data removed]",
      "text/plain": [
       "<Figure size 300x300 with 1 Axes>"
      ]
     },
     "metadata": {},
     "output_type": "display_data"
    },
    {
     "name": "stdout",
     "output_type": "stream",
     "text": [
      "Handling outliers using IQR method for column: sat_score \n",
      "\n",
      "sat_score minimum: 900\n",
      "sat_score 25% quantile (Q1): 1076.0\n",
      "sat_score lower bound: 542.0\n",
      "Number of lower outliers: 0 \n",
      "\n",
      "sat_score maximum: 1600\n",
      "sat_score 75% quantile (Q3): 1432.0\n",
      "sat_score upper bound: 1966.0\n",
      "Number of upper outliers: 0 \n",
      "\n",
      "Number of total outliers: 0 \n",
      "\n",
      "Number of kept data points: 4988 \n",
      "\n",
      "Excluded upper outliers:\n",
      "Series([], Name: sat_score, dtype: int64) \n",
      "\n",
      "Excluded lower outliers:\n",
      "Series([], Name: sat_score, dtype: int64) \n",
      "\n"
     ]
    },
    {
     "data": {
      "text/plain": [
       "{'df_kept':       age  gender  high_school_gpa  sat_score  university_ranking  \\\n",
       " 0      24    Male             3.58       1052                 291   \n",
       " 1      21   Other             2.52       1211                 112   \n",
       " 2      28  Female             3.42       1193                 715   \n",
       " 3      25    Male             2.43       1497                 170   \n",
       " 4      22    Male             2.08       1012                 599   \n",
       " ...   ...     ...              ...        ...                 ...   \n",
       " 4995   26  Female             2.44       1258                 776   \n",
       " 4996   18  Female             3.94       1032                 923   \n",
       " 4997   19  Female             3.45       1299                 720   \n",
       " 4998   19    Male             2.70       1038                 319   \n",
       " 4999   23  Female             2.19       1145                  82   \n",
       " \n",
       "       university_gpa    field_of_study  starting_salary  \n",
       " 0               3.96              Arts            27200  \n",
       " 1               3.63               Law            25000  \n",
       " 2               2.63          Medicine            42400  \n",
       " 3               2.81  Computer Science            57400  \n",
       " 4               2.48       Engineering            47600  \n",
       " ...              ...               ...              ...  \n",
       " 4995            2.44              Arts            31500  \n",
       " 4996            3.73               Law            41800  \n",
       " 4997            2.52               Law            49500  \n",
       " 4998            3.94               Law            54700  \n",
       " 4999            3.19  Computer Science            57000  \n",
       " \n",
       " [4988 rows x 8 columns],\n",
       " 'df_excluded_upper': Empty DataFrame\n",
       " Columns: [age, gender, high_school_gpa, sat_score, university_ranking, university_gpa, field_of_study, starting_salary]\n",
       " Index: [],\n",
       " 'df_excluded_lower': Empty DataFrame\n",
       " Columns: [age, gender, high_school_gpa, sat_score, university_ranking, university_gpa, field_of_study, starting_salary]\n",
       " Index: []}"
      ]
     },
     "execution_count": 19,
     "metadata": {},
     "output_type": "execute_result"
    }
   ],
   "source": [
    "analyze_outliers_iqr(df, 'sat_score')"
   ]
  },
  {
   "cell_type": "code",
   "execution_count": 20,
   "id": "b083c4c9",
   "metadata": {},
   "outputs": [
    {
     "data": {
      "image/png": "[encoded data removed]",
      "text/plain": [
       "<Figure size 300x300 with 1 Axes>"
      ]
     },
     "metadata": {},
     "output_type": "display_data"
    },
    {
     "name": "stdout",
     "output_type": "stream",
     "text": [
      "Handling outliers using IQR method for column: university_ranking \n",
      "\n",
      "university_ranking minimum: 1\n",
      "university_ranking 25% quantile (Q1): 256.0\n",
      "university_ranking lower bound: -498.5\n",
      "Number of lower outliers: 0 \n",
      "\n",
      "university_ranking maximum: 1000\n",
      "university_ranking 75% quantile (Q3): 759.0\n",
      "university_ranking upper bound: 1513.5\n",
      "Number of upper outliers: 0 \n",
      "\n",
      "Number of total outliers: 0 \n",
      "\n",
      "Number of kept data points: 4988 \n",
      "\n",
      "Excluded upper outliers:\n",
      "Series([], Name: university_ranking, dtype: int64) \n",
      "\n",
      "Excluded lower outliers:\n",
      "Series([], Name: university_ranking, dtype: int64) \n",
      "\n"
     ]
    },
    {
     "data": {
      "text/plain": [
       "{'df_kept':       age  gender  high_school_gpa  sat_score  university_ranking  \\\n",
       " 0      24    Male             3.58       1052                 291   \n",
       " 1      21   Other             2.52       1211                 112   \n",
       " 2      28  Female             3.42       1193                 715   \n",
       " 3      25    Male             2.43       1497                 170   \n",
       " 4      22    Male             2.08       1012                 599   \n",
       " ...   ...     ...              ...        ...                 ...   \n",
       " 4995   26  Female             2.44       1258                 776   \n",
       " 4996   18  Female             3.94       1032                 923   \n",
       " 4997   19  Female             3.45       1299                 720   \n",
       " 4998   19    Male             2.70       1038                 319   \n",
       " 4999   23  Female             2.19       1145                  82   \n",
       " \n",
       "       university_gpa    field_of_study  starting_salary  \n",
       " 0               3.96              Arts            27200  \n",
       " 1               3.63               Law            25000  \n",
       " 2               2.63          Medicine            42400  \n",
       " 3               2.81  Computer Science            57400  \n",
       " 4               2.48       Engineering            47600  \n",
       " ...              ...               ...              ...  \n",
       " 4995            2.44              Arts            31500  \n",
       " 4996            3.73               Law            41800  \n",
       " 4997            2.52               Law            49500  \n",
       " 4998            3.94               Law            54700  \n",
       " 4999            3.19  Computer Science            57000  \n",
       " \n",
       " [4988 rows x 8 columns],\n",
       " 'df_excluded_upper': Empty DataFrame\n",
       " Columns: [age, gender, high_school_gpa, sat_score, university_ranking, university_gpa, field_of_study, starting_salary]\n",
       " Index: [],\n",
       " 'df_excluded_lower': Empty DataFrame\n",
       " Columns: [age, gender, high_school_gpa, sat_score, university_ranking, university_gpa, field_of_study, starting_salary]\n",
       " Index: []}"
      ]
     },
     "execution_count": 20,
     "metadata": {},
     "output_type": "execute_result"
    }
   ],
   "source": [
    "analyze_outliers_iqr(df, 'university_ranking')"
   ]
  },
  {
   "cell_type": "markdown",
   "id": "23136074",
   "metadata": {},
   "source": [
    "### As a conclusion, the only outliers are identified by a starting salary above $90,950. Those records have been excluded."
   ]
  },
  {
   "cell_type": "markdown",
   "id": "dcbb3c31",
   "metadata": {},
   "source": [
    "## Converting salary to thousands of dollars"
   ]
  },
  {
   "cell_type": "code",
   "execution_count": 21,
   "id": "5dfca292",
   "metadata": {},
   "outputs": [],
   "source": [
    "df['starting_salary'] = (df['starting_salary']/ 1000).astype(float)\n",
    "# df.head(5)"
   ]
  },
  {
   "cell_type": "markdown",
   "id": "a893ea3a",
   "metadata": {},
   "source": [
    "# Handle non-numeric columns"
   ]
  },
  {
   "cell_type": "code",
   "execution_count": 22,
   "id": "e1a2222b",
   "metadata": {},
   "outputs": [
    {
     "name": "stdout",
     "output_type": "stream",
     "text": [
      "gender\n",
      "Male      2452\n",
      "Female    2345\n",
      "Other      191\n",
      "Name: count, dtype: int64 \n",
      "\n",
      "field_of_study\n",
      "Arts                745\n",
      "Mathematics         745\n",
      "Law                 722\n",
      "Business            718\n",
      "Engineering         699\n",
      "Medicine            689\n",
      "Computer Science    670\n",
      "Name: count, dtype: int64 \n",
      "\n"
     ]
    }
   ],
   "source": [
    "for column in df.columns:\n",
    "    if df[column].dtype == 'object':\n",
    "        print(df[column].value_counts(),\"\\n\")"
   ]
  },
  {
   "cell_type": "markdown",
   "id": "82595597",
   "metadata": {},
   "source": [
    "## Dropping rows where gender is \"Other\" then encoding the labels"
   ]
  },
  {
   "cell_type": "code",
   "execution_count": 23,
   "id": "1dc03acd",
   "metadata": {},
   "outputs": [
    {
     "data": {
      "text/plain": [
       "array(['Male', 'Female'], dtype=object)"
      ]
     },
     "execution_count": 23,
     "metadata": {},
     "output_type": "execute_result"
    }
   ],
   "source": [
    "df = df[df['gender'] != 'Other']\n",
    "df['gender'].unique()"
   ]
  },
  {
   "cell_type": "code",
   "execution_count": 24,
   "id": "41b032d9",
   "metadata": {},
   "outputs": [],
   "source": [
    "df['is_male'] = df['gender'].map({'Male': 1, 'Female': 0})\n",
    "df.drop('gender', axis=1, inplace=True, errors='ignore')"
   ]
  },
  {
   "cell_type": "code",
   "execution_count": 25,
   "id": "3fc84b4b",
   "metadata": {},
   "outputs": [],
   "source": [
    "#df['entrepreneurship'] = df['entrepreneurship'].map({'Yes': 1, 'No': 0})"
   ]
  },
  {
   "cell_type": "markdown",
   "id": "88044b37",
   "metadata": {},
   "source": [
    "## One-hot encoding of field_of_study"
   ]
  },
  {
   "cell_type": "code",
   "execution_count": 26,
   "id": "85f75e4b",
   "metadata": {},
   "outputs": [],
   "source": [
    "df = pd.get_dummies(df, columns=['field_of_study'], drop_first=True)"
   ]
  },
  {
   "cell_type": "code",
   "execution_count": 27,
   "id": "f508ec69",
   "metadata": {},
   "outputs": [
    {
     "data": {
      "text/html": [
       "<div>\n",
       "<style scoped>\n",
       "    .dataframe tbody tr th:only-of-type {\n",
       "        vertical-align: middle;\n",
       "    }\n",
       "\n",
       "    .dataframe tbody tr th {\n",
       "        vertical-align: top;\n",
       "    }\n",
       "\n",
       "    .dataframe thead th {\n",
       "        text-align: right;\n",
       "    }\n",
       "</style>\n",
       "<table border=\"1\" class=\"dataframe\">\n",
       "  <thead>\n",
       "    <tr style=\"text-align: right;\">\n",
       "      <th></th>\n",
       "      <th>age</th>\n",
       "      <th>high_school_gpa</th>\n",
       "      <th>sat_score</th>\n",
       "      <th>university_ranking</th>\n",
       "      <th>university_gpa</th>\n",
       "      <th>starting_salary</th>\n",
       "      <th>is_male</th>\n",
       "      <th>field_of_study_Business</th>\n",
       "      <th>field_of_study_Computer Science</th>\n",
       "      <th>field_of_study_Engineering</th>\n",
       "      <th>field_of_study_Law</th>\n",
       "      <th>field_of_study_Mathematics</th>\n",
       "      <th>field_of_study_Medicine</th>\n",
       "    </tr>\n",
       "  </thead>\n",
       "  <tbody>\n",
       "    <tr>\n",
       "      <th>0</th>\n",
       "      <td>24</td>\n",
       "      <td>3.58</td>\n",
       "      <td>1052</td>\n",
       "      <td>291</td>\n",
       "      <td>3.96</td>\n",
       "      <td>27.2</td>\n",
       "      <td>1</td>\n",
       "      <td>False</td>\n",
       "      <td>False</td>\n",
       "      <td>False</td>\n",
       "      <td>False</td>\n",
       "      <td>False</td>\n",
       "      <td>False</td>\n",
       "    </tr>\n",
       "    <tr>\n",
       "      <th>2</th>\n",
       "      <td>28</td>\n",
       "      <td>3.42</td>\n",
       "      <td>1193</td>\n",
       "      <td>715</td>\n",
       "      <td>2.63</td>\n",
       "      <td>42.4</td>\n",
       "      <td>0</td>\n",
       "      <td>False</td>\n",
       "      <td>False</td>\n",
       "      <td>False</td>\n",
       "      <td>False</td>\n",
       "      <td>False</td>\n",
       "      <td>True</td>\n",
       "    </tr>\n",
       "    <tr>\n",
       "      <th>3</th>\n",
       "      <td>25</td>\n",
       "      <td>2.43</td>\n",
       "      <td>1497</td>\n",
       "      <td>170</td>\n",
       "      <td>2.81</td>\n",
       "      <td>57.4</td>\n",
       "      <td>1</td>\n",
       "      <td>False</td>\n",
       "      <td>True</td>\n",
       "      <td>False</td>\n",
       "      <td>False</td>\n",
       "      <td>False</td>\n",
       "      <td>False</td>\n",
       "    </tr>\n",
       "    <tr>\n",
       "      <th>4</th>\n",
       "      <td>22</td>\n",
       "      <td>2.08</td>\n",
       "      <td>1012</td>\n",
       "      <td>599</td>\n",
       "      <td>2.48</td>\n",
       "      <td>47.6</td>\n",
       "      <td>1</td>\n",
       "      <td>False</td>\n",
       "      <td>False</td>\n",
       "      <td>True</td>\n",
       "      <td>False</td>\n",
       "      <td>False</td>\n",
       "      <td>False</td>\n",
       "    </tr>\n",
       "    <tr>\n",
       "      <th>5</th>\n",
       "      <td>24</td>\n",
       "      <td>2.40</td>\n",
       "      <td>1600</td>\n",
       "      <td>631</td>\n",
       "      <td>3.78</td>\n",
       "      <td>68.4</td>\n",
       "      <td>1</td>\n",
       "      <td>False</td>\n",
       "      <td>False</td>\n",
       "      <td>False</td>\n",
       "      <td>True</td>\n",
       "      <td>False</td>\n",
       "      <td>False</td>\n",
       "    </tr>\n",
       "  </tbody>\n",
       "</table>\n",
       "</div>"
      ],
      "text/plain": [
       "   age  high_school_gpa  sat_score  university_ranking  university_gpa  \\\n",
       "0   24             3.58       1052                 291            3.96   \n",
       "2   28             3.42       1193                 715            2.63   \n",
       "3   25             2.43       1497                 170            2.81   \n",
       "4   22             2.08       1012                 599            2.48   \n",
       "5   24             2.40       1600                 631            3.78   \n",
       "\n",
       "   starting_salary  is_male  field_of_study_Business  \\\n",
       "0             27.2        1                    False   \n",
       "2             42.4        0                    False   \n",
       "3             57.4        1                    False   \n",
       "4             47.6        1                    False   \n",
       "5             68.4        1                    False   \n",
       "\n",
       "   field_of_study_Computer Science  field_of_study_Engineering  \\\n",
       "0                            False                       False   \n",
       "2                            False                       False   \n",
       "3                             True                       False   \n",
       "4                            False                        True   \n",
       "5                            False                       False   \n",
       "\n",
       "   field_of_study_Law  field_of_study_Mathematics  field_of_study_Medicine  \n",
       "0               False                       False                    False  \n",
       "2               False                       False                     True  \n",
       "3               False                       False                    False  \n",
       "4               False                       False                    False  \n",
       "5                True                       False                    False  "
      ]
     },
     "execution_count": 27,
     "metadata": {},
     "output_type": "execute_result"
    }
   ],
   "source": [
    "df.head(5)"
   ]
  },
  {
   "cell_type": "markdown",
   "id": "4d634b90",
   "metadata": {},
   "source": [
    "# Reorder columns"
   ]
  },
  {
   "cell_type": "code",
   "execution_count": 28,
   "id": "3e91ecfa",
   "metadata": {},
   "outputs": [],
   "source": [
    "# df = df[['age', 'high_school_gpa', 'sat_score', 'university_ranking',\n",
    "#        'university_gpa', 'internships_completed', 'projects_completed',\n",
    "#        'soft_skills_score', 'networking_score', 'job_offers', 'entrepreneurship', 'is_male',\n",
    "#        'field_of_study_Business', 'field_of_study_Computer Science',\n",
    "#        'field_of_study_Engineering', 'field_of_study_Law',\n",
    "#        'field_of_study_Mathematics', 'field_of_study_Medicine', 'starting_salary']]\n",
    "# df.head(5)"
   ]
  },
  {
   "cell_type": "markdown",
   "id": "e863a8be",
   "metadata": {},
   "source": [
    "# Correlation heatmap"
   ]
  },
  {
   "cell_type": "code",
   "execution_count": 29,
   "id": "06d46002",
   "metadata": {},
   "outputs": [
    {
     "data": {
      "image/png": "[encoded data removed]",
      "text/plain": [
       "<Figure size 1600x800 with 2 Axes>"
      ]
     },
     "metadata": {},
     "output_type": "display_data"
    }
   ],
   "source": [
    "correlation_salary = df.corr()\n",
    "plt.figure(figsize = (16,8))\n",
    "m = np.ones_like(correlation_salary)\n",
    "#type(np.tril_indices_from(m))\n",
    "#print(np.tril_indices_from(m))\n",
    "m[np.tril_indices_from(m)]= 0\n",
    "sns.heatmap(correlation_salary, mask = m, annot = True, cmap = 'coolwarm')\n",
    "plt.show()"
   ]
  },
  {
   "cell_type": "markdown",
   "id": "9809a186",
   "metadata": {},
   "source": [
    "# <span style=\"font-size: 42px; font-weight: bold\">Task 2: Model Building & Evaluation</span>"
   ]
  },
  {
   "cell_type": "markdown",
   "id": "aafe8b14",
   "metadata": {},
   "source": [
    "## Prepare data for model building"
   ]
  },
  {
   "cell_type": "code",
   "execution_count": 30,
   "id": "83e50298",
   "metadata": {},
   "outputs": [
    {
     "data": {
      "text/plain": [
       "Index(['age', 'high_school_gpa', 'sat_score', 'university_ranking',\n",
       "       'university_gpa', 'starting_salary', 'is_male',\n",
       "       'field_of_study_Business', 'field_of_study_Computer Science',\n",
       "       'field_of_study_Engineering', 'field_of_study_Law',\n",
       "       'field_of_study_Mathematics', 'field_of_study_Medicine'],\n",
       "      dtype='object')"
      ]
     },
     "execution_count": 30,
     "metadata": {},
     "output_type": "execute_result"
    }
   ],
   "source": [
    "df.columns"
   ]
  },
  {
   "cell_type": "code",
   "execution_count": 31,
   "id": "8ff31c97",
   "metadata": {},
   "outputs": [
    {
     "name": "stdout",
     "output_type": "stream",
     "text": [
      "Training set shape: (3837, 6) (3837,)\n",
      "Testing set shape: (960, 6) (960,)\n"
     ]
    }
   ],
   "source": [
    "# Assign X and Y values and split them into training and testing sets\n",
    "# X = df.drop('starting_salary', axis=1)\n",
    "X = df[['age', 'high_school_gpa', 'sat_score', 'university_ranking','university_gpa', 'is_male']]\n",
    "# X = df[['university_ranking','university_gpa', 'is_male']]\n",
    "y = df['starting_salary']\n",
    "X_train, X_test, y_train, y_test = train_test_split(X, y, test_size=0.2, random_state=42)\n",
    "# Display the shapes of the training and testing sets\n",
    "print(\"Training set shape:\", X_train.shape, y_train.shape)\n",
    "print(\"Testing set shape:\", X_test.shape, y_test.shape)"
   ]
  },
  {
   "cell_type": "code",
   "execution_count": 32,
   "id": "83d6097c",
   "metadata": {},
   "outputs": [
    {
     "name": "stdout",
     "output_type": "stream",
     "text": [
      "Min salary 25\n",
      "Mean salary 50\n",
      "Median salary 50\n",
      "Max salary 91\n",
      "---------\n",
      "Min salary square 625\n",
      "Mean salary square 2,549\n",
      "Median salary square 2,530\n",
      "Max salary square 8,263\n"
     ]
    }
   ],
   "source": [
    "print(\"Min salary\",f\"{np.min(y):,.0f}\")\n",
    "print(\"Mean salary\",f\"{np.mean(y):,.0f}\")\n",
    "print(\"Median salary\",f\"{np.median(y):,.0f}\")\n",
    "print(\"Max salary\",f\"{np.max(y):,.0f}\")\n",
    "\n",
    "print(\"---------\")\n",
    "\n",
    "print(\"Min salary square\",f\"{np.square(np.min(y)):,.0f}\")\n",
    "print(\"Mean salary square\",f\"{np.square(np.mean(y)):,.0f}\")\n",
    "print(\"Median salary square\",f\"{np.square(np.median(y)):,.0f}\")\n",
    "print(\"Max salary square\",f\"{np.square(np.max(y)):,.0f}\")"
   ]
  },
  {
   "cell_type": "markdown",
   "id": "1937842b",
   "metadata": {},
   "source": [
    "## Scaling numeric features using min-max scaling"
   ]
  },
  {
   "cell_type": "code",
   "execution_count": null,
   "id": "c8337b8f",
   "metadata": {},
   "outputs": [],
   "source": [
    "scaler = StandardScaler()\n",
    "X_train_scaled = scaler.fit_transform(X_train)\n",
    "Xtrain = pd.DataFrame(X_train_scaled, columns=X_train.columns)\n",
    "X_test_scaled = scaler.transform(X_test)\n",
    "Xtest = pd.DataFrame(X_test_scaled, columns=X_test.columns)\n",
    "\n"
   ]
  },
  {
   "cell_type": "code",
   "execution_count": 33,
   "id": "1a255219",
   "metadata": {},
   "outputs": [],
   "source": [
    "scaler = MinMaxScaler()\n",
    "# scaler = StandardScaler()\n",
    "# columns_to_scale = ['age','high_school_gpa', 'sat_score', 'university_ranking','university_gpa','internships_completed','projects_completed','soft_skills_score','networking_score','job_offers']\n",
    "columns_to_scale = ['age','high_school_gpa', 'sat_score', 'university_ranking','university_gpa']\n",
    "# columns_to_scale = ['university_ranking','university_gpa']\n",
    "X_train[columns_to_scale] = scaler.fit_transform(X_train[columns_to_scale])\n",
    "X_test[columns_to_scale] = scaler.transform(X_test[columns_to_scale])"
   ]
  },
  {
   "cell_type": "markdown",
   "id": "141c7a80",
   "metadata": {},
   "source": [
    "## Define a function to calculate regression models metrics"
   ]
  },
  {
   "cell_type": "code",
   "execution_count": 34,
   "id": "fc09fe81",
   "metadata": {},
   "outputs": [],
   "source": [
    "def regression_model_metrics(model, model_name, y_train, y_train_pred, y_test, y_test_pred):\n",
    "\n",
    "    # Calculate the metrics\n",
    "    mae_train = mean_absolute_error(y_train, y_train_pred)\n",
    "    mae_test = mean_absolute_error(y_test, y_test_pred)\n",
    "    mse_train = mean_squared_error(y_train, y_train_pred)\n",
    "    mse_test = mean_squared_error(y_test, y_test_pred)\n",
    "    root_mean_squared_error_train = np.sqrt(mse_train)\n",
    "    root_mean_squared_error_test = np.sqrt(mse_test)\n",
    "    r2_train = r2_score(y_train, y_train_pred)\n",
    "    r2_test = r2_score(y_test, y_test_pred)\n",
    "\n",
    "    # Check for overfitting or underfitting\n",
    "    if r2_train < 0 or r2_test < 0:\n",
    "        conclusion = \"Poor model, worse than mean\"\n",
    "    elif mse_train < mse_test or r2_train > r2_test:\n",
    "        if abs(r2_train - r2_test) > 0.1:\n",
    "            conclusion = \"May be overfitting\"\n",
    "        else:\n",
    "            conclusion = \"Model OK, check for slight overfitting\"\n",
    "    elif mse_train > mse_test and r2_train < r2_test:\n",
    "        conclusion = \"May be underfitting\"\n",
    "    else:\n",
    "        conclusion = \"Good model\"\n",
    "    \n",
    "    metrics_dict = {\n",
    "        \"MODEL NAME\": model_name,\n",
    "        \"MSE TRAIN\": mse_train,\n",
    "        \"MSE TEST\": mse_test,\n",
    "        \"R2 TRAIN\": r2_train,\n",
    "        \"R2 TEST\": r2_test,\n",
    "        \"MAE TRAIN\": mae_train,\n",
    "        \"MAE TEST\": mae_test,        \n",
    "        \"RMSE TRAIN\": root_mean_squared_error_train,\n",
    "        \"RMSE TEST\": root_mean_squared_error_test,\n",
    "        \"CONCLUSION\": conclusion\n",
    "    }   \n",
    "    \n",
    "    metrics_df = pd.DataFrame(metrics_dict, index=[0])\n",
    "\n",
    "    # Print the metrics\n",
    "    for key, value in metrics_dict.items():\n",
    "        if isinstance(value, (int, float)) and value > 1000:\n",
    "            print(f\"{key}: {value:,.0f}\")\n",
    "        else:\n",
    "            print(f\"{key}: {value}\")\n",
    "    \n",
    "    \n",
    "    # print the intercept and coefficients if those attributes exist\n",
    "    if hasattr(model, 'intercept_') and hasattr(model, 'coef_'):\n",
    "        print(\"-----------------\")\n",
    "        print(\"Intercept:\", model.intercept_)\n",
    "        print(\"Coefficients:\", model.coef_)\n",
    "\n",
    "    # print feature importances if that attribute exists\n",
    "    if hasattr(model, 'feature_importances_'):\n",
    "        print(\"-----------------\")\n",
    "        print(\"FEATURE IMPORTANCES:\")\n",
    "        feature_importances = sorted(zip(X.columns, model.feature_importances_), key=lambda x: x[1], reverse=True)\n",
    "        for feature, importance in feature_importances:\n",
    "            print(f\"{feature}: {importance:.4f}\")\n",
    "\n",
    "    return metrics_df"
   ]
  },
  {
   "cell_type": "markdown",
   "id": "cbc862b3",
   "metadata": {},
   "source": [
    "## Linear Regression"
   ]
  },
  {
   "cell_type": "code",
   "execution_count": 35,
   "id": "84e8e3e9",
   "metadata": {},
   "outputs": [
    {
     "name": "stdout",
     "output_type": "stream",
     "text": [
      "MODEL NAME: Linear\n",
      "MSE TRAIN: 205.31275116024113\n",
      "MSE TEST: 206.90831449968013\n",
      "R2 TRAIN: 0.0012701655167836057\n",
      "R2 TEST: -0.004875299833773106\n",
      "MAE TRAIN: 11.693895932889658\n",
      "MAE TEST: 11.760136980542695\n",
      "RMSE TRAIN: 14.328738645122995\n",
      "RMSE TEST: 14.384307925641751\n",
      "CONCLUSION: Poor model, worse than mean\n",
      "-----------------\n",
      "Intercept: 50.321136222830454\n",
      "Coefficients: [ 0.53182051 -0.76242446 -0.60080317  1.36230908 -0.03603716  0.00454221]\n"
     ]
    }
   ],
   "source": [
    "lin_reg = LinearRegression()\n",
    "lin_reg.fit(X_train, y_train)\n",
    "y_train_pred_lin_reg = lin_reg.predict(X_train)\n",
    "y_test_pred_lin_reg = lin_reg.predict(X_test)\n",
    "lin_reg_results_df = regression_model_metrics(lin_reg, \"Linear\", y_train, y_train_pred_lin_reg, y_test, y_test_pred_lin_reg)\n",
    "eval_regression_results_df = lin_reg_results_df.copy()\n",
    "#eval_regression_results_df"
   ]
  },
  {
   "cell_type": "code",
   "execution_count": 36,
   "id": "2ea1d874",
   "metadata": {},
   "outputs": [
    {
     "data": {
      "text/html": [
       "<div>\n",
       "<style scoped>\n",
       "    .dataframe tbody tr th:only-of-type {\n",
       "        vertical-align: middle;\n",
       "    }\n",
       "\n",
       "    .dataframe tbody tr th {\n",
       "        vertical-align: top;\n",
       "    }\n",
       "\n",
       "    .dataframe thead th {\n",
       "        text-align: right;\n",
       "    }\n",
       "</style>\n",
       "<table border=\"1\" class=\"dataframe\">\n",
       "  <thead>\n",
       "    <tr style=\"text-align: right;\">\n",
       "      <th></th>\n",
       "      <th>y_train_actual</th>\n",
       "      <th>y_train_pred_lin_reg</th>\n",
       "    </tr>\n",
       "  </thead>\n",
       "  <tbody>\n",
       "    <tr>\n",
       "      <th>1513</th>\n",
       "      <td>56.9</td>\n",
       "      <td>50.194702</td>\n",
       "    </tr>\n",
       "    <tr>\n",
       "      <th>4450</th>\n",
       "      <td>47.9</td>\n",
       "      <td>51.208937</td>\n",
       "    </tr>\n",
       "    <tr>\n",
       "      <th>1760</th>\n",
       "      <td>71.1</td>\n",
       "      <td>50.622653</td>\n",
       "    </tr>\n",
       "    <tr>\n",
       "      <th>3059</th>\n",
       "      <td>25.5</td>\n",
       "      <td>50.976659</td>\n",
       "    </tr>\n",
       "    <tr>\n",
       "      <th>1489</th>\n",
       "      <td>56.7</td>\n",
       "      <td>50.334526</td>\n",
       "    </tr>\n",
       "    <tr>\n",
       "      <th>4223</th>\n",
       "      <td>25.0</td>\n",
       "      <td>51.317956</td>\n",
       "    </tr>\n",
       "    <tr>\n",
       "      <th>203</th>\n",
       "      <td>37.3</td>\n",
       "      <td>50.710035</td>\n",
       "    </tr>\n",
       "    <tr>\n",
       "      <th>929</th>\n",
       "      <td>54.1</td>\n",
       "      <td>50.031137</td>\n",
       "    </tr>\n",
       "    <tr>\n",
       "      <th>2949</th>\n",
       "      <td>60.5</td>\n",
       "      <td>50.166961</td>\n",
       "    </tr>\n",
       "    <tr>\n",
       "      <th>1675</th>\n",
       "      <td>73.9</td>\n",
       "      <td>50.966723</td>\n",
       "    </tr>\n",
       "  </tbody>\n",
       "</table>\n",
       "</div>"
      ],
      "text/plain": [
       "      y_train_actual  y_train_pred_lin_reg\n",
       "1513            56.9             50.194702\n",
       "4450            47.9             51.208937\n",
       "1760            71.1             50.622653\n",
       "3059            25.5             50.976659\n",
       "1489            56.7             50.334526\n",
       "4223            25.0             51.317956\n",
       "203             37.3             50.710035\n",
       "929             54.1             50.031137\n",
       "2949            60.5             50.166961\n",
       "1675            73.9             50.966723"
      ]
     },
     "metadata": {},
     "output_type": "display_data"
    }
   ],
   "source": [
    "# Create a DataFrame to compare actual and predicted values side by side\n",
    "comparison_df = pd.DataFrame({\n",
    "\t'y_train_actual': y_train.values,\n",
    "\t'y_train_pred_lin_reg': y_train_pred_lin_reg\n",
    "}, index=y_train.index)\n",
    "\n",
    "display(comparison_df.head(10))"
   ]
  },
  {
   "cell_type": "code",
   "execution_count": 37,
   "id": "12ec9584",
   "metadata": {},
   "outputs": [
    {
     "data": {
      "text/plain": [
       "numpy.ndarray"
      ]
     },
     "execution_count": 37,
     "metadata": {},
     "output_type": "execute_result"
    }
   ],
   "source": [
    "type(y_train.values)"
   ]
  },
  {
   "cell_type": "markdown",
   "id": "c6017af8",
   "metadata": {},
   "source": [
    "## Polynomial Regression"
   ]
  },
  {
   "cell_type": "code",
   "execution_count": 38,
   "id": "514ab60e",
   "metadata": {},
   "outputs": [
    {
     "name": "stdout",
     "output_type": "stream",
     "text": [
      "MODEL NAME: Polynomial\n",
      "MSE TRAIN: 204.31685563676004\n",
      "MSE TEST: 208.91342711785273\n",
      "R2 TRAIN: 0.006114631170807128\n",
      "R2 TEST: -0.014613372217470388\n",
      "MAE TRAIN: 11.665142551363873\n",
      "MAE TEST: 11.823015365320087\n",
      "RMSE TRAIN: 14.293944719242482\n",
      "RMSE TEST: 14.453837798932598\n",
      "CONCLUSION: Poor model, worse than mean\n",
      "-----------------\n",
      "Intercept: 49.52601746718276\n",
      "Coefficients: [-1.67245729e-16 -2.40473972e+00  1.36408673e+00  9.51528101e-01\n",
      " -3.30409178e+00  7.44255198e+00 -1.08337352e-01  3.21691738e+00\n",
      " -2.16660874e+00 -1.02916144e-01 -3.15411459e-01  1.63845483e+00\n",
      "  3.14587814e-01 -2.03582218e+00  2.98156450e+00  5.10055471e+00\n",
      " -3.10644564e+00 -3.06464836e+00 -1.71944839e+00 -6.18280694e-01\n",
      " -2.46529035e+00  5.46146111e-01  3.46174972e+00 -3.11788515e+00\n",
      "  1.57468967e+00 -4.37548766e+00  1.05314116e+00 -1.08337352e-01]\n"
     ]
    }
   ],
   "source": [
    "# polynomial regression\n",
    "poly = PolynomialFeatures(degree=2)\n",
    "X_train_poly = poly.fit_transform(X_train)\n",
    "X_test_poly = poly.transform(X_test)\n",
    "poly_reg = LinearRegression()\n",
    "poly_reg.fit(X_train_poly, y_train)\n",
    "y_train_pred_poly = poly_reg.predict(X_train_poly)\n",
    "y_test_pred_poly = poly_reg.predict(X_test_poly)\n",
    "poly_reg_results_df = regression_model_metrics(poly_reg, \"Polynomial\", y_train, y_train_pred_poly, y_test, y_test_pred_poly)\n",
    "eval_regression_results_df = pd.concat([eval_regression_results_df, poly_reg_results_df], ignore_index=True)\n",
    "#eval_regression_results_df"
   ]
  },
  {
   "cell_type": "code",
   "execution_count": 39,
   "id": "1a108352",
   "metadata": {},
   "outputs": [
    {
     "name": "stdout",
     "output_type": "stream",
     "text": [
      "poly_reg.coef_ size: 28\n",
      "(3837, 6)\n"
     ]
    }
   ],
   "source": [
    "# Print all coefficients in a column\n",
    "print(\"poly_reg.coef_ size:\", poly_reg.coef_.size)\n",
    "print(X_train.shape)\n",
    "# for coef in poly_reg.coef_:\n",
    "# \tprint(coef)"
   ]
  },
  {
   "cell_type": "markdown",
   "id": "f61fed3e",
   "metadata": {},
   "source": [
    "## Lasso Regression"
   ]
  },
  {
   "cell_type": "code",
   "execution_count": 40,
   "id": "8f78548d",
   "metadata": {},
   "outputs": [
    {
     "name": "stdout",
     "output_type": "stream",
     "text": [
      "MODEL NAME: Lasso\n",
      "MSE TRAIN: 205.57386399343756\n",
      "MSE TEST: 206.0694688322292\n",
      "R2 TRAIN: 0.0\n",
      "R2 TEST: -0.0008013442093590672\n",
      "MAE TRAIN: 11.705321686724648\n",
      "MAE TEST: 11.7436150475632\n",
      "RMSE TRAIN: 14.337847257989518\n",
      "RMSE TEST: 14.355119951857915\n",
      "CONCLUSION: Poor model, worse than mean\n",
      "-----------------\n",
      "Intercept: 50.572348188689084\n",
      "Coefficients: [ 0. -0. -0.  0. -0.  0.]\n"
     ]
    }
   ],
   "source": [
    "lasso_reg = Lasso(alpha=1, max_iter=10000)\n",
    "lasso_reg.fit(X_train, y_train)\n",
    "y_train_pred_lasso = lasso_reg.predict(X_train)\n",
    "y_test_pred_lasso = lasso_reg.predict(X_test)\n",
    "lasso_reg_results_df = regression_model_metrics(lasso_reg, \"Lasso\", y_train, y_train_pred_lasso, y_test, y_test_pred_lasso)\n",
    "eval_regression_results_df = pd.concat([eval_regression_results_df, lasso_reg_results_df], ignore_index=True)\n",
    "#eval_regression_results_df"
   ]
  },
  {
   "cell_type": "markdown",
   "id": "2040289b",
   "metadata": {},
   "source": [
    "## Lasso Cross-Validation"
   ]
  },
  {
   "cell_type": "code",
   "execution_count": 41,
   "id": "865a6e90",
   "metadata": {},
   "outputs": [
    {
     "name": "stdout",
     "output_type": "stream",
     "text": [
      "Lasso Best alpha: 969\n",
      "----------\n",
      "MODEL NAME: LassoCV\n",
      "MSE TRAIN: 205.57386399343756\n",
      "MSE TEST: 206.0694688322292\n",
      "R2 TRAIN: 0.0\n",
      "R2 TEST: -0.0008013442093590672\n",
      "MAE TRAIN: 11.705321686724648\n",
      "MAE TEST: 11.7436150475632\n",
      "RMSE TRAIN: 14.337847257989518\n",
      "RMSE TEST: 14.355119951857915\n",
      "CONCLUSION: Poor model, worse than mean\n",
      "-----------------\n",
      "Intercept: 50.572348188689084\n",
      "Coefficients: [ 0. -0. -0.  0. -0.  0.]\n"
     ]
    }
   ],
   "source": [
    "lasso_cv_model = LassoCV(alphas = np.random.randint(0, 1000, 100), cv =10, max_iter=10000, n_jobs=-1).fit(X_train, y_train)\n",
    "print(\"Lasso Best alpha:\", lasso_cv_model.alpha_)\n",
    "print(\"----------\")\n",
    "lasso_reg_cv = Lasso(alpha=lasso_cv_model.alpha_, max_iter=10000)\n",
    "lasso_reg_cv.fit(X_train, y_train)\n",
    "y_train_pred_lasso_cv = lasso_reg_cv.predict(X_train)\n",
    "y_test_pred_lasso_cv = lasso_reg_cv.predict(X_test)\n",
    "lasso_reg_cv_results_df = regression_model_metrics(lasso_reg_cv, \"LassoCV\", y_train, y_train_pred_lasso_cv, y_test, y_test_pred_lasso_cv)\n",
    "eval_regression_results_df = pd.concat([eval_regression_results_df, lasso_reg_cv_results_df], ignore_index=True)\n",
    "#eval_regression_results_df"
   ]
  },
  {
   "cell_type": "code",
   "execution_count": 42,
   "id": "f1254833",
   "metadata": {},
   "outputs": [
    {
     "data": {
      "text/plain": [
       "age                   0.0\n",
       "high_school_gpa      -0.0\n",
       "sat_score            -0.0\n",
       "university_ranking    0.0\n",
       "university_gpa       -0.0\n",
       "is_male               0.0\n",
       "dtype: float64"
      ]
     },
     "execution_count": 42,
     "metadata": {},
     "output_type": "execute_result"
    }
   ],
   "source": [
    "pd.Series(lasso_reg_cv.coef_, index=X_train.columns)"
   ]
  },
  {
   "cell_type": "markdown",
   "id": "dc22bc2a",
   "metadata": {},
   "source": [
    "## Ridge Regression"
   ]
  },
  {
   "cell_type": "code",
   "execution_count": 43,
   "id": "788b7d55",
   "metadata": {},
   "outputs": [
    {
     "name": "stdout",
     "output_type": "stream",
     "text": [
      "MODEL NAME: Ridge\n",
      "MSE TRAIN: 205.31281147458031\n",
      "MSE TEST: 206.8912123353546\n",
      "R2 TRAIN: 0.0012698721218061815\n",
      "R2 TEST: -0.004792241100507466\n",
      "MAE TRAIN: 11.693967136893146\n",
      "MAE TEST: 11.759757416907648\n",
      "RMSE TRAIN: 14.328740749786085\n",
      "RMSE TEST: 14.38371344039343\n",
      "CONCLUSION: Poor model, worse than mean\n",
      "-----------------\n",
      "Intercept: 50.32400770992655\n",
      "Coefficients: [ 0.52534077 -0.75002069 -0.59135642  1.34143268 -0.03636201  0.00471047]\n"
     ]
    }
   ],
   "source": [
    "ridge_reg = Ridge(alpha=5, max_iter=10000)\n",
    "ridge_reg.fit(X_train, y_train)\n",
    "y_train_pred_ridge = ridge_reg.predict(X_train)\n",
    "y_test_pred_ridge = ridge_reg.predict(X_test)\n",
    "ridge_reg_results_df = regression_model_metrics(ridge_reg, \"Ridge\", y_train, y_train_pred_ridge, y_test, y_test_pred_ridge)\n",
    "eval_regression_results_df = pd.concat([eval_regression_results_df, ridge_reg_results_df], ignore_index=True)\n",
    "#eval_regression_results_df"
   ]
  },
  {
   "cell_type": "markdown",
   "id": "73d536aa",
   "metadata": {},
   "source": [
    "## Ridge Cross-Validation"
   ]
  },
  {
   "cell_type": "code",
   "execution_count": 44,
   "id": "0725fd3d",
   "metadata": {},
   "outputs": [
    {
     "name": "stdout",
     "output_type": "stream",
     "text": [
      "Ridge Best alpha: 992\n",
      "----------\n",
      "MODEL NAME: RidgeCV\n",
      "MSE TRAIN: 205.46054200138278\n",
      "MSE TEST: 206.22207799508797\n",
      "R2 TRAIN: 0.0005512470790468571\n",
      "R2 TEST: -0.0015425090999816593\n",
      "MAE TRAIN: 11.701161959733422\n",
      "MAE TEST: 11.745989481033224\n",
      "RMSE TRAIN: 14.33389486501777\n",
      "RMSE TEST: 14.36043446400867\n",
      "CONCLUSION: Poor model, worse than mean\n",
      "-----------------\n",
      "Intercept: 50.495921899794325\n",
      "Coefficients: [ 0.1535679  -0.17775484 -0.14435339  0.33396984 -0.01966679  0.00676119]\n"
     ]
    }
   ],
   "source": [
    "ridge_cv_model = RidgeCV(alphas = np.random.randint(0, 1000, 100), cv =10).fit(X_train, y_train)\n",
    "print(\"Ridge Best alpha:\", ridge_cv_model.alpha_)\n",
    "print(\"----------\")\n",
    "ridge_reg_cv = Ridge(alpha=ridge_cv_model.alpha_, max_iter=10000)\n",
    "ridge_reg_cv.fit(X_train, y_train)\n",
    "y_train_pred_ridge_cv = ridge_reg_cv.predict(X_train)\n",
    "y_test_pred_ridge_cv = ridge_reg_cv.predict(X_test)\n",
    "ridge_reg_cv_results_df = regression_model_metrics(ridge_reg_cv, \"RidgeCV\", y_train, y_train_pred_ridge_cv, y_test, y_test_pred_ridge_cv)\n",
    "eval_regression_results_df = pd.concat([eval_regression_results_df, ridge_reg_cv_results_df], ignore_index=True)\n",
    "#eval_regression_results_df"
   ]
  },
  {
   "cell_type": "markdown",
   "id": "61fc2ecc",
   "metadata": {},
   "source": [
    "## Decision Tree Regressor\n"
   ]
  },
  {
   "cell_type": "code",
   "execution_count": 45,
   "id": "261a6b87",
   "metadata": {},
   "outputs": [
    {
     "name": "stdout",
     "output_type": "stream",
     "text": [
      "MODEL NAME: Decision Tree Regressor\n",
      "MSE TRAIN: 0.0\n",
      "MSE TEST: 437.3778541666667\n",
      "R2 TRAIN: 1.0\n",
      "R2 TEST: -1.1241785445362606\n",
      "MAE TRAIN: 0.0\n",
      "MAE TEST: 16.973333333333336\n",
      "RMSE TRAIN: 0.0\n",
      "RMSE TEST: 20.913580615635063\n",
      "CONCLUSION: Poor model, worse than mean\n",
      "-----------------\n",
      "FEATURE IMPORTANCES:\n",
      "sat_score: 0.2432\n",
      "university_ranking: 0.2246\n",
      "university_gpa: 0.1942\n",
      "high_school_gpa: 0.1804\n",
      "age: 0.1347\n",
      "is_male: 0.0230\n"
     ]
    }
   ],
   "source": [
    "# decision tree regressor\n",
    "decision_tree_reg = DecisionTreeRegressor(random_state=42)\n",
    "decision_tree_reg.fit(X_train, y_train)\n",
    "y_train_pred_decision_tree = decision_tree_reg.predict(X_train)\n",
    "y_test_pred_decision_tree = decision_tree_reg.predict(X_test)\n",
    "decision_tree_reg_results_df = regression_model_metrics(decision_tree_reg, \"Decision Tree Regressor\", y_train, y_train_pred_decision_tree, y_test, y_test_pred_decision_tree)\n",
    "eval_regression_results_df = pd.concat([eval_regression_results_df, decision_tree_reg_results_df], ignore_index=True)\n",
    "#eval_regression_results_df\n"
   ]
  },
  {
   "cell_type": "markdown",
   "id": "4d94b999",
   "metadata": {},
   "source": [
    "## Define a function to calculate classification models metric\n"
   ]
  },
  {
   "cell_type": "markdown",
   "id": "010df765",
   "metadata": {},
   "source": [
    "# <span style=\"font-size: 42px; font-weight: bold\">Conclusion (README)</span>"
   ]
  },
  {
   "cell_type": "code",
   "execution_count": 46,
   "id": "37ba5a01",
   "metadata": {},
   "outputs": [
    {
     "data": {
      "text/plain": [
       "count    4797.000000\n",
       "mean       50.491057\n",
       "std        14.342570\n",
       "min        25.000000\n",
       "25%        40.200000\n",
       "50%        50.300000\n",
       "75%        60.400000\n",
       "max        90.900000\n",
       "Name: starting_salary, dtype: float64"
      ]
     },
     "execution_count": 46,
     "metadata": {},
     "output_type": "execute_result"
    }
   ],
   "source": [
    "# Description of starting salary (in thousand dollars)\n",
    "y.describe()"
   ]
  },
  {
   "cell_type": "code",
   "execution_count": 47,
   "id": "34ed0d67",
   "metadata": {},
   "outputs": [
    {
     "data": {
      "text/html": [
       "<div>\n",
       "<style scoped>\n",
       "    .dataframe tbody tr th:only-of-type {\n",
       "        vertical-align: middle;\n",
       "    }\n",
       "\n",
       "    .dataframe tbody tr th {\n",
       "        vertical-align: top;\n",
       "    }\n",
       "\n",
       "    .dataframe thead th {\n",
       "        text-align: right;\n",
       "    }\n",
       "</style>\n",
       "<table border=\"1\" class=\"dataframe\">\n",
       "  <thead>\n",
       "    <tr style=\"text-align: right;\">\n",
       "      <th></th>\n",
       "      <th>MODEL NAME</th>\n",
       "      <th>MSE TRAIN</th>\n",
       "      <th>MSE TEST</th>\n",
       "      <th>R2 TRAIN</th>\n",
       "      <th>R2 TEST</th>\n",
       "      <th>MAE TRAIN</th>\n",
       "      <th>MAE TEST</th>\n",
       "      <th>RMSE TRAIN</th>\n",
       "      <th>RMSE TEST</th>\n",
       "      <th>CONCLUSION</th>\n",
       "    </tr>\n",
       "  </thead>\n",
       "  <tbody>\n",
       "    <tr>\n",
       "      <th>0</th>\n",
       "      <td>Linear</td>\n",
       "      <td>205.312751</td>\n",
       "      <td>206.908314</td>\n",
       "      <td>0.001270</td>\n",
       "      <td>-0.004875</td>\n",
       "      <td>11.693896</td>\n",
       "      <td>11.760137</td>\n",
       "      <td>14.328739</td>\n",
       "      <td>14.384308</td>\n",
       "      <td>Poor model, worse than mean</td>\n",
       "    </tr>\n",
       "    <tr>\n",
       "      <th>1</th>\n",
       "      <td>Polynomial</td>\n",
       "      <td>204.316856</td>\n",
       "      <td>208.913427</td>\n",
       "      <td>0.006115</td>\n",
       "      <td>-0.014613</td>\n",
       "      <td>11.665143</td>\n",
       "      <td>11.823015</td>\n",
       "      <td>14.293945</td>\n",
       "      <td>14.453838</td>\n",
       "      <td>Poor model, worse than mean</td>\n",
       "    </tr>\n",
       "    <tr>\n",
       "      <th>2</th>\n",
       "      <td>Lasso</td>\n",
       "      <td>205.573864</td>\n",
       "      <td>206.069469</td>\n",
       "      <td>0.000000</td>\n",
       "      <td>-0.000801</td>\n",
       "      <td>11.705322</td>\n",
       "      <td>11.743615</td>\n",
       "      <td>14.337847</td>\n",
       "      <td>14.355120</td>\n",
       "      <td>Poor model, worse than mean</td>\n",
       "    </tr>\n",
       "    <tr>\n",
       "      <th>3</th>\n",
       "      <td>LassoCV</td>\n",
       "      <td>205.573864</td>\n",
       "      <td>206.069469</td>\n",
       "      <td>0.000000</td>\n",
       "      <td>-0.000801</td>\n",
       "      <td>11.705322</td>\n",
       "      <td>11.743615</td>\n",
       "      <td>14.337847</td>\n",
       "      <td>14.355120</td>\n",
       "      <td>Poor model, worse than mean</td>\n",
       "    </tr>\n",
       "    <tr>\n",
       "      <th>4</th>\n",
       "      <td>Ridge</td>\n",
       "      <td>205.312811</td>\n",
       "      <td>206.891212</td>\n",
       "      <td>0.001270</td>\n",
       "      <td>-0.004792</td>\n",
       "      <td>11.693967</td>\n",
       "      <td>11.759757</td>\n",
       "      <td>14.328741</td>\n",
       "      <td>14.383713</td>\n",
       "      <td>Poor model, worse than mean</td>\n",
       "    </tr>\n",
       "    <tr>\n",
       "      <th>5</th>\n",
       "      <td>RidgeCV</td>\n",
       "      <td>205.460542</td>\n",
       "      <td>206.222078</td>\n",
       "      <td>0.000551</td>\n",
       "      <td>-0.001543</td>\n",
       "      <td>11.701162</td>\n",
       "      <td>11.745989</td>\n",
       "      <td>14.333895</td>\n",
       "      <td>14.360434</td>\n",
       "      <td>Poor model, worse than mean</td>\n",
       "    </tr>\n",
       "    <tr>\n",
       "      <th>6</th>\n",
       "      <td>Decision Tree Regressor</td>\n",
       "      <td>0.000000</td>\n",
       "      <td>437.377854</td>\n",
       "      <td>1.000000</td>\n",
       "      <td>-1.124179</td>\n",
       "      <td>0.000000</td>\n",
       "      <td>16.973333</td>\n",
       "      <td>0.000000</td>\n",
       "      <td>20.913581</td>\n",
       "      <td>Poor model, worse than mean</td>\n",
       "    </tr>\n",
       "  </tbody>\n",
       "</table>\n",
       "</div>"
      ],
      "text/plain": [
       "                MODEL NAME   MSE TRAIN    MSE TEST  R2 TRAIN   R2 TEST  \\\n",
       "0                   Linear  205.312751  206.908314  0.001270 -0.004875   \n",
       "1               Polynomial  204.316856  208.913427  0.006115 -0.014613   \n",
       "2                    Lasso  205.573864  206.069469  0.000000 -0.000801   \n",
       "3                  LassoCV  205.573864  206.069469  0.000000 -0.000801   \n",
       "4                    Ridge  205.312811  206.891212  0.001270 -0.004792   \n",
       "5                  RidgeCV  205.460542  206.222078  0.000551 -0.001543   \n",
       "6  Decision Tree Regressor    0.000000  437.377854  1.000000 -1.124179   \n",
       "\n",
       "   MAE TRAIN   MAE TEST  RMSE TRAIN  RMSE TEST                   CONCLUSION  \n",
       "0  11.693896  11.760137   14.328739  14.384308  Poor model, worse than mean  \n",
       "1  11.665143  11.823015   14.293945  14.453838  Poor model, worse than mean  \n",
       "2  11.705322  11.743615   14.337847  14.355120  Poor model, worse than mean  \n",
       "3  11.705322  11.743615   14.337847  14.355120  Poor model, worse than mean  \n",
       "4  11.693967  11.759757   14.328741  14.383713  Poor model, worse than mean  \n",
       "5  11.701162  11.745989   14.333895  14.360434  Poor model, worse than mean  \n",
       "6   0.000000  16.973333    0.000000  20.913581  Poor model, worse than mean  "
      ]
     },
     "execution_count": 47,
     "metadata": {},
     "output_type": "execute_result"
    }
   ],
   "source": [
    "eval_regression_results_df"
   ]
  },
  {
   "cell_type": "markdown",
   "id": "766eb452",
   "metadata": {},
   "source": [
    "<b>Objective</b>: predict the starting salary of a student after graduation based on input variables such as GPA, SAT score, university ranking, gender, etc.\n",
    "\n",
    "<b>Data source</b>: https://www.kaggle.com/datasets/adilshamim8/education-and-career-success\n",
    "\n",
    "<b>List of available input variables</b>:\n",
    "- student_id\n",
    "- age\n",
    "- gender\n",
    "- high_school_gpa\n",
    "- sat_score\n",
    "- university_ranking\n",
    "- university_gpa\n",
    "- field_of_study\n",
    "- internships_completed\n",
    "- projects_completed\n",
    "- certifications\n",
    "- soft_skills_score\n",
    "- networking_score\n",
    "- job_offers\n",
    "- career_satisfaction\n",
    "- years_to_promotion\n",
    "- current_job_level\n",
    "- work_life_balance\n",
    "- entrepreneurship\n",
    "\n",
    "<b>Output to predict</b>: starting_salary\n",
    "\n",
    "<b>Approach</b>: Supervised learning - regression models\n",
    "1. Loaded dataset \"education_career_success.csv\"\n",
    "2. Dropping columns that are irrelevant for salary prediction (Student ID, Career Satisfaction, etc.)\n",
    "3. Checked for duplicates and missing values (none were found)\n",
    "4. Removed 12 outliers in starting_salary out of 5000 rows (salaries above $90,950 per year)\n",
    "5. Converted salary values to thousands (salary = salary / 1000) to simplify readability of metrics like MSE\n",
    "6. Dropped rows where gender = 'other' (only 191 out of 4,988 rows)\n",
    "7. One-hot encoded field_of_sudy\n",
    "8. Perpared X and y value for modeling and ested various combinations of input variables. Example:<br>\n",
    "\t\tX = df[['age', 'high_school_gpa', 'sat_score', 'university_ranking','university_gpa', 'is_male']]<br>\n",
    "\t\tX = X = df[['university_ranking','university_gpa', 'is_male']]\n",
    "9. Scaled  input features using MinMaxScaler()\n",
    "10. Defined a function to compute regression models metrics\n",
    "11. Evaluated several models: Linear Regression, Polynomial Regression, Lasso Regression, Lasso Cross-Validation, Ridge Regression, Ridge Cross-Validation, Decision Tree Regressor\n",
    "\n",
    "\n",
    "<b>ANALYSIS</b><br>\n",
    "Several regression models were tested, including linear, polynomial, lasso, ridge, and decision tree. Unfortunately, none of them produced a good fit—no matter which input variables were selected.\n",
    "\n",
    "As the above table shows: R² score on training data is close to zero for all models (except Decision Tree) and the R² score for test data is negative. Thsi means the models performed worse than predicting the salary by calculating the average.\n",
    "\n",
    "The Decision Tree Regressor overfits the training data and is worse than the average for the testing data.\n",
    "\n",
    "These results are surprising. I expected that variables like university ranking, GPA, and field of study would significantly impact salary. I also expected gender to influence the outcome, as many studies show a wage gap favoring men for similar qualifications.\n",
    "\n",
    "Additionally, I tested soft skill factors such as Soft Skills Score, Networking Score, and Entrepreneurship, but they did not improve model performance either.\n",
    "\n",
    "\n",
    "<b>CONCLUSION</b><br>\n",
    "If this dataset accurately reflects reality, then starting salary after graduation appears to be largely random, or at least not strongly influenced by the variables provided.\n",
    "\n",
    "Despite testing multiple regression models with a variety of input features (academic performance, university ranking, soft skills, gender, etc.), none of the models were able to reliably predict starting salary. This suggests that either:\n",
    "- Important factors influencing salary are missing from the dataset (e.g., personal connections, location, industry-specific demand), or\n",
    "- Salary outcomes are highly variable and not easily explained by structured data alone.\n",
    "\n",
    "In short, there is no strong, predictable pattern between the available input features and starting salary based on this data.\n"
   ]
  },
  {
   "cell_type": "code",
   "execution_count": 48,
   "id": "a0d7da1b",
   "metadata": {},
   "outputs": [],
   "source": [
    "# def classification_model_metrics(model, model_name, y_train, y_train_pred, y_test, y_test_pred):\n",
    "#     # Calculate metrics\n",
    "#     accuracy_train = accuracy_score(y_train, y_train_pred)\n",
    "#     accuracy_test = accuracy_score(y_test, y_test_pred)\n",
    "#     precision_score_train = precision_score(y_train, y_train_pred, average='weighted')\n",
    "#     precision_score_test = precision_score(y_test, y_test_pred, average='weighted')\n",
    "#     recall_score_train = recall_score(y_train, y_train_pred, average='weighted')\n",
    "#     recall_score_test = recall_score(y_test, y_test_pred, average='weighted')\n",
    "#     f1_train = f1_score(y_train, y_train_pred, average='weighted')\n",
    "#     f1_test = f1_score(y_test, y_test_pred, average='weighted')\n",
    "\n",
    "#     # Confusion matrix and classification report\n",
    "#     conf_matrix = confusion_matrix(y_test, y_test_pred)\n",
    "#     class_report = classification_report(y_test, y_test_pred)    \n",
    "\n",
    "#     # Compute ROC curve and AUC\n",
    "#     fpr, tpr, thresholds = roc_curve(y_test, y_test_pred)\n",
    "#     roc_auc = auc(fpr, tpr)\n",
    "\n",
    "#     # Compute Youden's J statistic for each threshold\n",
    "#     youden_j = tpr - fpr\n",
    "#     optimal_threshold_index = np.argmax(youden_j)\n",
    "#     optimal_threshold = thresholds[optimal_threshold_index]\n",
    "\n",
    "#     # Plot ROC curve with the optimal threshold marked\n",
    "#     plt.figure(figsize=(10, 6))\n",
    "#     #plt.plot(fpr, tpr, label=f\"ROC Curve (AUC = {roc_auc:.2f})\")\n",
    "#     plt.plot(fpr, tpr, color='blue', lw=2, label=f'ROC curve (area = {roc_auc:.2f})')\n",
    "#     plt.plot([0, 1], [0, 1], 'k--')\n",
    "#     #plt.scatter(fpr[optimal_threshold_index], tpr[optimal_threshold_index], color='red', label=\"Optimal Threshold\")\n",
    "#     plt.scatter(fpr[optimal_threshold_index], tpr[optimal_threshold_index], color='red', marker='o', label=f'Optimal Threshold = {optimal_threshold:.4f}')\n",
    "#     plt.xlabel(\"False Positive Rate\")\n",
    "#     plt.ylabel(\"True Positive Rate\")\n",
    "#     plt.title(f\"ROC Curve - {model_name}\")\n",
    "#     #plt.legend()\n",
    "#     plt.legend(loc='lower right')\n",
    "#     plt.show()\n",
    "\n",
    "#     # Create a DataFrame to hold the results\n",
    "#     metrics_df = pd.DataFrame({\n",
    "#         'Model': [model_name],\n",
    "#         'Accuracy (Train)': [accuracy_train],\n",
    "#         'Accuracy (Test)': [accuracy_test],\n",
    "#         'Precision Score (Train)': [precision_score_train],\n",
    "#         'Precision Score (Test)': [precision_score_test],\n",
    "#         'Recall Score (Train)': [recall_score_train],\n",
    "#         'Recall Score (Test)': [recall_score_test],\n",
    "#         'F1 Score (Train)': [f1_train],\n",
    "#         'F1 Score (Test)': [f1_test],\n",
    "#         'AUC': [roc_auc],\n",
    "#         \"Youden's J\": [youden_j[optimal_threshold_index]],\n",
    "#         \"Youden's J statistic\": [youden_j],\n",
    "#         \"Optimal Threshold Index\": [optimal_threshold_index],\n",
    "#         \"Optimal Threshold\": [optimal_threshold]\n",
    "#     })\n",
    "\n",
    "#     # Print the metrics\n",
    "#     # print(metrics_df.T)\n",
    "\n",
    "#     # print(\"Confusion Matrix:\")\n",
    "#     # print(conf_matrix)\n",
    "#     # print(\"\\nClassification Report:\")\n",
    "#     # print(class_report)\n",
    "\n",
    "#     return metrics_df"
   ]
  },
  {
   "cell_type": "code",
   "execution_count": null,
   "id": "1590e9ce",
   "metadata": {},
   "outputs": [],
   "source": []
  }
 ],
 "metadata": {
  "kernelspec": {
   "display_name": "Python 3",
   "language": "python",
   "name": "python3"
  },
  "language_info": {
   "codemirror_mode": {
    "name": "ipython",
    "version": 3
   },
   "file_extension": ".py",
   "mimetype": "text/x-python",
   "name": "python",
   "nbconvert_exporter": "python",
   "pygments_lexer": "ipython3",
   "version": "3.13.5"
  }
 },
 "nbformat": 4,
 "nbformat_minor": 5
}
