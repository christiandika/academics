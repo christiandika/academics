{
 "cells": [
  {
   "cell_type": "markdown",
   "id": "69dd387a",
   "metadata": {},
   "source": [
    "## 1. Prepare and read the data"
   ]
  },
  {
   "cell_type": "code",
   "execution_count": 385,
   "id": "e501571a",
   "metadata": {},
   "outputs": [],
   "source": [
    "# import libraries\n",
    "import pandas as pd\n",
    "import numpy as np\n",
    "import matplotlib.pyplot as plt\n",
    "import seaborn as sns\n",
    "import re\n",
    "import nltk\n",
    "from nltk import pos_tag, word_tokenize\n",
    "from nltk.corpus import stopwords, wordnet\n",
    "from nltk.stem import WordNetLemmatizer\n",
    "from sklearn.feature_extraction.text import TfidfVectorizer\n",
    "from sklearn.model_selection import train_test_split\n",
    "from sklearn.ensemble import RandomForestClassifier\n",
    "from sklearn.metrics import accuracy_score\n",
    "from tensorflow.keras.utils import to_categorical\n",
    "from tensorflow.keras.models import Sequential\n",
    "from tensorflow.keras.layers import Dense, Input, Dropout\n",
    "from keras.callbacks import Callback\n",
    "from tensorflow.keras.callbacks import EarlyStopping\n",
    "from transformers import TFBertForSequenceClassification\n",
    "import matplotlib.pyplot as plt\n",
    "from vaderSentiment.vaderSentiment import SentimentIntensityAnalyzer"
   ]
  },
  {
   "cell_type": "code",
   "execution_count": 386,
   "id": "70fc2a7f",
   "metadata": {},
   "outputs": [],
   "source": [
    "# import data from xlsx file\n",
    "complaints_file_name = 'banking_complaints_2023.xlsx'\n",
    "complaints_sheet = 'complaints_banking_2023'\n",
    "department_of_product_sheet = 'department_of_product'\n",
    "\n",
    "df_complaints = pd.read_excel(complaints_file_name, sheet_name=complaints_sheet)\n",
    "df_department_of_product = pd.read_excel(complaints_file_name, sheet_name=department_of_product_sheet)"
   ]
  },
  {
   "cell_type": "code",
   "execution_count": 387,
   "id": "291bb38f",
   "metadata": {},
   "outputs": [
    {
     "data": {
      "text/html": [
       "<div>\n",
       "<style scoped>\n",
       "    .dataframe tbody tr th:only-of-type {\n",
       "        vertical-align: middle;\n",
       "    }\n",
       "\n",
       "    .dataframe tbody tr th {\n",
       "        vertical-align: top;\n",
       "    }\n",
       "\n",
       "    .dataframe thead th {\n",
       "        text-align: right;\n",
       "    }\n",
       "</style>\n",
       "<table border=\"1\" class=\"dataframe\">\n",
       "  <thead>\n",
       "    <tr style=\"text-align: right;\">\n",
       "      <th></th>\n",
       "      <th>complaint_id</th>\n",
       "      <th>date_received</th>\n",
       "      <th>banking_product</th>\n",
       "      <th>issue_id</th>\n",
       "      <th>complaint_description</th>\n",
       "      <th>state</th>\n",
       "      <th>zip</th>\n",
       "      <th>bank_response</th>\n",
       "    </tr>\n",
       "  </thead>\n",
       "  <tbody>\n",
       "    <tr>\n",
       "      <th>0</th>\n",
       "      <td>CID76118977</td>\n",
       "      <td>2023-01-01</td>\n",
       "      <td>Checking or savings account</td>\n",
       "      <td>I_3510635</td>\n",
       "      <td>on XX/XX/XX22 I opened a safe balance account ...</td>\n",
       "      <td>California</td>\n",
       "      <td>92311</td>\n",
       "      <td>Closed with monetary relief</td>\n",
       "    </tr>\n",
       "    <tr>\n",
       "      <th>1</th>\n",
       "      <td>CID98703933</td>\n",
       "      <td>2023-01-01</td>\n",
       "      <td>Credit reporting, credit repair services, or o...</td>\n",
       "      <td>I_3798538</td>\n",
       "      <td>There is an item from Bank of ABC on my credit...</td>\n",
       "      <td>California</td>\n",
       "      <td>91344</td>\n",
       "      <td>Closed with explanation</td>\n",
       "    </tr>\n",
       "    <tr>\n",
       "      <th>2</th>\n",
       "      <td>CID52036665</td>\n",
       "      <td>2023-01-01</td>\n",
       "      <td>Checking or savings account</td>\n",
       "      <td>I_3648593</td>\n",
       "      <td>On XX/XX/XX22 I found out that my account was ...</td>\n",
       "      <td>New York</td>\n",
       "      <td>10466</td>\n",
       "      <td>Closed with monetary relief</td>\n",
       "    </tr>\n",
       "    <tr>\n",
       "      <th>3</th>\n",
       "      <td>CID62581335</td>\n",
       "      <td>2023-01-01</td>\n",
       "      <td>Credit card or prepaid card</td>\n",
       "      <td>I_6999080</td>\n",
       "      <td>I've had a credit card for years with Bank of ...</td>\n",
       "      <td>California</td>\n",
       "      <td>92127</td>\n",
       "      <td>Closed with monetary relief</td>\n",
       "    </tr>\n",
       "    <tr>\n",
       "      <th>4</th>\n",
       "      <td>CID65731164</td>\n",
       "      <td>2023-01-01</td>\n",
       "      <td>Checking or savings account</td>\n",
       "      <td>I_3648593</td>\n",
       "      <td>This issue has to do with the way that Bank of...</td>\n",
       "      <td>New Jersey</td>\n",
       "      <td>7946</td>\n",
       "      <td>Closed with explanation</td>\n",
       "    </tr>\n",
       "  </tbody>\n",
       "</table>\n",
       "</div>"
      ],
      "text/plain": [
       "  complaint_id date_received  \\\n",
       "0  CID76118977    2023-01-01   \n",
       "1  CID98703933    2023-01-01   \n",
       "2  CID52036665    2023-01-01   \n",
       "3  CID62581335    2023-01-01   \n",
       "4  CID65731164    2023-01-01   \n",
       "\n",
       "                                     banking_product   issue_id  \\\n",
       "0                        Checking or savings account  I_3510635   \n",
       "1  Credit reporting, credit repair services, or o...  I_3798538   \n",
       "2                        Checking or savings account  I_3648593   \n",
       "3                        Credit card or prepaid card  I_6999080   \n",
       "4                        Checking or savings account  I_3648593   \n",
       "\n",
       "                               complaint_description       state    zip  \\\n",
       "0  on XX/XX/XX22 I opened a safe balance account ...  California  92311   \n",
       "1  There is an item from Bank of ABC on my credit...  California  91344   \n",
       "2  On XX/XX/XX22 I found out that my account was ...    New York  10466   \n",
       "3  I've had a credit card for years with Bank of ...  California  92127   \n",
       "4  This issue has to do with the way that Bank of...  New Jersey   7946   \n",
       "\n",
       "                 bank_response  \n",
       "0  Closed with monetary relief  \n",
       "1      Closed with explanation  \n",
       "2  Closed with monetary relief  \n",
       "3  Closed with monetary relief  \n",
       "4      Closed with explanation  "
      ]
     },
     "execution_count": 387,
     "metadata": {},
     "output_type": "execute_result"
    }
   ],
   "source": [
    "df_complaints.head()"
   ]
  },
  {
   "cell_type": "code",
   "execution_count": 388,
   "id": "01acf505",
   "metadata": {},
   "outputs": [
    {
     "data": {
      "text/html": [
       "<div>\n",
       "<style scoped>\n",
       "    .dataframe tbody tr th:only-of-type {\n",
       "        vertical-align: middle;\n",
       "    }\n",
       "\n",
       "    .dataframe tbody tr th {\n",
       "        vertical-align: top;\n",
       "    }\n",
       "\n",
       "    .dataframe thead th {\n",
       "        text-align: right;\n",
       "    }\n",
       "</style>\n",
       "<table border=\"1\" class=\"dataframe\">\n",
       "  <thead>\n",
       "    <tr style=\"text-align: right;\">\n",
       "      <th></th>\n",
       "      <th>banking_product</th>\n",
       "      <th>department</th>\n",
       "    </tr>\n",
       "  </thead>\n",
       "  <tbody>\n",
       "    <tr>\n",
       "      <th>0</th>\n",
       "      <td>Checking or savings account</td>\n",
       "      <td>CASA</td>\n",
       "    </tr>\n",
       "    <tr>\n",
       "      <th>1</th>\n",
       "      <td>Credit reporting, credit repair services, or o...</td>\n",
       "      <td>Credit Reports</td>\n",
       "    </tr>\n",
       "    <tr>\n",
       "      <th>2</th>\n",
       "      <td>Credit card or prepaid card</td>\n",
       "      <td>Credit Cards</td>\n",
       "    </tr>\n",
       "    <tr>\n",
       "      <th>3</th>\n",
       "      <td>Debt collection</td>\n",
       "      <td>Loans</td>\n",
       "    </tr>\n",
       "    <tr>\n",
       "      <th>4</th>\n",
       "      <td>Money transfer, virtual currency, or money ser...</td>\n",
       "      <td>Remittance</td>\n",
       "    </tr>\n",
       "    <tr>\n",
       "      <th>5</th>\n",
       "      <td>Mortgage</td>\n",
       "      <td>Mortgage</td>\n",
       "    </tr>\n",
       "    <tr>\n",
       "      <th>6</th>\n",
       "      <td>Vehicle loan or lease</td>\n",
       "      <td>Loans</td>\n",
       "    </tr>\n",
       "    <tr>\n",
       "      <th>7</th>\n",
       "      <td>Payday loan, title loan, or personal loan</td>\n",
       "      <td>Loans</td>\n",
       "    </tr>\n",
       "    <tr>\n",
       "      <th>8</th>\n",
       "      <td>Student loan</td>\n",
       "      <td>Loans</td>\n",
       "    </tr>\n",
       "    <tr>\n",
       "      <th>9</th>\n",
       "      <td>Other financial service</td>\n",
       "      <td>Others</td>\n",
       "    </tr>\n",
       "  </tbody>\n",
       "</table>\n",
       "</div>"
      ],
      "text/plain": [
       "                                     banking_product      department\n",
       "0                        Checking or savings account            CASA\n",
       "1  Credit reporting, credit repair services, or o...  Credit Reports\n",
       "2                        Credit card or prepaid card    Credit Cards\n",
       "3                                    Debt collection           Loans\n",
       "4  Money transfer, virtual currency, or money ser...      Remittance\n",
       "5                                           Mortgage        Mortgage\n",
       "6                              Vehicle loan or lease           Loans\n",
       "7          Payday loan, title loan, or personal loan           Loans\n",
       "8                                       Student loan           Loans\n",
       "9                            Other financial service          Others"
      ]
     },
     "execution_count": 388,
     "metadata": {},
     "output_type": "execute_result"
    }
   ],
   "source": [
    "df_department_of_product"
   ]
  },
  {
   "cell_type": "markdown",
   "id": "bbbf4ff0",
   "metadata": {},
   "source": [
    "## 2. Check the data and fix null values"
   ]
  },
  {
   "cell_type": "code",
   "execution_count": 389,
   "id": "1ffbd3db",
   "metadata": {},
   "outputs": [
    {
     "name": "stdout",
     "output_type": "stream",
     "text": [
      "<class 'pandas.core.frame.DataFrame'>\n",
      "RangeIndex: 7011 entries, 0 to 7010\n",
      "Data columns (total 8 columns):\n",
      " #   Column                 Non-Null Count  Dtype         \n",
      "---  ------                 --------------  -----         \n",
      " 0   complaint_id           7011 non-null   object        \n",
      " 1   date_received          7011 non-null   datetime64[ns]\n",
      " 2   banking_product        7011 non-null   object        \n",
      " 3   issue_id               7011 non-null   object        \n",
      " 4   complaint_description  7011 non-null   object        \n",
      " 5   state                  6984 non-null   object        \n",
      " 6   zip                    6981 non-null   object        \n",
      " 7   bank_response          7011 non-null   object        \n",
      "dtypes: datetime64[ns](1), object(7)\n",
      "memory usage: 438.3+ KB\n"
     ]
    }
   ],
   "source": [
    "df_complaints.info()"
   ]
  },
  {
   "cell_type": "code",
   "execution_count": 390,
   "id": "efc49e13",
   "metadata": {},
   "outputs": [],
   "source": [
    "# Convert date_received to datetime\n",
    "df_complaints['date_received'] = pd.to_datetime(df_complaints['date_received'])"
   ]
  },
  {
   "cell_type": "code",
   "execution_count": 391,
   "id": "dc42783f",
   "metadata": {},
   "outputs": [
    {
     "data": {
      "text/plain": [
       "complaint_id              0\n",
       "date_received             0\n",
       "banking_product           0\n",
       "issue_id                  0\n",
       "complaint_description     0\n",
       "state                    27\n",
       "zip                      30\n",
       "bank_response             0\n",
       "dtype: int64"
      ]
     },
     "execution_count": 391,
     "metadata": {},
     "output_type": "execute_result"
    }
   ],
   "source": [
    "# Check null values\n",
    "df_complaints.isnull().sum()"
   ]
  },
  {
   "cell_type": "code",
   "execution_count": 392,
   "id": "1aff4fa0",
   "metadata": {},
   "outputs": [
    {
     "data": {
      "text/html": [
       "<div>\n",
       "<style scoped>\n",
       "    .dataframe tbody tr th:only-of-type {\n",
       "        vertical-align: middle;\n",
       "    }\n",
       "\n",
       "    .dataframe tbody tr th {\n",
       "        vertical-align: top;\n",
       "    }\n",
       "\n",
       "    .dataframe thead th {\n",
       "        text-align: right;\n",
       "    }\n",
       "</style>\n",
       "<table border=\"1\" class=\"dataframe\">\n",
       "  <thead>\n",
       "    <tr style=\"text-align: right;\">\n",
       "      <th></th>\n",
       "      <th>complaint_id</th>\n",
       "      <th>date_received</th>\n",
       "      <th>banking_product</th>\n",
       "      <th>issue_id</th>\n",
       "      <th>complaint_description</th>\n",
       "      <th>state</th>\n",
       "      <th>zip</th>\n",
       "      <th>bank_response</th>\n",
       "      <th>department</th>\n",
       "    </tr>\n",
       "  </thead>\n",
       "  <tbody>\n",
       "    <tr>\n",
       "      <th>0</th>\n",
       "      <td>CID76118977</td>\n",
       "      <td>2023-01-01</td>\n",
       "      <td>Checking or savings account</td>\n",
       "      <td>I_3510635</td>\n",
       "      <td>on XX/XX/XX22 I opened a safe balance account ...</td>\n",
       "      <td>California</td>\n",
       "      <td>92311</td>\n",
       "      <td>Closed with monetary relief</td>\n",
       "      <td>CASA</td>\n",
       "    </tr>\n",
       "    <tr>\n",
       "      <th>1</th>\n",
       "      <td>CID98703933</td>\n",
       "      <td>2023-01-01</td>\n",
       "      <td>Credit reporting, credit repair services, or o...</td>\n",
       "      <td>I_3798538</td>\n",
       "      <td>There is an item from Bank of ABC on my credit...</td>\n",
       "      <td>California</td>\n",
       "      <td>91344</td>\n",
       "      <td>Closed with explanation</td>\n",
       "      <td>Credit Reports</td>\n",
       "    </tr>\n",
       "    <tr>\n",
       "      <th>2</th>\n",
       "      <td>CID52036665</td>\n",
       "      <td>2023-01-01</td>\n",
       "      <td>Checking or savings account</td>\n",
       "      <td>I_3648593</td>\n",
       "      <td>On XX/XX/XX22 I found out that my account was ...</td>\n",
       "      <td>New York</td>\n",
       "      <td>10466</td>\n",
       "      <td>Closed with monetary relief</td>\n",
       "      <td>CASA</td>\n",
       "    </tr>\n",
       "    <tr>\n",
       "      <th>3</th>\n",
       "      <td>CID62581335</td>\n",
       "      <td>2023-01-01</td>\n",
       "      <td>Credit card or prepaid card</td>\n",
       "      <td>I_6999080</td>\n",
       "      <td>I've had a credit card for years with Bank of ...</td>\n",
       "      <td>California</td>\n",
       "      <td>92127</td>\n",
       "      <td>Closed with monetary relief</td>\n",
       "      <td>Credit Cards</td>\n",
       "    </tr>\n",
       "    <tr>\n",
       "      <th>4</th>\n",
       "      <td>CID65731164</td>\n",
       "      <td>2023-01-01</td>\n",
       "      <td>Checking or savings account</td>\n",
       "      <td>I_3648593</td>\n",
       "      <td>This issue has to do with the way that Bank of...</td>\n",
       "      <td>New Jersey</td>\n",
       "      <td>7946</td>\n",
       "      <td>Closed with explanation</td>\n",
       "      <td>CASA</td>\n",
       "    </tr>\n",
       "  </tbody>\n",
       "</table>\n",
       "</div>"
      ],
      "text/plain": [
       "  complaint_id date_received  \\\n",
       "0  CID76118977    2023-01-01   \n",
       "1  CID98703933    2023-01-01   \n",
       "2  CID52036665    2023-01-01   \n",
       "3  CID62581335    2023-01-01   \n",
       "4  CID65731164    2023-01-01   \n",
       "\n",
       "                                     banking_product   issue_id  \\\n",
       "0                        Checking or savings account  I_3510635   \n",
       "1  Credit reporting, credit repair services, or o...  I_3798538   \n",
       "2                        Checking or savings account  I_3648593   \n",
       "3                        Credit card or prepaid card  I_6999080   \n",
       "4                        Checking or savings account  I_3648593   \n",
       "\n",
       "                               complaint_description       state    zip  \\\n",
       "0  on XX/XX/XX22 I opened a safe balance account ...  California  92311   \n",
       "1  There is an item from Bank of ABC on my credit...  California  91344   \n",
       "2  On XX/XX/XX22 I found out that my account was ...    New York  10466   \n",
       "3  I've had a credit card for years with Bank of ...  California  92127   \n",
       "4  This issue has to do with the way that Bank of...  New Jersey   7946   \n",
       "\n",
       "                 bank_response      department  \n",
       "0  Closed with monetary relief            CASA  \n",
       "1      Closed with explanation  Credit Reports  \n",
       "2  Closed with monetary relief            CASA  \n",
       "3  Closed with monetary relief    Credit Cards  \n",
       "4      Closed with explanation            CASA  "
      ]
     },
     "execution_count": 392,
     "metadata": {},
     "output_type": "execute_result"
    }
   ],
   "source": [
    "# Pull department column from department_of_product_sheet into df_complaints based on the key banking_product\n",
    "df_complaints = df_complaints.merge(df_department_of_product, on='banking_product', how='left')\n",
    "df_complaints.head()"
   ]
  },
  {
   "cell_type": "code",
   "execution_count": 393,
   "id": "f238adf9",
   "metadata": {},
   "outputs": [
    {
     "data": {
      "text/plain": [
       "complaint_id                0\n",
       "date_received               0\n",
       "banking_product             0\n",
       "issue_id                    0\n",
       "complaint_description       0\n",
       "state                      27\n",
       "zip                        30\n",
       "bank_response               0\n",
       "department               1306\n",
       "dtype: int64"
      ]
     },
     "execution_count": 393,
     "metadata": {},
     "output_type": "execute_result"
    }
   ],
   "source": [
    "# Check null values\n",
    "df_complaints.isnull().sum()"
   ]
  },
  {
   "cell_type": "code",
   "execution_count": 394,
   "id": "5a1f7ac6",
   "metadata": {},
   "outputs": [
    {
     "data": {
      "text/html": [
       "<div>\n",
       "<style scoped>\n",
       "    .dataframe tbody tr th:only-of-type {\n",
       "        vertical-align: middle;\n",
       "    }\n",
       "\n",
       "    .dataframe tbody tr th {\n",
       "        vertical-align: top;\n",
       "    }\n",
       "\n",
       "    .dataframe thead th {\n",
       "        text-align: right;\n",
       "    }\n",
       "</style>\n",
       "<table border=\"1\" class=\"dataframe\">\n",
       "  <thead>\n",
       "    <tr style=\"text-align: right;\">\n",
       "      <th></th>\n",
       "      <th>banking_product</th>\n",
       "      <th>0</th>\n",
       "    </tr>\n",
       "  </thead>\n",
       "  <tbody>\n",
       "    <tr>\n",
       "      <th>0</th>\n",
       "      <td>Bank account or service</td>\n",
       "      <td>256</td>\n",
       "    </tr>\n",
       "    <tr>\n",
       "      <th>1</th>\n",
       "      <td>Consumer Loan</td>\n",
       "      <td>83</td>\n",
       "    </tr>\n",
       "    <tr>\n",
       "      <th>2</th>\n",
       "      <td>Credit card</td>\n",
       "      <td>359</td>\n",
       "    </tr>\n",
       "    <tr>\n",
       "      <th>3</th>\n",
       "      <td>Credit reporting</td>\n",
       "      <td>550</td>\n",
       "    </tr>\n",
       "    <tr>\n",
       "      <th>4</th>\n",
       "      <td>Money transfers</td>\n",
       "      <td>11</td>\n",
       "    </tr>\n",
       "    <tr>\n",
       "      <th>5</th>\n",
       "      <td>Payday loan</td>\n",
       "      <td>30</td>\n",
       "    </tr>\n",
       "    <tr>\n",
       "      <th>6</th>\n",
       "      <td>Prepaid card</td>\n",
       "      <td>17</td>\n",
       "    </tr>\n",
       "  </tbody>\n",
       "</table>\n",
       "</div>"
      ],
      "text/plain": [
       "           banking_product    0\n",
       "0  Bank account or service  256\n",
       "1            Consumer Loan   83\n",
       "2              Credit card  359\n",
       "3         Credit reporting  550\n",
       "4          Money transfers   11\n",
       "5              Payday loan   30\n",
       "6             Prepaid card   17"
      ]
     },
     "execution_count": 394,
     "metadata": {},
     "output_type": "execute_result"
    }
   ],
   "source": [
    "# Display banking products without department assignment\n",
    "df_complaints[df_complaints['department'].isnull()].groupby('banking_product').size().reset_index()"
   ]
  },
  {
   "cell_type": "code",
   "execution_count": 395,
   "id": "62d49f86",
   "metadata": {},
   "outputs": [
    {
     "data": {
      "text/html": [
       "<div>\n",
       "<style scoped>\n",
       "    .dataframe tbody tr th:only-of-type {\n",
       "        vertical-align: middle;\n",
       "    }\n",
       "\n",
       "    .dataframe tbody tr th {\n",
       "        vertical-align: top;\n",
       "    }\n",
       "\n",
       "    .dataframe thead th {\n",
       "        text-align: right;\n",
       "    }\n",
       "</style>\n",
       "<table border=\"1\" class=\"dataframe\">\n",
       "  <thead>\n",
       "    <tr style=\"text-align: right;\">\n",
       "      <th></th>\n",
       "      <th>banking_product</th>\n",
       "      <th>department</th>\n",
       "    </tr>\n",
       "  </thead>\n",
       "  <tbody>\n",
       "    <tr>\n",
       "      <th>0</th>\n",
       "      <td>Checking or savings account</td>\n",
       "      <td>CASA</td>\n",
       "    </tr>\n",
       "    <tr>\n",
       "      <th>1</th>\n",
       "      <td>Credit reporting, credit repair services, or o...</td>\n",
       "      <td>Credit Reports</td>\n",
       "    </tr>\n",
       "    <tr>\n",
       "      <th>2</th>\n",
       "      <td>Credit card or prepaid card</td>\n",
       "      <td>Credit Cards</td>\n",
       "    </tr>\n",
       "    <tr>\n",
       "      <th>3</th>\n",
       "      <td>Debt collection</td>\n",
       "      <td>Loans</td>\n",
       "    </tr>\n",
       "    <tr>\n",
       "      <th>4</th>\n",
       "      <td>Money transfer, virtual currency, or money ser...</td>\n",
       "      <td>Remittance</td>\n",
       "    </tr>\n",
       "    <tr>\n",
       "      <th>5</th>\n",
       "      <td>Mortgage</td>\n",
       "      <td>Mortgage</td>\n",
       "    </tr>\n",
       "    <tr>\n",
       "      <th>6</th>\n",
       "      <td>Vehicle loan or lease</td>\n",
       "      <td>Loans</td>\n",
       "    </tr>\n",
       "    <tr>\n",
       "      <th>7</th>\n",
       "      <td>Payday loan, title loan, or personal loan</td>\n",
       "      <td>Loans</td>\n",
       "    </tr>\n",
       "    <tr>\n",
       "      <th>8</th>\n",
       "      <td>Student loan</td>\n",
       "      <td>Loans</td>\n",
       "    </tr>\n",
       "    <tr>\n",
       "      <th>9</th>\n",
       "      <td>Other financial service</td>\n",
       "      <td>Others</td>\n",
       "    </tr>\n",
       "  </tbody>\n",
       "</table>\n",
       "</div>"
      ],
      "text/plain": [
       "                                     banking_product      department\n",
       "0                        Checking or savings account            CASA\n",
       "1  Credit reporting, credit repair services, or o...  Credit Reports\n",
       "2                        Credit card or prepaid card    Credit Cards\n",
       "3                                    Debt collection           Loans\n",
       "4  Money transfer, virtual currency, or money ser...      Remittance\n",
       "5                                           Mortgage        Mortgage\n",
       "6                              Vehicle loan or lease           Loans\n",
       "7          Payday loan, title loan, or personal loan           Loans\n",
       "8                                       Student loan           Loans\n",
       "9                            Other financial service          Others"
      ]
     },
     "execution_count": 395,
     "metadata": {},
     "output_type": "execute_result"
    }
   ],
   "source": [
    "df_department_of_product"
   ]
  },
  {
   "cell_type": "code",
   "execution_count": 396,
   "id": "c8ff64a7",
   "metadata": {},
   "outputs": [
    {
     "name": "stdout",
     "output_type": "stream",
     "text": [
      "Checking or savings account\n",
      "Credit reporting, credit repair services, or other personal consumer reports\n",
      "Credit card or prepaid card\n",
      "Debt collection\n",
      "Money transfer, virtual currency, or money service\n",
      "Mortgage\n",
      "Vehicle loan or lease\n",
      "Payday loan, title loan, or personal loan\n",
      "Student loan\n",
      "Other financial service\n"
     ]
    }
   ],
   "source": [
    "for value in df_department_of_product['banking_product'].unique():\n",
    "    print(value)"
   ]
  },
  {
   "cell_type": "code",
   "execution_count": 397,
   "id": "194c7145",
   "metadata": {},
   "outputs": [],
   "source": [
    "# Update null values department in df_complaints\n",
    "df_complaints.loc[df_complaints['banking_product'] == 'Credit card', 'department'] = 'Credit Cards'\n",
    "df_complaints.loc[df_complaints['banking_product'] == 'Prepaid card', 'department'] = 'Credit Cards'\n",
    "df_complaints.loc[df_complaints['banking_product'] == 'Credit reporting', 'department'] = 'Credit Reports'\n",
    "df_complaints.loc[df_complaints['banking_product'] == 'Money transfers', 'department'] = 'Remittance'\n",
    "df_complaints.loc[df_complaints['banking_product'] == 'Bank account or service', 'department'] = 'CASA'\n",
    "df_complaints.loc[df_complaints['banking_product'] == 'Consumer Loan', 'department'] = 'Loans'\n",
    "df_complaints.loc[df_complaints['banking_product'] == 'Payday loan', 'department'] = 'Loans'"
   ]
  },
  {
   "cell_type": "code",
   "execution_count": 398,
   "id": "98f8382d",
   "metadata": {},
   "outputs": [
    {
     "data": {
      "text/html": [
       "<div>\n",
       "<style scoped>\n",
       "    .dataframe tbody tr th:only-of-type {\n",
       "        vertical-align: middle;\n",
       "    }\n",
       "\n",
       "    .dataframe tbody tr th {\n",
       "        vertical-align: top;\n",
       "    }\n",
       "\n",
       "    .dataframe thead th {\n",
       "        text-align: right;\n",
       "    }\n",
       "</style>\n",
       "<table border=\"1\" class=\"dataframe\">\n",
       "  <thead>\n",
       "    <tr style=\"text-align: right;\">\n",
       "      <th></th>\n",
       "      <th>banking_product</th>\n",
       "      <th>0</th>\n",
       "    </tr>\n",
       "  </thead>\n",
       "  <tbody>\n",
       "  </tbody>\n",
       "</table>\n",
       "</div>"
      ],
      "text/plain": [
       "Empty DataFrame\n",
       "Columns: [banking_product, 0]\n",
       "Index: []"
      ]
     },
     "execution_count": 398,
     "metadata": {},
     "output_type": "execute_result"
    }
   ],
   "source": [
    "# Check null values in department again\n",
    "df_complaints[df_complaints['department'].isnull()].groupby('banking_product').size().reset_index()"
   ]
  },
  {
   "cell_type": "code",
   "execution_count": 399,
   "id": "e73a4f0b",
   "metadata": {},
   "outputs": [
    {
     "data": {
      "text/plain": [
       "complaint_id              0\n",
       "date_received             0\n",
       "banking_product           0\n",
       "issue_id                  0\n",
       "complaint_description     0\n",
       "state                    27\n",
       "zip                      30\n",
       "bank_response             0\n",
       "department                0\n",
       "dtype: int64"
      ]
     },
     "execution_count": 399,
     "metadata": {},
     "output_type": "execute_result"
    }
   ],
   "source": [
    "df_complaints.isnull().sum()"
   ]
  },
  {
   "cell_type": "markdown",
   "id": "d2628810",
   "metadata": {},
   "source": [
    "## Department column is now fully populated"
   ]
  },
  {
   "cell_type": "code",
   "execution_count": 400,
   "id": "50331573",
   "metadata": {},
   "outputs": [
    {
     "data": {
      "text/plain": [
       "department\n",
       "CASA              1911\n",
       "Credit Cards      1609\n",
       "Loans             1111\n",
       "Credit Reports    1109\n",
       "Mortgage           848\n",
       "Remittance         422\n",
       "Others               1\n",
       "Name: count, dtype: int64"
      ]
     },
     "execution_count": 400,
     "metadata": {},
     "output_type": "execute_result"
    }
   ],
   "source": [
    "df_complaints['department'].value_counts()"
   ]
  },
  {
   "cell_type": "markdown",
   "id": "dceaec41",
   "metadata": {},
   "source": [
    "## State and Zip Code are not important for this analysis. There is no need to address null values in these columns."
   ]
  },
  {
   "cell_type": "markdown",
   "id": "cbbeca69",
   "metadata": {},
   "source": [
    "## 3. Find date range"
   ]
  },
  {
   "cell_type": "code",
   "execution_count": 401,
   "id": "765d1cbb",
   "metadata": {},
   "outputs": [
    {
     "data": {
      "text/plain": [
       "min   2023-01-01\n",
       "max   2023-10-21\n",
       "Name: date_received, dtype: datetime64[ns]"
      ]
     },
     "execution_count": 401,
     "metadata": {},
     "output_type": "execute_result"
    }
   ],
   "source": [
    "# Date range\n",
    "date_range = df_complaints['date_received'].agg(['min', 'max'])\n",
    "date_range"
   ]
  },
  {
   "cell_type": "markdown",
   "id": "8232cbfb",
   "metadata": {},
   "source": [
    "## Min date is 2023-01-01 and max date is 2023-10-21"
   ]
  },
  {
   "cell_type": "markdown",
   "id": "7ba15a89",
   "metadata": {},
   "source": [
    "## 4. Preprocessing function"
   ]
  },
  {
   "cell_type": "code",
   "execution_count": 402,
   "id": "b3b69133",
   "metadata": {},
   "outputs": [],
   "source": [
    "# Function to convert text to lowercase\n",
    "def convert_to_lowercase(text):\n",
    "    text = text.lower() # convert to lowercase\n",
    "    return text"
   ]
  },
  {
   "cell_type": "code",
   "execution_count": 403,
   "id": "5e9d54ca",
   "metadata": {},
   "outputs": [],
   "source": [
    "# Function to remove numbers\n",
    "def remove_numbers(text):\n",
    "    text = re.sub(r'\\d+', '', text)  # remove numbers\n",
    "    return text"
   ]
  },
  {
   "cell_type": "code",
   "execution_count": null,
   "id": "55c9e80d",
   "metadata": {},
   "outputs": [],
   "source": [
    "# Function to remove stopwords\n",
    "stop_words = set(stopwords.words('english'))\n",
    "sentiment_words = {'not', 'no', 'never', 'very', 'really', 'extremely'}\n",
    "stop_words = stop_words - sentiment_words\n",
    "def remove_stopwords(text):\n",
    "    words = text.split()\n",
    "    filtered_words = [word for word in words if word not in stop_words]\n",
    "    text = ' '.join(filtered_words)\n",
    "    return text"
   ]
  },
  {
   "cell_type": "code",
   "execution_count": 405,
   "id": "f74dfaf6",
   "metadata": {},
   "outputs": [],
   "source": [
    "# Function to remove punctuation\n",
    "def remove_punctuation(text):\n",
    "    text = re.sub(r'[^\\w\\s]', '', text) # \n",
    "    return text"
   ]
  },
  {
   "cell_type": "code",
   "execution_count": 406,
   "id": "3825d707",
   "metadata": {},
   "outputs": [],
   "source": [
    "# Function to remove extra spaces\n",
    "def remove_extra_spaces(text):\n",
    "    text = re.sub(r'\\s+', ' ', text) # replace multiple spaces with a single space\n",
    "    text = text.strip() # remove leading and trailing spaces\n",
    "    return text"
   ]
  },
  {
   "cell_type": "code",
   "execution_count": 407,
   "id": "c21b6925",
   "metadata": {},
   "outputs": [],
   "source": [
    "# Function to convert Penn Treebank tags to WordNet tags\n",
    "def convert_pos_tag(penn_tag):\n",
    "    if penn_tag.startswith('J'):\n",
    "        return wordnet.ADJ\n",
    "    elif penn_tag.startswith('V'):\n",
    "        return wordnet.VERB\n",
    "    elif penn_tag.startswith('N'):\n",
    "        return wordnet.NOUN\n",
    "    elif penn_tag.startswith('R'):\n",
    "        return wordnet.ADV\n",
    "    else:\n",
    "        return None"
   ]
  },
  {
   "cell_type": "code",
   "execution_count": 408,
   "id": "192f3638",
   "metadata": {},
   "outputs": [],
   "source": [
    "# Function to lemmatize text\n",
    "def lemmatize_text(text):\n",
    "    lemmatizer = WordNetLemmatizer()\n",
    "    tokens = word_tokenize(text)\n",
    "    pos_tags = pos_tag(tokens)\n",
    "    lemmatized_text = []\n",
    "    for word, tag in pos_tags:\n",
    "        wordnet_tag = convert_pos_tag(tag)\n",
    "        if wordnet_tag:\n",
    "            lemmatized_word = lemmatizer.lemmatize(word, pos=wordnet_tag)\n",
    "        else:\n",
    "            lemmatized_word = lemmatizer.lemmatize(word)\n",
    "        lemmatized_text.append(lemmatized_word)\n",
    "    return lemmatized_text\n"
   ]
  },
  {
   "cell_type": "code",
   "execution_count": 409,
   "id": "dc30fe8a",
   "metadata": {},
   "outputs": [],
   "source": [
    "# Define text preprocessing function\n",
    "def preprocessing(text):\n",
    "    text = convert_to_lowercase(text)\n",
    "    text = remove_numbers(text)\n",
    "    text = remove_stopwords(text)\n",
    "    text = remove_punctuation(text)\n",
    "    text = remove_extra_spaces(text)\n",
    "    lemmatized_tokens = lemmatize_text(text)\n",
    "    return lemmatized_tokens"
   ]
  },
  {
   "cell_type": "code",
   "execution_count": 410,
   "id": "8cf24c16",
   "metadata": {},
   "outputs": [
    {
     "name": "stdout",
     "output_type": "stream",
     "text": [
      "on XX/XX/XX22 I opened a safe balance account online using my payroll check of over {$600.00} as my account opener. On XX/XX/XX22, I attempted to login to my app and received a \" account locked contact customer service @ XXXX '' error message. I placed the call and was told I would have to go to a branch to verify my identity, which I did. At the same time, I was told I had a positive balance of of {$650.00} and could make a withdrawal from the teller, which I did for {$400.00} leaving a balance of + {$250.00}. Shortly after that, I deposited a mobile check for {$5XX.00}. On XX/XX/XX22, again I attempted to login and received the previous error message along with 3 emails stating a hold was placed on my account. Contacting the same previous number I was told that my acct was being closed by the Risk Dept. due to lack of identity verification, which I told them I had done the day before. I was then told it didn't matter the account was already being closed and it was not reversible, so I asked about my balance and was then told I was overdrawn by {$400.00} and I would have to pay that before I could be set up with a new acct. None of this makes logically sense, nor does it in anyway seem legal. I have contacted my attorney who suggested that I attempt to resolve the issue with a supervisor or manager before he makes any court filings so that is what I am doing now. All of this has not just caused me unnecessary stress but put myself and my family into serious financial hardship and suffering. We were force to miss XXXX with family due to lack of funds to travel, I have no way to pay for the propane that is for cooking and heating my home, my mortgage payment, car registration and insurance are now all past due resulting in late fees totalling {$350.00}, all caused by poorly trained bank employees!\n",
      "['xxxxxx', 'open', 'safe', 'balance', 'account', 'online', 'use', 'payroll', 'check', 'account', 'opener', 'xxxxxx', 'attempt', 'login', 'app', 'receive', 'account', 'lock', 'contact', 'customer', 'service', 'xxxx', 'error', 'message', 'place', 'call', 'told', 'would', 'go', 'branch', 'verify', 'identity', 'do', 'time', 'tell', 'positive', 'balance', 'could', 'make', 'withdrawal', 'teller', 'leave', 'balance', 'shortly', 'that', 'deposit', 'mobile', 'check', 'xx', 'xxxxxx', 'attempt', 'login', 'receive', 'previous', 'error', 'message', 'along', 'email', 'state', 'hold', 'place', 'account', 'contact', 'previous', 'number', 'tell', 'acct', 'close', 'risk', 'dept', 'due', 'lack', 'identity', 'verification', 'tell', 'do', 'day', 'before', 'told', 'matter', 'account', 'already', 'close', 'reversible', 'ask', 'balance', 'tell', 'overdrawn', 'would', 'pay', 'could', 'set', 'new', 'acct', 'none', 'make', 'logically', 'sense', 'anyway', 'seem', 'legal', 'contact', 'attorney', 'suggest', 'attempt', 'resolve', 'issue', 'supervisor', 'manager', 'make', 'court', 'filing', 'now', 'cause', 'unnecessary', 'stress', 'put', 'family', 'serious', 'financial', 'hardship', 'suffer', 'force', 'miss', 'xxxx', 'family', 'due', 'lack', 'fund', 'travel', 'way', 'pay', 'propane', 'cook', 'heating', 'home', 'mortgage', 'payment', 'car', 'registration', 'insurance', 'past', 'due', 'result', 'late', 'fee', 'total', 'cause', 'poorly', 'trained', 'bank', 'employee']\n"
     ]
    }
   ],
   "source": [
    "sample_text = df_complaints.loc[0, 'complaint_description']\n",
    "print(sample_text)\n",
    "print(preprocessing(sample_text))"
   ]
  },
  {
   "cell_type": "markdown",
   "id": "a53b71a2",
   "metadata": {},
   "source": [
    "## 5. Clean the text"
   ]
  },
  {
   "cell_type": "code",
   "execution_count": 411,
   "id": "54c2c386",
   "metadata": {},
   "outputs": [],
   "source": [
    "df_complaints['lemmatized_tokens'] = df_complaints['complaint_description'].apply(preprocessing)"
   ]
  },
  {
   "cell_type": "code",
   "execution_count": 412,
   "id": "0f6eb470",
   "metadata": {},
   "outputs": [],
   "source": [
    "df_complaints['lemmatized_text'] = df_complaints['lemmatized_tokens'].apply(lambda x: ' '.join(x))"
   ]
  },
  {
   "cell_type": "code",
   "execution_count": 413,
   "id": "ab87fc14",
   "metadata": {},
   "outputs": [
    {
     "data": {
      "text/html": [
       "<div>\n",
       "<style scoped>\n",
       "    .dataframe tbody tr th:only-of-type {\n",
       "        vertical-align: middle;\n",
       "    }\n",
       "\n",
       "    .dataframe tbody tr th {\n",
       "        vertical-align: top;\n",
       "    }\n",
       "\n",
       "    .dataframe thead th {\n",
       "        text-align: right;\n",
       "    }\n",
       "</style>\n",
       "<table border=\"1\" class=\"dataframe\">\n",
       "  <thead>\n",
       "    <tr style=\"text-align: right;\">\n",
       "      <th></th>\n",
       "      <th>complaint_description</th>\n",
       "      <th>lemmatized_tokens</th>\n",
       "      <th>lemmatized_text</th>\n",
       "    </tr>\n",
       "  </thead>\n",
       "  <tbody>\n",
       "    <tr>\n",
       "      <th>0</th>\n",
       "      <td>on XX/XX/XX22 I opened a safe balance account ...</td>\n",
       "      <td>[xxxxxx, open, safe, balance, account, online,...</td>\n",
       "      <td>xxxxxx open safe balance account online use pa...</td>\n",
       "    </tr>\n",
       "    <tr>\n",
       "      <th>1</th>\n",
       "      <td>There is an item from Bank of ABC on my credit...</td>\n",
       "      <td>[item, bank, abc, credit, report, belong, must...</td>\n",
       "      <td>item bank abc credit report belong must remove...</td>\n",
       "    </tr>\n",
       "    <tr>\n",
       "      <th>2</th>\n",
       "      <td>On XX/XX/XX22 I found out that my account was ...</td>\n",
       "      <td>[xxxxxx, find, account, frozen, apparent, reas...</td>\n",
       "      <td>xxxxxx find account frozen apparent reason go ...</td>\n",
       "    </tr>\n",
       "    <tr>\n",
       "      <th>3</th>\n",
       "      <td>I've had a credit card for years with Bank of ...</td>\n",
       "      <td>[credit, card, year, bank, abc, xxxxxxxx, pay,...</td>\n",
       "      <td>credit card year bank abc xxxxxxxx pay balance...</td>\n",
       "    </tr>\n",
       "    <tr>\n",
       "      <th>4</th>\n",
       "      <td>This issue has to do with the way that Bank of...</td>\n",
       "      <td>[issue, way, bank, abc, account, link, bill, p...</td>\n",
       "      <td>issue way bank abc account link bill pay part ...</td>\n",
       "    </tr>\n",
       "    <tr>\n",
       "      <th>5</th>\n",
       "      <td>So, last time I was on the phone with b of a p...</td>\n",
       "      <td>[so, last, time, phone, b, prepaid, regard, ed...</td>\n",
       "      <td>so last time phone b prepaid regard edd accoun...</td>\n",
       "    </tr>\n",
       "    <tr>\n",
       "      <th>6</th>\n",
       "      <td>Got 5 hard inquiries I dont recognize, from XX...</td>\n",
       "      <td>[get, hard, inquiry, dont, recognize, xxxx, xx...</td>\n",
       "      <td>get hard inquiry dont recognize xxxx xxxx xxxx...</td>\n",
       "    </tr>\n",
       "    <tr>\n",
       "      <th>7</th>\n",
       "      <td>In XXXX of XX22, I discovered that a former te...</td>\n",
       "      <td>[xxxx, xx, discover, former, tenant, steal, id...</td>\n",
       "      <td>xxxx xx discover former tenant steal identity ...</td>\n",
       "    </tr>\n",
       "    <tr>\n",
       "      <th>8</th>\n",
       "      <td>I, the consumer am aware and have proof that B...</td>\n",
       "      <td>[i, consumer, aware, proof, bank, abc, continu...</td>\n",
       "      <td>i consumer aware proof bank abc continue viola...</td>\n",
       "    </tr>\n",
       "    <tr>\n",
       "      <th>9</th>\n",
       "      <td>I have filed a dispute in regards to an inaccu...</td>\n",
       "      <td>[file, dispute, regard, inaccurate, account, c...</td>\n",
       "      <td>file dispute regard inaccurate account consume...</td>\n",
       "    </tr>\n",
       "  </tbody>\n",
       "</table>\n",
       "</div>"
      ],
      "text/plain": [
       "                               complaint_description  \\\n",
       "0  on XX/XX/XX22 I opened a safe balance account ...   \n",
       "1  There is an item from Bank of ABC on my credit...   \n",
       "2  On XX/XX/XX22 I found out that my account was ...   \n",
       "3  I've had a credit card for years with Bank of ...   \n",
       "4  This issue has to do with the way that Bank of...   \n",
       "5  So, last time I was on the phone with b of a p...   \n",
       "6  Got 5 hard inquiries I dont recognize, from XX...   \n",
       "7  In XXXX of XX22, I discovered that a former te...   \n",
       "8  I, the consumer am aware and have proof that B...   \n",
       "9  I have filed a dispute in regards to an inaccu...   \n",
       "\n",
       "                                   lemmatized_tokens  \\\n",
       "0  [xxxxxx, open, safe, balance, account, online,...   \n",
       "1  [item, bank, abc, credit, report, belong, must...   \n",
       "2  [xxxxxx, find, account, frozen, apparent, reas...   \n",
       "3  [credit, card, year, bank, abc, xxxxxxxx, pay,...   \n",
       "4  [issue, way, bank, abc, account, link, bill, p...   \n",
       "5  [so, last, time, phone, b, prepaid, regard, ed...   \n",
       "6  [get, hard, inquiry, dont, recognize, xxxx, xx...   \n",
       "7  [xxxx, xx, discover, former, tenant, steal, id...   \n",
       "8  [i, consumer, aware, proof, bank, abc, continu...   \n",
       "9  [file, dispute, regard, inaccurate, account, c...   \n",
       "\n",
       "                                     lemmatized_text  \n",
       "0  xxxxxx open safe balance account online use pa...  \n",
       "1  item bank abc credit report belong must remove...  \n",
       "2  xxxxxx find account frozen apparent reason go ...  \n",
       "3  credit card year bank abc xxxxxxxx pay balance...  \n",
       "4  issue way bank abc account link bill pay part ...  \n",
       "5  so last time phone b prepaid regard edd accoun...  \n",
       "6  get hard inquiry dont recognize xxxx xxxx xxxx...  \n",
       "7  xxxx xx discover former tenant steal identity ...  \n",
       "8  i consumer aware proof bank abc continue viola...  \n",
       "9  file dispute regard inaccurate account consume...  "
      ]
     },
     "execution_count": 413,
     "metadata": {},
     "output_type": "execute_result"
    }
   ],
   "source": [
    "df_complaints[['complaint_description', 'lemmatized_tokens', 'lemmatized_text']].head(10)"
   ]
  },
  {
   "cell_type": "markdown",
   "id": "676d3507",
   "metadata": {},
   "source": [
    "## 6. Convert preprocessed text into TF-IDF features "
   ]
  },
  {
   "cell_type": "code",
   "execution_count": 414,
   "id": "72b381ae",
   "metadata": {},
   "outputs": [
    {
     "data": {
      "text/html": [
       "<div>\n",
       "<style scoped>\n",
       "    .dataframe tbody tr th:only-of-type {\n",
       "        vertical-align: middle;\n",
       "    }\n",
       "\n",
       "    .dataframe tbody tr th {\n",
       "        vertical-align: top;\n",
       "    }\n",
       "\n",
       "    .dataframe thead th {\n",
       "        text-align: right;\n",
       "    }\n",
       "</style>\n",
       "<table border=\"1\" class=\"dataframe\">\n",
       "  <thead>\n",
       "    <tr style=\"text-align: right;\">\n",
       "      <th></th>\n",
       "      <th>abc</th>\n",
       "      <th>abcn</th>\n",
       "      <th>ability</th>\n",
       "      <th>able</th>\n",
       "      <th>absolutely</th>\n",
       "      <th>abuse</th>\n",
       "      <th>accept</th>\n",
       "      <th>access</th>\n",
       "      <th>accord</th>\n",
       "      <th>accordance</th>\n",
       "      <th>...</th>\n",
       "      <th>xxxxxx</th>\n",
       "      <th>xxxxxxxx</th>\n",
       "      <th>xxxxxxxxxx</th>\n",
       "      <th>xxxxxxxxxxxx</th>\n",
       "      <th>year</th>\n",
       "      <th>yes</th>\n",
       "      <th>yesterday</th>\n",
       "      <th>yet</th>\n",
       "      <th>you</th>\n",
       "      <th>zero</th>\n",
       "    </tr>\n",
       "  </thead>\n",
       "  <tbody>\n",
       "    <tr>\n",
       "      <th>0</th>\n",
       "      <td>0.000000</td>\n",
       "      <td>0.0</td>\n",
       "      <td>0.0</td>\n",
       "      <td>0.0</td>\n",
       "      <td>0.0</td>\n",
       "      <td>0.0</td>\n",
       "      <td>0.0</td>\n",
       "      <td>0.0</td>\n",
       "      <td>0.0</td>\n",
       "      <td>0.0</td>\n",
       "      <td>...</td>\n",
       "      <td>0.171555</td>\n",
       "      <td>0.000000</td>\n",
       "      <td>0.0</td>\n",
       "      <td>0.0</td>\n",
       "      <td>0.000000</td>\n",
       "      <td>0.0</td>\n",
       "      <td>0.0</td>\n",
       "      <td>0.0</td>\n",
       "      <td>0.0</td>\n",
       "      <td>0.0</td>\n",
       "    </tr>\n",
       "    <tr>\n",
       "      <th>1</th>\n",
       "      <td>0.077645</td>\n",
       "      <td>0.0</td>\n",
       "      <td>0.0</td>\n",
       "      <td>0.0</td>\n",
       "      <td>0.0</td>\n",
       "      <td>0.0</td>\n",
       "      <td>0.0</td>\n",
       "      <td>0.0</td>\n",
       "      <td>0.0</td>\n",
       "      <td>0.0</td>\n",
       "      <td>...</td>\n",
       "      <td>0.000000</td>\n",
       "      <td>0.000000</td>\n",
       "      <td>0.0</td>\n",
       "      <td>0.0</td>\n",
       "      <td>0.000000</td>\n",
       "      <td>0.0</td>\n",
       "      <td>0.0</td>\n",
       "      <td>0.0</td>\n",
       "      <td>0.0</td>\n",
       "      <td>0.0</td>\n",
       "    </tr>\n",
       "    <tr>\n",
       "      <th>2</th>\n",
       "      <td>0.000000</td>\n",
       "      <td>0.0</td>\n",
       "      <td>0.0</td>\n",
       "      <td>0.0</td>\n",
       "      <td>0.0</td>\n",
       "      <td>0.0</td>\n",
       "      <td>0.0</td>\n",
       "      <td>0.0</td>\n",
       "      <td>0.0</td>\n",
       "      <td>0.0</td>\n",
       "      <td>...</td>\n",
       "      <td>0.124374</td>\n",
       "      <td>0.094499</td>\n",
       "      <td>0.0</td>\n",
       "      <td>0.0</td>\n",
       "      <td>0.000000</td>\n",
       "      <td>0.0</td>\n",
       "      <td>0.0</td>\n",
       "      <td>0.0</td>\n",
       "      <td>0.0</td>\n",
       "      <td>0.0</td>\n",
       "    </tr>\n",
       "    <tr>\n",
       "      <th>3</th>\n",
       "      <td>0.024046</td>\n",
       "      <td>0.0</td>\n",
       "      <td>0.0</td>\n",
       "      <td>0.0</td>\n",
       "      <td>0.0</td>\n",
       "      <td>0.0</td>\n",
       "      <td>0.0</td>\n",
       "      <td>0.0</td>\n",
       "      <td>0.0</td>\n",
       "      <td>0.0</td>\n",
       "      <td>...</td>\n",
       "      <td>0.000000</td>\n",
       "      <td>0.120800</td>\n",
       "      <td>0.0</td>\n",
       "      <td>0.0</td>\n",
       "      <td>0.036322</td>\n",
       "      <td>0.0</td>\n",
       "      <td>0.0</td>\n",
       "      <td>0.0</td>\n",
       "      <td>0.0</td>\n",
       "      <td>0.0</td>\n",
       "    </tr>\n",
       "    <tr>\n",
       "      <th>4</th>\n",
       "      <td>0.233271</td>\n",
       "      <td>0.0</td>\n",
       "      <td>0.0</td>\n",
       "      <td>0.0</td>\n",
       "      <td>0.0</td>\n",
       "      <td>0.0</td>\n",
       "      <td>0.0</td>\n",
       "      <td>0.0</td>\n",
       "      <td>0.0</td>\n",
       "      <td>0.0</td>\n",
       "      <td>...</td>\n",
       "      <td>0.000000</td>\n",
       "      <td>0.000000</td>\n",
       "      <td>0.0</td>\n",
       "      <td>0.0</td>\n",
       "      <td>0.000000</td>\n",
       "      <td>0.0</td>\n",
       "      <td>0.0</td>\n",
       "      <td>0.0</td>\n",
       "      <td>0.0</td>\n",
       "      <td>0.0</td>\n",
       "    </tr>\n",
       "  </tbody>\n",
       "</table>\n",
       "<p>5 rows × 1000 columns</p>\n",
       "</div>"
      ],
      "text/plain": [
       "        abc  abcn  ability  able  absolutely  abuse  accept  access  accord  \\\n",
       "0  0.000000   0.0      0.0   0.0         0.0    0.0     0.0     0.0     0.0   \n",
       "1  0.077645   0.0      0.0   0.0         0.0    0.0     0.0     0.0     0.0   \n",
       "2  0.000000   0.0      0.0   0.0         0.0    0.0     0.0     0.0     0.0   \n",
       "3  0.024046   0.0      0.0   0.0         0.0    0.0     0.0     0.0     0.0   \n",
       "4  0.233271   0.0      0.0   0.0         0.0    0.0     0.0     0.0     0.0   \n",
       "\n",
       "   accordance  ...    xxxxxx  xxxxxxxx  xxxxxxxxxx  xxxxxxxxxxxx      year  \\\n",
       "0         0.0  ...  0.171555  0.000000         0.0           0.0  0.000000   \n",
       "1         0.0  ...  0.000000  0.000000         0.0           0.0  0.000000   \n",
       "2         0.0  ...  0.124374  0.094499         0.0           0.0  0.000000   \n",
       "3         0.0  ...  0.000000  0.120800         0.0           0.0  0.036322   \n",
       "4         0.0  ...  0.000000  0.000000         0.0           0.0  0.000000   \n",
       "\n",
       "   yes  yesterday  yet  you  zero  \n",
       "0  0.0        0.0  0.0  0.0   0.0  \n",
       "1  0.0        0.0  0.0  0.0   0.0  \n",
       "2  0.0        0.0  0.0  0.0   0.0  \n",
       "3  0.0        0.0  0.0  0.0   0.0  \n",
       "4  0.0        0.0  0.0  0.0   0.0  \n",
       "\n",
       "[5 rows x 1000 columns]"
      ]
     },
     "execution_count": 414,
     "metadata": {},
     "output_type": "execute_result"
    }
   ],
   "source": [
    "# Convert preprocessed text into TF-IDF features\n",
    "tfidf_vectorizer = TfidfVectorizer(max_features=1000, lowercase=True, analyzer='word') # Initialize TF-IDF Vectorizer\n",
    "tfidf_matrix = tfidf_vectorizer.fit_transform(df_complaints['lemmatized_text']) # Fit and transform the lemmatized text\n",
    "tfidf_columns = tfidf_vectorizer.get_feature_names_out() # Get feature names\n",
    "tfidf_array = tfidf_matrix.toarray() # Convert sparse matrix to dense array\n",
    "tfidf_df = pd.DataFrame(tfidf_array, columns=tfidf_columns) # Create DataFrame\n",
    "tfidf_df.head()"
   ]
  },
  {
   "cell_type": "markdown",
   "id": "c0805828",
   "metadata": {},
   "source": [
    "## 7.1 Build Random Forest classification model to predict the department"
   ]
  },
  {
   "cell_type": "code",
   "execution_count": 415,
   "id": "3d7bdcd0",
   "metadata": {},
   "outputs": [],
   "source": [
    "# Prepare the data\n",
    "X = tfidf_df\n",
    "y = df_complaints['department']\n",
    "X_train, X_test, y_train, y_test = train_test_split(X, y, test_size=0.2, random_state=42)\n",
    "\n",
    "# Create the classification model\n",
    "rf_model = RandomForestClassifier(n_estimators=100, random_state=42)  # Initialize Random Forest Classifier\n",
    "\n",
    "# Train the model\n",
    "rf_model.fit(X_train, y_train)\n",
    "\n",
    "# Predict the outcome\n",
    "y_pred_train_rf = rf_model.predict(X_train)\n",
    "y_pred_test_rf = rf_model.predict(X_test)\n",
    "\n",
    "# Calculate the probabilities\n",
    "y_pred_train_proba_rf = rf_model.predict_proba(X_train)\n",
    "y_pred_test_proba_rf = rf_model.predict_proba(X_test)"
   ]
  },
  {
   "cell_type": "code",
   "execution_count": 416,
   "id": "29e8cab2",
   "metadata": {},
   "outputs": [
    {
     "name": "stdout",
     "output_type": "stream",
     "text": [
      "Class order: ['CASA' 'Credit Cards' 'Credit Reports' 'Loans' 'Mortgage' 'Others'\n",
      " 'Remittance']\n"
     ]
    },
    {
     "data": {
      "text/html": [
       "<div>\n",
       "<style scoped>\n",
       "    .dataframe tbody tr th:only-of-type {\n",
       "        vertical-align: middle;\n",
       "    }\n",
       "\n",
       "    .dataframe tbody tr th {\n",
       "        vertical-align: top;\n",
       "    }\n",
       "\n",
       "    .dataframe thead th {\n",
       "        text-align: right;\n",
       "    }\n",
       "</style>\n",
       "<table border=\"1\" class=\"dataframe\">\n",
       "  <thead>\n",
       "    <tr style=\"text-align: right;\">\n",
       "      <th></th>\n",
       "      <th>Actual Label</th>\n",
       "      <th>Predicted Label</th>\n",
       "      <th>Proba CASA</th>\n",
       "      <th>Proba Credit Cards</th>\n",
       "      <th>Proba Credit Reports</th>\n",
       "      <th>Proba Loans</th>\n",
       "      <th>Proba Mortgage</th>\n",
       "      <th>Proba Others</th>\n",
       "      <th>Proba Remittance</th>\n",
       "    </tr>\n",
       "  </thead>\n",
       "  <tbody>\n",
       "    <tr>\n",
       "      <th>6851</th>\n",
       "      <td>CASA</td>\n",
       "      <td>Credit Cards</td>\n",
       "      <td>0.24</td>\n",
       "      <td>0.44</td>\n",
       "      <td>0.14</td>\n",
       "      <td>0.07</td>\n",
       "      <td>0.08</td>\n",
       "      <td>0.0</td>\n",
       "      <td>0.03</td>\n",
       "    </tr>\n",
       "    <tr>\n",
       "      <th>6724</th>\n",
       "      <td>CASA</td>\n",
       "      <td>CASA</td>\n",
       "      <td>0.61</td>\n",
       "      <td>0.19</td>\n",
       "      <td>0.02</td>\n",
       "      <td>0.02</td>\n",
       "      <td>0.05</td>\n",
       "      <td>0.0</td>\n",
       "      <td>0.11</td>\n",
       "    </tr>\n",
       "    <tr>\n",
       "      <th>245</th>\n",
       "      <td>Credit Reports</td>\n",
       "      <td>Credit Reports</td>\n",
       "      <td>0.16</td>\n",
       "      <td>0.19</td>\n",
       "      <td>0.51</td>\n",
       "      <td>0.06</td>\n",
       "      <td>0.04</td>\n",
       "      <td>0.0</td>\n",
       "      <td>0.04</td>\n",
       "    </tr>\n",
       "    <tr>\n",
       "      <th>1880</th>\n",
       "      <td>Credit Cards</td>\n",
       "      <td>CASA</td>\n",
       "      <td>0.49</td>\n",
       "      <td>0.06</td>\n",
       "      <td>0.05</td>\n",
       "      <td>0.01</td>\n",
       "      <td>0.03</td>\n",
       "      <td>0.0</td>\n",
       "      <td>0.36</td>\n",
       "    </tr>\n",
       "    <tr>\n",
       "      <th>6799</th>\n",
       "      <td>Loans</td>\n",
       "      <td>Credit Reports</td>\n",
       "      <td>0.05</td>\n",
       "      <td>0.02</td>\n",
       "      <td>0.72</td>\n",
       "      <td>0.21</td>\n",
       "      <td>0.00</td>\n",
       "      <td>0.0</td>\n",
       "      <td>0.00</td>\n",
       "    </tr>\n",
       "  </tbody>\n",
       "</table>\n",
       "</div>"
      ],
      "text/plain": [
       "        Actual Label Predicted Label  Proba CASA  Proba Credit Cards  \\\n",
       "6851            CASA    Credit Cards        0.24                0.44   \n",
       "6724            CASA            CASA        0.61                0.19   \n",
       "245   Credit Reports  Credit Reports        0.16                0.19   \n",
       "1880    Credit Cards            CASA        0.49                0.06   \n",
       "6799           Loans  Credit Reports        0.05                0.02   \n",
       "\n",
       "      Proba Credit Reports  Proba Loans  Proba Mortgage  Proba Others  \\\n",
       "6851                  0.14         0.07            0.08           0.0   \n",
       "6724                  0.02         0.02            0.05           0.0   \n",
       "245                   0.51         0.06            0.04           0.0   \n",
       "1880                  0.05         0.01            0.03           0.0   \n",
       "6799                  0.72         0.21            0.00           0.0   \n",
       "\n",
       "      Proba Remittance  \n",
       "6851              0.03  \n",
       "6724              0.11  \n",
       "245               0.04  \n",
       "1880              0.36  \n",
       "6799              0.00  "
      ]
     },
     "execution_count": 416,
     "metadata": {},
     "output_type": "execute_result"
    }
   ],
   "source": [
    "# Determine the class order\n",
    "class_order = rf_model.classes_\n",
    "print(\"Class order:\", class_order)\n",
    "\n",
    "# Create a DataFrame to display actual and predicted labels with probabilities\n",
    "results_df = pd.DataFrame({\n",
    "    'Actual Label': y_test,\n",
    "    'Predicted Label': y_pred_test_rf,\n",
    "})\n",
    "\n",
    "# Add predicted probabilities with correct class names\n",
    "for i, class_name in enumerate(class_order):\n",
    "    results_df[f'Proba {class_name}'] = np.round(y_pred_test_proba_rf[:, i], 2)\n",
    "\n",
    "# Display the first few rows of the results DataFrame\n",
    "results_df.head()"
   ]
  },
  {
   "cell_type": "code",
   "execution_count": 417,
   "id": "6d91aca7",
   "metadata": {},
   "outputs": [
    {
     "name": "stdout",
     "output_type": "stream",
     "text": [
      "Train Accuracy: 0.9998\n",
      "Test Accuracy: 0.7277\n"
     ]
    }
   ],
   "source": [
    "# Evaluate the model\n",
    "train_accuracy = accuracy_score(y_train, y_pred_train_rf)\n",
    "test_accuracy = accuracy_score(y_test, y_pred_test_rf)\n",
    "print(f\"Train Accuracy: {train_accuracy:.4f}\")\n",
    "print(f\"Test Accuracy: {test_accuracy:.4f}\")"
   ]
  },
  {
   "cell_type": "markdown",
   "id": "e80d62ac",
   "metadata": {},
   "source": [
    "## Random Forest results\n",
    "### Train Accuracy: 0.9998\n",
    "### Test Accuracy: 0.7277\n"
   ]
  },
  {
   "cell_type": "markdown",
   "id": "dc7d758d",
   "metadata": {},
   "source": [
    "## 7.2 Build a Deep Neural Network classification model to predict the department"
   ]
  },
  {
   "cell_type": "code",
   "execution_count": 418,
   "id": "dce50fc5",
   "metadata": {},
   "outputs": [],
   "source": [
    "# Prepare the data\n",
    "y_categorical = pd.get_dummies(y, prefix='department').astype(int)\n",
    "X_train, X_test, y_train, y_test = train_test_split(X, y_categorical, test_size=0.2, random_state=42)"
   ]
  },
  {
   "cell_type": "code",
   "execution_count": 419,
   "id": "8b1c7b5f",
   "metadata": {},
   "outputs": [
    {
     "name": "stdout",
     "output_type": "stream",
     "text": [
      "Input shape: (1000,), Output shape: 7\n"
     ]
    }
   ],
   "source": [
    "# Create the DNN model\n",
    "input_shape = (X_train.shape[1],)\n",
    "output_shape = y_train.shape[1]\n",
    "print(f\"Input shape: {input_shape}, Output shape: {output_shape}\")"
   ]
  },
  {
   "cell_type": "code",
   "execution_count": 420,
   "id": "1399abee",
   "metadata": {},
   "outputs": [],
   "source": [
    "dnn_model = Sequential([\n",
    "    Input(shape=input_shape),\n",
    "    Dense(32, activation='relu'),\n",
    "    Dropout(0.2),\n",
    "    Dense(16, activation='relu'),\n",
    "    Dense(16, activation='relu'),\n",
    "    Dense(output_shape, activation='softmax')\n",
    "])"
   ]
  },
  {
   "cell_type": "code",
   "execution_count": 421,
   "id": "5c0100f5",
   "metadata": {},
   "outputs": [
    {
     "data": {
      "text/html": [
       "<pre style=\"white-space:pre;overflow-x:auto;line-height:normal;font-family:Menlo,'DejaVu Sans Mono',consolas,'Courier New',monospace\"><span style=\"font-weight: bold\">Model: \"sequential_7\"</span>\n",
       "</pre>\n"
      ],
      "text/plain": [
       "\u001b[1mModel: \"sequential_7\"\u001b[0m\n"
      ]
     },
     "metadata": {},
     "output_type": "display_data"
    },
    {
     "data": {
      "text/html": [
       "<pre style=\"white-space:pre;overflow-x:auto;line-height:normal;font-family:Menlo,'DejaVu Sans Mono',consolas,'Courier New',monospace\">┏━━━━━━━━━━━━━━━━━━━━━━━━━━━━━━━━━┳━━━━━━━━━━━━━━━━━━━━━━━━┳━━━━━━━━━━━━━━━┓\n",
       "┃<span style=\"font-weight: bold\"> Layer (type)                    </span>┃<span style=\"font-weight: bold\"> Output Shape           </span>┃<span style=\"font-weight: bold\">       Param # </span>┃\n",
       "┡━━━━━━━━━━━━━━━━━━━━━━━━━━━━━━━━━╇━━━━━━━━━━━━━━━━━━━━━━━━╇━━━━━━━━━━━━━━━┩\n",
       "│ dense_22 (<span style=\"color: #0087ff; text-decoration-color: #0087ff\">Dense</span>)                │ (<span style=\"color: #00d7ff; text-decoration-color: #00d7ff\">None</span>, <span style=\"color: #00af00; text-decoration-color: #00af00\">32</span>)             │        <span style=\"color: #00af00; text-decoration-color: #00af00\">32,032</span> │\n",
       "├─────────────────────────────────┼────────────────────────┼───────────────┤\n",
       "│ dropout_2 (<span style=\"color: #0087ff; text-decoration-color: #0087ff\">Dropout</span>)             │ (<span style=\"color: #00d7ff; text-decoration-color: #00d7ff\">None</span>, <span style=\"color: #00af00; text-decoration-color: #00af00\">32</span>)             │             <span style=\"color: #00af00; text-decoration-color: #00af00\">0</span> │\n",
       "├─────────────────────────────────┼────────────────────────┼───────────────┤\n",
       "│ dense_23 (<span style=\"color: #0087ff; text-decoration-color: #0087ff\">Dense</span>)                │ (<span style=\"color: #00d7ff; text-decoration-color: #00d7ff\">None</span>, <span style=\"color: #00af00; text-decoration-color: #00af00\">16</span>)             │           <span style=\"color: #00af00; text-decoration-color: #00af00\">528</span> │\n",
       "├─────────────────────────────────┼────────────────────────┼───────────────┤\n",
       "│ dense_24 (<span style=\"color: #0087ff; text-decoration-color: #0087ff\">Dense</span>)                │ (<span style=\"color: #00d7ff; text-decoration-color: #00d7ff\">None</span>, <span style=\"color: #00af00; text-decoration-color: #00af00\">16</span>)             │           <span style=\"color: #00af00; text-decoration-color: #00af00\">272</span> │\n",
       "├─────────────────────────────────┼────────────────────────┼───────────────┤\n",
       "│ dense_25 (<span style=\"color: #0087ff; text-decoration-color: #0087ff\">Dense</span>)                │ (<span style=\"color: #00d7ff; text-decoration-color: #00d7ff\">None</span>, <span style=\"color: #00af00; text-decoration-color: #00af00\">7</span>)              │           <span style=\"color: #00af00; text-decoration-color: #00af00\">119</span> │\n",
       "└─────────────────────────────────┴────────────────────────┴───────────────┘\n",
       "</pre>\n"
      ],
      "text/plain": [
       "┏━━━━━━━━━━━━━━━━━━━━━━━━━━━━━━━━━┳━━━━━━━━━━━━━━━━━━━━━━━━┳━━━━━━━━━━━━━━━┓\n",
       "┃\u001b[1m \u001b[0m\u001b[1mLayer (type)                   \u001b[0m\u001b[1m \u001b[0m┃\u001b[1m \u001b[0m\u001b[1mOutput Shape          \u001b[0m\u001b[1m \u001b[0m┃\u001b[1m \u001b[0m\u001b[1m      Param #\u001b[0m\u001b[1m \u001b[0m┃\n",
       "┡━━━━━━━━━━━━━━━━━━━━━━━━━━━━━━━━━╇━━━━━━━━━━━━━━━━━━━━━━━━╇━━━━━━━━━━━━━━━┩\n",
       "│ dense_22 (\u001b[38;5;33mDense\u001b[0m)                │ (\u001b[38;5;45mNone\u001b[0m, \u001b[38;5;34m32\u001b[0m)             │        \u001b[38;5;34m32,032\u001b[0m │\n",
       "├─────────────────────────────────┼────────────────────────┼───────────────┤\n",
       "│ dropout_2 (\u001b[38;5;33mDropout\u001b[0m)             │ (\u001b[38;5;45mNone\u001b[0m, \u001b[38;5;34m32\u001b[0m)             │             \u001b[38;5;34m0\u001b[0m │\n",
       "├─────────────────────────────────┼────────────────────────┼───────────────┤\n",
       "│ dense_23 (\u001b[38;5;33mDense\u001b[0m)                │ (\u001b[38;5;45mNone\u001b[0m, \u001b[38;5;34m16\u001b[0m)             │           \u001b[38;5;34m528\u001b[0m │\n",
       "├─────────────────────────────────┼────────────────────────┼───────────────┤\n",
       "│ dense_24 (\u001b[38;5;33mDense\u001b[0m)                │ (\u001b[38;5;45mNone\u001b[0m, \u001b[38;5;34m16\u001b[0m)             │           \u001b[38;5;34m272\u001b[0m │\n",
       "├─────────────────────────────────┼────────────────────────┼───────────────┤\n",
       "│ dense_25 (\u001b[38;5;33mDense\u001b[0m)                │ (\u001b[38;5;45mNone\u001b[0m, \u001b[38;5;34m7\u001b[0m)              │           \u001b[38;5;34m119\u001b[0m │\n",
       "└─────────────────────────────────┴────────────────────────┴───────────────┘\n"
      ]
     },
     "metadata": {},
     "output_type": "display_data"
    },
    {
     "data": {
      "text/html": [
       "<pre style=\"white-space:pre;overflow-x:auto;line-height:normal;font-family:Menlo,'DejaVu Sans Mono',consolas,'Courier New',monospace\"><span style=\"font-weight: bold\"> Total params: </span><span style=\"color: #00af00; text-decoration-color: #00af00\">32,951</span> (128.71 KB)\n",
       "</pre>\n"
      ],
      "text/plain": [
       "\u001b[1m Total params: \u001b[0m\u001b[38;5;34m32,951\u001b[0m (128.71 KB)\n"
      ]
     },
     "metadata": {},
     "output_type": "display_data"
    },
    {
     "data": {
      "text/html": [
       "<pre style=\"white-space:pre;overflow-x:auto;line-height:normal;font-family:Menlo,'DejaVu Sans Mono',consolas,'Courier New',monospace\"><span style=\"font-weight: bold\"> Trainable params: </span><span style=\"color: #00af00; text-decoration-color: #00af00\">32,951</span> (128.71 KB)\n",
       "</pre>\n"
      ],
      "text/plain": [
       "\u001b[1m Trainable params: \u001b[0m\u001b[38;5;34m32,951\u001b[0m (128.71 KB)\n"
      ]
     },
     "metadata": {},
     "output_type": "display_data"
    },
    {
     "data": {
      "text/html": [
       "<pre style=\"white-space:pre;overflow-x:auto;line-height:normal;font-family:Menlo,'DejaVu Sans Mono',consolas,'Courier New',monospace\"><span style=\"font-weight: bold\"> Non-trainable params: </span><span style=\"color: #00af00; text-decoration-color: #00af00\">0</span> (0.00 B)\n",
       "</pre>\n"
      ],
      "text/plain": [
       "\u001b[1m Non-trainable params: \u001b[0m\u001b[38;5;34m0\u001b[0m (0.00 B)\n"
      ]
     },
     "metadata": {},
     "output_type": "display_data"
    }
   ],
   "source": [
    "dnn_model.compile(optimizer='adam', loss='categorical_crossentropy', metrics=['accuracy'])\n",
    "dnn_model.summary()"
   ]
  },
  {
   "cell_type": "code",
   "execution_count": 422,
   "id": "eed16990",
   "metadata": {},
   "outputs": [],
   "source": [
    "# Epoch logger callback\n",
    "class EpochLogger(Callback):\n",
    "    def __init__(self, interval=10):\n",
    "        super().__init__()\n",
    "        self.interval = interval\n",
    "\n",
    "    def on_epoch_end(self, epoch, logs=None):\n",
    "        if (epoch + 1) % self.interval == 0:\n",
    "            log_str = f\"Epoch {epoch + 1}: \" + \", \".join(\n",
    "                [f\"{k}: {v:.4f}\" for k, v in logs.items()]\n",
    "            )\n",
    "            print(log_str)"
   ]
  },
  {
   "cell_type": "code",
   "execution_count": 423,
   "id": "fa56df9a",
   "metadata": {},
   "outputs": [],
   "source": [
    "# Define early stopping callbacks\n",
    "early_stopping = EarlyStopping(monitor='val_loss', patience=50, restore_best_weights=True)"
   ]
  },
  {
   "cell_type": "code",
   "execution_count": 424,
   "id": "7d0e2d2b",
   "metadata": {},
   "outputs": [
    {
     "name": "stdout",
     "output_type": "stream",
     "text": [
      "Epoch 10: accuracy: 0.8827, loss: 0.3616, val_accuracy: 0.7398, val_loss: 0.8020\n",
      "Epoch 20: accuracy: 0.9617, loss: 0.1297, val_accuracy: 0.7050, val_loss: 1.1974\n",
      "Epoch 30: accuracy: 0.9840, loss: 0.0579, val_accuracy: 0.7112, val_loss: 1.6217\n",
      "Epoch 40: accuracy: 0.9915, loss: 0.0319, val_accuracy: 0.7050, val_loss: 1.9778\n",
      "Epoch 50: accuracy: 0.9918, loss: 0.0254, val_accuracy: 0.7094, val_loss: 2.2600\n"
     ]
    }
   ],
   "source": [
    "# Train the model\n",
    "history = dnn_model.fit(\n",
    "    X_train, y_train,\n",
    "    epochs=500,\n",
    "    validation_split=0.2,\n",
    "    verbose=0,\n",
    "    callbacks=[\n",
    "        EpochLogger(interval=10),\n",
    "        early_stopping\n",
    "    ]\n",
    ")"
   ]
  },
  {
   "cell_type": "code",
   "execution_count": 425,
   "id": "57673588",
   "metadata": {},
   "outputs": [
    {
     "data": {
      "image/png": "[encoded data removed]",
      "text/plain": [
       "<Figure size 640x480 with 1 Axes>"
      ]
     },
     "metadata": {},
     "output_type": "display_data"
    }
   ],
   "source": [
    "# Plot training history\n",
    "plt.plot(history.history['loss'], label='train_loss')\n",
    "plt.plot(history.history['val_loss'], label='val_loss')\n",
    "plt.xlabel('Epoch')\n",
    "plt.ylabel('Loss')\n",
    "plt.legend()\n",
    "plt.show()"
   ]
  },
  {
   "cell_type": "markdown",
   "id": "12da12e8",
   "metadata": {},
   "source": [
    "## Deep neural networks overfit. Random Forest is more robust."
   ]
  },
  {
   "cell_type": "markdown",
   "id": "c35696a0",
   "metadata": {},
   "source": [
    "## 8. Sentiment Analysis"
   ]
  },
  {
   "cell_type": "code",
   "execution_count": 426,
   "id": "69213df8",
   "metadata": {},
   "outputs": [],
   "source": [
    "analyzer = SentimentIntensityAnalyzer()\n",
    "df_complaints['sentiment_scores_neg'] = df_complaints['complaint_description'].apply(lambda x: analyzer.polarity_scores(x)['neg'])\n",
    "df_complaints['sentiment_scores_pos'] = df_complaints['complaint_description'].apply(lambda x: analyzer.polarity_scores(x)['pos'])\n",
    "df_complaints['sentiment_scores_neu'] = df_complaints['complaint_description'].apply(lambda x: analyzer.polarity_scores(x)['neu'])\n",
    "df_complaints['sentiment_scores_compound'] = df_complaints['complaint_description'].apply(lambda x: analyzer.polarity_scores(x)['compound'])"
   ]
  },
  {
   "cell_type": "code",
   "execution_count": 427,
   "id": "8d675437",
   "metadata": {},
   "outputs": [
    {
     "data": {
      "image/png": "[encoded data removed]",
      "text/plain": [
       "<Figure size 640x480 with 1 Axes>"
      ]
     },
     "metadata": {},
     "output_type": "display_data"
    }
   ],
   "source": [
    "# Plot compound sentiment scores\n",
    "#plt.figure(figsize=(10, 6))\n",
    "sns.histplot(df_complaints['sentiment_scores_compound'], bins=30, kde=True)\n",
    "plt.title('Distribution of Compound Sentiment Scores')\n",
    "plt.xlabel('Compound Sentiment Score')\n",
    "plt.ylabel('Frequency')\n",
    "plt.show()"
   ]
  },
  {
   "cell_type": "code",
   "execution_count": 439,
   "id": "310702cc",
   "metadata": {},
   "outputs": [
    {
     "name": "stdout",
     "output_type": "stream",
     "text": [
      "I have a business account in BOA. I am the owner of the company. I usually use my mobile phone to deposit customers ' checks. \n",
      "\n",
      "On XX/XX/XX22, I used my mobile phone to deposit a check for {$40000.00}. The next day, I couldn't log in to the online bank. I casually called BOA and said that my account had been closed. The funds in it were being reviewed by the relevant departments of BOA. After the review, the balance, about {$4XX00.00}, would be sent to me by check. \n",
      "\n",
      "For nearly four months now, boa still hasn't sent me the check. Every time I calls, he just says that they are reviewing, and can't reply when the review ends or any other questions. \n",
      "\n",
      "I want to get my money back as soon as possible, or they can return the last {$40000.00} to the customer who paid me. \n",
      "\n",
      "Please help me, thank you\n"
     ]
    }
   ],
   "source": [
    "print(df_complaints[df_complaints['sentiment_scores_compound'] > 0.8]['complaint_description'][43])"
   ]
  },
  {
   "cell_type": "markdown",
   "id": "5d80f179",
   "metadata": {},
   "source": [
    "## Despite the data being about complaints, the sentiment analysis reveals that there are positive sentiment scores in the complaints. This could indicate that customers are expressing their grievances in a constructive manner, or it could be due to the nature of the complaints being related to issues that have been resolved or are in the process of being resolved.\n",
    "\n",
    "## However, as expected, the negative sentiments are in majority.\n",
    "\n",
    "## The bank can use the sentiment score to achieve the following:\n",
    "### 1. Prioritize customer complaints based on sentiment scores\n",
    "### 2. Prevent escalation of negative sentiments\n",
    "### 3. Prevent customer churn and improve customer satisfaction by addressing negative sentiments promptly and in a customized manner\n",
    "### 4. Monitor changes in customer sentiment over time to assess the changes in the quality of customer service\n",
    "### 5. Use as a KPI to measure the effectiveness of customer service initiatives"
   ]
  }
 ],
 "metadata": {
  "kernelspec": {
   "display_name": "Python 3",
   "language": "python",
   "name": "python3"
  },
  "language_info": {
   "codemirror_mode": {
    "name": "ipython",
    "version": 3
   },
   "file_extension": ".py",
   "mimetype": "text/x-python",
   "name": "python",
   "nbconvert_exporter": "python",
   "pygments_lexer": "ipython3",
   "version": "3.12.10"
  }
 },
 "nbformat": 4,
 "nbformat_minor": 5
}
