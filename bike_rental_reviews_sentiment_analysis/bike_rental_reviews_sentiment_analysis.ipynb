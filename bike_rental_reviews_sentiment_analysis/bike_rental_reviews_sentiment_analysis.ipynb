{
 "cells": [
  {
   "cell_type": "markdown",
   "id": "aaebfaf3",
   "metadata": {},
   "source": [
    "## 1. Import libraries"
   ]
  },
  {
   "cell_type": "code",
   "execution_count": 405,
   "id": "9ad011fe",
   "metadata": {},
   "outputs": [
    {
     "name": "stdout",
     "output_type": "stream",
     "text": [
      "TensorFlow version: 2.19.0\n",
      "GPU available: False\n",
      "Setup complete!\n"
     ]
    }
   ],
   "source": [
    "# import libraries\n",
    "import pandas as pd\n",
    "import numpy as np\n",
    "import matplotlib.pyplot as plt\n",
    "import re\n",
    "import tensorflow as tf\n",
    "from nltk import pos_tag, word_tokenize\n",
    "from nltk.corpus import stopwords, wordnet\n",
    "from nltk.stem import WordNetLemmatizer\n",
    "from sklearn.model_selection import train_test_split\n",
    "from sklearn.metrics import accuracy_score\n",
    "from tensorflow.keras.models import Sequential\n",
    "from tensorflow.keras.layers import Dense, Bidirectional, LSTM, Embedding\n",
    "from tensorflow.keras.callbacks import Callback\n",
    "# from tf_keras.callbacks import EarlyStopping\n",
    "import matplotlib.pyplot as plt\n",
    "from gensim.models import Word2Vec\n",
    "from sklearn.metrics import accuracy_score, f1_score, confusion_matrix, classification_report\n",
    "from sklearn.linear_model import LogisticRegression\n",
    "from sklearn.naive_bayes import GaussianNB\n",
    "\n",
    "from transformers import TFBertForSequenceClassification, BertTokenizer\n",
    "\n",
    "# Disable oneDNN optimizations to avoid potential minor numerical differences caused by floating-point round-off errors.\n",
    "import os\n",
    "os.environ['TF_ENABLE_ONEDNN_OPTS'] = '0'\n",
    "\n",
    "# Print versions to make sure everything is installed correctly\n",
    "print(f\"TensorFlow version: {tf.__version__}\")\n",
    "print(f\"GPU available: {len(tf.config.list_physical_devices('GPU')) > 0}\")\n",
    "\n",
    "# Set random seed so our results are reproducible\n",
    "tf.random.set_seed(42)\n",
    "print(\"Setup complete!\")"
   ]
  },
  {
   "cell_type": "markdown",
   "id": "fe665bdb",
   "metadata": {},
   "source": [
    "## 2. Collect data"
   ]
  },
  {
   "cell_type": "code",
   "execution_count": 406,
   "id": "700cffb8",
   "metadata": {},
   "outputs": [
    {
     "name": "stdout",
     "output_type": "stream",
     "text": [
      "                                         review_text sentiment\n",
      "0  The entire process was easy, and the availabil...  positive\n",
      "1  Standard rental process. The mobile app was ac...   neutral\n",
      "2  One of the best bike rentals I’ve had. The mob...  positive\n",
      "3  One of the best bike rentals I’ve had. The cus...  positive\n",
      "4  Not worth the money. The seat comfort was a ma...  negative\n",
      "(50000, 2)\n"
     ]
    }
   ],
   "source": [
    "bike_rental_file_name = \"bike_rental_reviews.csv\"\n",
    "df = pd.read_csv(bike_rental_file_name)\n",
    "print(df.head(5))\n",
    "print(df.shape)"
   ]
  },
  {
   "cell_type": "markdown",
   "id": "9522f68d",
   "metadata": {},
   "source": [
    "## 3. Check the data"
   ]
  },
  {
   "cell_type": "code",
   "execution_count": 407,
   "id": "2b13274c",
   "metadata": {},
   "outputs": [
    {
     "data": {
      "text/plain": [
       "review_text    0\n",
       "sentiment      0\n",
       "dtype: int64"
      ]
     },
     "execution_count": 407,
     "metadata": {},
     "output_type": "execute_result"
    }
   ],
   "source": [
    "# Check null values\n",
    "df.isnull().sum()"
   ]
  },
  {
   "cell_type": "code",
   "execution_count": 408,
   "id": "ef569861",
   "metadata": {},
   "outputs": [
    {
     "data": {
      "text/plain": [
       "49700"
      ]
     },
     "execution_count": 408,
     "metadata": {},
     "output_type": "execute_result"
    }
   ],
   "source": [
    "# Check duplicates\n",
    "df.duplicated().sum()"
   ]
  },
  {
   "cell_type": "code",
   "execution_count": 409,
   "id": "00d28d5c",
   "metadata": {},
   "outputs": [],
   "source": [
    "# Remove duplicates\n",
    "df = df.drop_duplicates()"
   ]
  },
  {
   "cell_type": "code",
   "execution_count": 410,
   "id": "b1d8a786",
   "metadata": {},
   "outputs": [
    {
     "name": "stdout",
     "output_type": "stream",
     "text": [
      "<class 'pandas.core.frame.DataFrame'>\n",
      "Index: 300 entries, 0 to 1634\n",
      "Data columns (total 2 columns):\n",
      " #   Column       Non-Null Count  Dtype \n",
      "---  ------       --------------  ----- \n",
      " 0   review_text  300 non-null    object\n",
      " 1   sentiment    300 non-null    object\n",
      "dtypes: object(2)\n",
      "memory usage: 7.0+ KB\n"
     ]
    }
   ],
   "source": [
    "df.info()"
   ]
  },
  {
   "cell_type": "code",
   "execution_count": 411,
   "id": "1ecff5bc",
   "metadata": {},
   "outputs": [
    {
     "data": {
      "text/plain": [
       "(300, 2)"
      ]
     },
     "execution_count": 411,
     "metadata": {},
     "output_type": "execute_result"
    }
   ],
   "source": [
    "df.shape"
   ]
  },
  {
   "cell_type": "code",
   "execution_count": 412,
   "id": "364b4250",
   "metadata": {},
   "outputs": [
    {
     "data": {
      "text/plain": [
       "sentiment\n",
       "positive    100\n",
       "neutral     100\n",
       "negative    100\n",
       "Name: count, dtype: int64"
      ]
     },
     "execution_count": 412,
     "metadata": {},
     "output_type": "execute_result"
    }
   ],
   "source": [
    "df['sentiment'].value_counts()"
   ]
  },
  {
   "cell_type": "markdown",
   "id": "0c5ce8d7",
   "metadata": {},
   "source": [
    "## The dataset has 50000 records, 49700 are duplicate. Only 300 records left after removal of duplicates."
   ]
  },
  {
   "cell_type": "markdown",
   "id": "5c1e9d1b",
   "metadata": {},
   "source": [
    "## The data is well balanced (100 records for each sentiment class) but we''ll add synthetic data to augment the volume of data"
   ]
  },
  {
   "cell_type": "markdown",
   "id": "fa6e04f3",
   "metadata": {},
   "source": [
    "## 4. Add synthetic data"
   ]
  },
  {
   "cell_type": "code",
   "execution_count": 413,
   "id": "3feb9954",
   "metadata": {},
   "outputs": [
    {
     "name": "stdout",
     "output_type": "stream",
     "text": [
      "Checking null values:\n",
      "review_text    0\n",
      "sentiment      0\n",
      "dtype: int64\n",
      "Checking duplicates:\n",
      "0\n",
      "Shape:\n",
      "(3300, 2)\n",
      "<class 'pandas.core.frame.DataFrame'>\n",
      "RangeIndex: 3300 entries, 0 to 3299\n",
      "Data columns (total 2 columns):\n",
      " #   Column       Non-Null Count  Dtype \n",
      "---  ------       --------------  ----- \n",
      " 0   review_text  3300 non-null   object\n",
      " 1   sentiment    3300 non-null   object\n",
      "dtypes: object(2)\n",
      "memory usage: 51.7+ KB\n",
      "None\n"
     ]
    },
    {
     "data": {
      "text/plain": [
       "sentiment\n",
       "positive    1100\n",
       "neutral     1100\n",
       "negative    1100\n",
       "Name: count, dtype: int64"
      ]
     },
     "execution_count": 413,
     "metadata": {},
     "output_type": "execute_result"
    }
   ],
   "source": [
    "# Adding 3000 reviews generated from the internet\n",
    "bike_rental_file_name_updated = \"bike_rental_reviews_augmented_unique.csv\"\n",
    "df = pd.read_csv(\"bike_rental_reviews_augmented_unique.csv\", encoding=\"latin1\")\n",
    "# Check null values\n",
    "print('Checking null values:')\n",
    "print(df.isnull().sum())\n",
    "# Check duplicates\n",
    "print('Checking duplicates:')\n",
    "print(df.duplicated().sum())\n",
    "print('Shape:')\n",
    "print(df.shape)\n",
    "print(df.info())\n",
    "df['sentiment'].value_counts()"
   ]
  },
  {
   "cell_type": "markdown",
   "id": "18d1e49f",
   "metadata": {},
   "source": [
    "## The data set now has a total of 3300 unique reviews and is well balanced: 1100 positive, 1100 negative, and 1100 neutral."
   ]
  },
  {
   "cell_type": "markdown",
   "id": "2b44283a",
   "metadata": {},
   "source": [
    "## 5. Preprocessing functions"
   ]
  },
  {
   "cell_type": "code",
   "execution_count": 414,
   "id": "bbb3f72e",
   "metadata": {},
   "outputs": [],
   "source": [
    "# Function to convert text to lowercase\n",
    "def convert_to_lowercase(text):\n",
    "    text = text.lower() # convert to lowercase\n",
    "    return text\n",
    "\n",
    "# Function to remove numbers\n",
    "def remove_numbers(text):\n",
    "    text = re.sub(r'\\d+', '', text)  # remove numbers\n",
    "    return text\n",
    "\n",
    "# Function to remove stopwords\n",
    "stop_words = set(stopwords.words('english'))\n",
    "sentiment_words = {'not', 'no', 'never', 'very', 'really', 'extremely'}\n",
    "stop_words = stop_words - sentiment_words\n",
    "def remove_stopwords(text):\n",
    "    words = text.split()\n",
    "    filtered_words = [word for word in words if word not in stop_words]\n",
    "    text = ' '.join(filtered_words)\n",
    "    return text\n",
    "\n",
    "# Function to remove punctuation\n",
    "def remove_punctuation(text):\n",
    "    text = re.sub(r'[^\\w\\s]', '', text) # \n",
    "    return text\n",
    "\n",
    "# Function to remove extra spaces\n",
    "def remove_extra_spaces(text):\n",
    "    text = re.sub(r'\\s+', ' ', text) # replace multiple spaces with a single space\n",
    "    text = text.strip() # remove leading and trailing spaces\n",
    "    return text\n",
    "\n",
    "# Function to convert Penn Treebank tags to WordNet tags\n",
    "def convert_pos_tag(penn_tag):\n",
    "    if penn_tag.startswith('J'):\n",
    "        return wordnet.ADJ\n",
    "    elif penn_tag.startswith('V'):\n",
    "        return wordnet.VERB\n",
    "    elif penn_tag.startswith('N'):\n",
    "        return wordnet.NOUN\n",
    "    elif penn_tag.startswith('R'):\n",
    "        return wordnet.ADV\n",
    "    else:\n",
    "        return None\n",
    "    \n",
    "# Function to lemmatize text\n",
    "def lemmatize_text(text):\n",
    "    lemmatizer = WordNetLemmatizer()\n",
    "    tokens = word_tokenize(text)\n",
    "    pos_tags = pos_tag(tokens)\n",
    "    lemmatized_text = []\n",
    "    for word, tag in pos_tags:\n",
    "        wordnet_tag = convert_pos_tag(tag)\n",
    "        if wordnet_tag:\n",
    "            lemmatized_word = lemmatizer.lemmatize(word, pos=wordnet_tag)\n",
    "        else:\n",
    "            lemmatized_word = lemmatizer.lemmatize(word)\n",
    "        lemmatized_text.append(lemmatized_word)\n",
    "    return lemmatized_text\n",
    "\n",
    "# Define text preprocessing function\n",
    "def preprocessing(text):\n",
    "    text = convert_to_lowercase(text)\n",
    "    text = remove_numbers(text)\n",
    "    text = remove_stopwords(text)\n",
    "    text = remove_punctuation(text)\n",
    "    text = remove_extra_spaces(text)\n",
    "    lemmatized_tokens = lemmatize_text(text)\n",
    "    return lemmatized_tokens"
   ]
  },
  {
   "cell_type": "code",
   "execution_count": 415,
   "id": "1dcd2d73",
   "metadata": {},
   "outputs": [
    {
     "data": {
      "text/plain": [
       "'The entire process was easy, and the availability was high quality.'"
      ]
     },
     "execution_count": 415,
     "metadata": {},
     "output_type": "execute_result"
    }
   ],
   "source": [
    "sample_text = df['review_text'].iloc[0]\n",
    "sample_text"
   ]
  },
  {
   "cell_type": "markdown",
   "id": "de1d453c",
   "metadata": {},
   "source": [
    "## 6. Preprocess the text and convert to vector"
   ]
  },
  {
   "cell_type": "code",
   "execution_count": 416,
   "id": "1202694a",
   "metadata": {},
   "outputs": [
    {
     "data": {
      "text/html": [
       "<div>\n",
       "<style scoped>\n",
       "    .dataframe tbody tr th:only-of-type {\n",
       "        vertical-align: middle;\n",
       "    }\n",
       "\n",
       "    .dataframe tbody tr th {\n",
       "        vertical-align: top;\n",
       "    }\n",
       "\n",
       "    .dataframe thead th {\n",
       "        text-align: right;\n",
       "    }\n",
       "</style>\n",
       "<table border=\"1\" class=\"dataframe\">\n",
       "  <thead>\n",
       "    <tr style=\"text-align: right;\">\n",
       "      <th></th>\n",
       "      <th>review_text</th>\n",
       "      <th>sentiment</th>\n",
       "      <th>lemmatized_tokens</th>\n",
       "      <th>lemmatized_text</th>\n",
       "    </tr>\n",
       "  </thead>\n",
       "  <tbody>\n",
       "    <tr>\n",
       "      <th>0</th>\n",
       "      <td>The entire process was easy, and the availabil...</td>\n",
       "      <td>positive</td>\n",
       "      <td>[entire, process, easy, availability, high, qu...</td>\n",
       "      <td>entire process easy availability high quality</td>\n",
       "    </tr>\n",
       "    <tr>\n",
       "      <th>1</th>\n",
       "      <td>Standard rental process. The mobile app was ac...</td>\n",
       "      <td>neutral</td>\n",
       "      <td>[standard, rental, process, mobile, app, accep...</td>\n",
       "      <td>standard rental process mobile app acceptable</td>\n",
       "    </tr>\n",
       "    <tr>\n",
       "      <th>2</th>\n",
       "      <td>One of the best bike rentals Iâve had. The m...</td>\n",
       "      <td>positive</td>\n",
       "      <td>[one, best, bike, rental, iâve, have, mobile, ...</td>\n",
       "      <td>one best bike rental iâve have mobile app make...</td>\n",
       "    </tr>\n",
       "    <tr>\n",
       "      <th>3</th>\n",
       "      <td>One of the best bike rentals Iâve had. The c...</td>\n",
       "      <td>positive</td>\n",
       "      <td>[one, best, bike, rental, iâve, have, customer...</td>\n",
       "      <td>one best bike rental iâve have customer servic...</td>\n",
       "    </tr>\n",
       "    <tr>\n",
       "      <th>4</th>\n",
       "      <td>Not worth the money. The seat comfort was a ma...</td>\n",
       "      <td>negative</td>\n",
       "      <td>[not, worth, money, seat, comfort, major, letd...</td>\n",
       "      <td>not worth money seat comfort major letdown</td>\n",
       "    </tr>\n",
       "  </tbody>\n",
       "</table>\n",
       "</div>"
      ],
      "text/plain": [
       "                                         review_text sentiment  \\\n",
       "0  The entire process was easy, and the availabil...  positive   \n",
       "1  Standard rental process. The mobile app was ac...   neutral   \n",
       "2  One of the best bike rentals Iâve had. The m...  positive   \n",
       "3  One of the best bike rentals Iâve had. The c...  positive   \n",
       "4  Not worth the money. The seat comfort was a ma...  negative   \n",
       "\n",
       "                                   lemmatized_tokens  \\\n",
       "0  [entire, process, easy, availability, high, qu...   \n",
       "1  [standard, rental, process, mobile, app, accep...   \n",
       "2  [one, best, bike, rental, iâve, have, mobile, ...   \n",
       "3  [one, best, bike, rental, iâve, have, customer...   \n",
       "4  [not, worth, money, seat, comfort, major, letd...   \n",
       "\n",
       "                                     lemmatized_text  \n",
       "0      entire process easy availability high quality  \n",
       "1      standard rental process mobile app acceptable  \n",
       "2  one best bike rental iâve have mobile app make...  \n",
       "3  one best bike rental iâve have customer servic...  \n",
       "4         not worth money seat comfort major letdown  "
      ]
     },
     "execution_count": 416,
     "metadata": {},
     "output_type": "execute_result"
    }
   ],
   "source": [
    "df['lemmatized_tokens'] = df['review_text'].apply(preprocessing)\n",
    "df['lemmatized_text'] = df['lemmatized_tokens'].apply(lambda x: ' '.join(x))\n",
    "df.head(5)"
   ]
  },
  {
   "cell_type": "code",
   "execution_count": 417,
   "id": "b6682303",
   "metadata": {},
   "outputs": [],
   "source": [
    "#Embeddings\n",
    "# Train Word2Vec on our data\n",
    "sentences = df['lemmatized_tokens'].tolist()\n",
    "embedding_dim = 64\n",
    "w2v_model = Word2Vec(sentences, vector_size=embedding_dim, window=3, min_count=1, workers=1, seed=42)\n",
    "\n",
    "def text_to_vector(tokens, model):\n",
    "    vectors = [model.wv[token] for token in tokens if token in model.wv]\n",
    "    return np.mean(vectors, axis=0) if vectors else np.zeros(model.vector_size)\n",
    "\n",
    "embeddings = np.array([text_to_vector(tokens, w2v_model) for tokens in df['lemmatized_tokens']])"
   ]
  },
  {
   "cell_type": "code",
   "execution_count": 418,
   "id": "12f3d23c",
   "metadata": {},
   "outputs": [
    {
     "data": {
      "text/plain": [
       "array([[ 0.0791572 ,  0.00644299,  0.2436767 , ...,  0.11822394,\n",
       "        -0.00580738, -0.01396834],\n",
       "       [ 0.07821969, -0.00380901,  0.24819218, ...,  0.11994804,\n",
       "        -0.0169487 ,  0.02001074],\n",
       "       [ 0.06419338, -0.00694769,  0.23291478, ...,  0.11963701,\n",
       "        -0.01581222,  0.00864591],\n",
       "       ...,\n",
       "       [ 0.0492725 , -0.01980472,  0.23353224, ...,  0.11309376,\n",
       "        -0.03661293,  0.0617983 ],\n",
       "       [ 0.08781005,  0.00221789,  0.25528407, ...,  0.12215865,\n",
       "        -0.02110055,  0.0416401 ],\n",
       "       [ 0.04407817, -0.0291678 ,  0.2248771 , ...,  0.11114988,\n",
       "        -0.03016918,  0.10235679]], dtype=float32)"
      ]
     },
     "execution_count": 418,
     "metadata": {},
     "output_type": "execute_result"
    }
   ],
   "source": [
    "embeddings"
   ]
  },
  {
   "cell_type": "markdown",
   "id": "4c3d1f59",
   "metadata": {},
   "source": [
    "## 7. Prepare the data and functions for modeling"
   ]
  },
  {
   "cell_type": "markdown",
   "id": "3949676f",
   "metadata": {},
   "source": [
    "### 7.1 Create X and y data"
   ]
  },
  {
   "cell_type": "code",
   "execution_count": 419,
   "id": "2941d425",
   "metadata": {},
   "outputs": [
    {
     "name": "stdout",
     "output_type": "stream",
     "text": [
      "[2 1 2 ... 0 0 0]\n"
     ]
    }
   ],
   "source": [
    "sentiments_map = {'negative': 0, 'neutral': 1, 'positive': 2}\n",
    "X = embeddings\n",
    "y = df['sentiment'].map(sentiments_map).values\n",
    "print(y)"
   ]
  },
  {
   "cell_type": "markdown",
   "id": "765e8686",
   "metadata": {},
   "source": [
    "### 7.2 Create train and test data"
   ]
  },
  {
   "cell_type": "code",
   "execution_count": 420,
   "id": "1884003d",
   "metadata": {},
   "outputs": [],
   "source": [
    "X_train, X_test, y_train, y_test = train_test_split(X, y, test_size=0.2, random_state=42)"
   ]
  },
  {
   "cell_type": "code",
   "execution_count": 421,
   "id": "613b7304",
   "metadata": {},
   "outputs": [
    {
     "data": {
      "text/plain": [
       "((2640, 64), (660, 64), (2640,), (660,))"
      ]
     },
     "execution_count": 421,
     "metadata": {},
     "output_type": "execute_result"
    }
   ],
   "source": [
    "X_train.shape, X_test.shape, y_train.shape, y_test.shape"
   ]
  },
  {
   "cell_type": "markdown",
   "id": "deee2122",
   "metadata": {},
   "source": [
    "### 7.3 Function to record the metrics\n"
   ]
  },
  {
   "cell_type": "code",
   "execution_count": 422,
   "id": "8482b597",
   "metadata": {},
   "outputs": [],
   "source": [
    "# Function to record the metrics of a multi-class classification model\n",
    "def get_multiclass_classification_metrics(model, model_name, X_train, y_train, X_test, y_test):\n",
    "   # Calculate probabilities\n",
    "   y_train_pred_proba = model.predict_proba(X_train)\n",
    "   y_test_pred_proba = model.predict_proba(X_test)\n",
    "\n",
    "   # Predict classes\n",
    "   y_train_pred = y_train_pred_proba.argmax(axis=1)\n",
    "   y_test_pred = y_test_pred_proba.argmax(axis=1)\n",
    "\n",
    "   # Calculate metrics\n",
    "   accuracy_train = accuracy_score(y_train, y_train_pred)\n",
    "   accuracy_test = accuracy_score(y_test, y_test_pred)\n",
    "#    precision_train = precision_score(y_train, y_train_pred, average='weighted', zero_division=0)\n",
    "#    precision_test = precision_score(y_test, y_test_pred, average='weighted', zero_division=0)\n",
    "#    recall_train = recall_score(y_train, y_train_pred, average='weighted', zero_division=0)\n",
    "#    recall_test = recall_score(y_test, y_test_pred, average='weighted', zero_division=0)\n",
    "   f1_train = f1_score(y_train, y_train_pred, average='weighted', zero_division=0)\n",
    "   f1_test = f1_score(y_test, y_test_pred, average='weighted', zero_division=0)\n",
    "\n",
    "   # Confusion matrix and classification report for test data\n",
    "   conf_matrix = confusion_matrix(y_test, y_test_pred, labels=model.classes_)\n",
    "   class_report = classification_report(y_test, y_test_pred, labels=model.classes_)\n",
    "\n",
    "   # Store all metrics in a dataframe with 4 decimal places\n",
    "   metrics_df = pd.DataFrame([{\n",
    "       \"model_name\": model_name,\n",
    "       \"train_accuracy\": round(accuracy_train, 4),\n",
    "       \"test_accuracy\": round(accuracy_test, 4),\n",
    "    #    \"train_precision\": round(precision_train, 4),\n",
    "    #    \"test_precision\": round(precision_test, 4),\n",
    "    #    \"train_recall\": round(recall_train, 4),\n",
    "    #    \"test_recall\": round(recall_test, 4),\n",
    "       \"train_f1\": round(f1_train, 4),\n",
    "       \"test_f1\": round(f1_test, 4)\n",
    "   }])\n",
    "\n",
    "   # Print the metrics\n",
    "   print('Classification metrics of', model_name)\n",
    "   print(metrics_df.T)\n",
    "   print('\\nConfusion Matrix of', model_name)\n",
    "   print(conf_matrix)\n",
    "   print('\\nClassification Report of', model_name)\n",
    "   print(class_report)\n",
    "\n",
    "   return metrics_df"
   ]
  },
  {
   "cell_type": "code",
   "execution_count": 423,
   "id": "3671268f",
   "metadata": {},
   "outputs": [],
   "source": [
    "# Initiate classification metrics dataframe for all models that will be evaluated\n",
    "classification_metrics_all_results = pd.DataFrame(columns=[\n",
    "    \"model_name\",\n",
    "    \"train_accuracy\",\n",
    "    \"test_accuracy\",\n",
    "    # \"train_precision\",\n",
    "    # \"test_precision\",\n",
    "    # \"train_recall\",\n",
    "    # \"test_recall\",\n",
    "    \"train_f1\",\n",
    "    \"test_f1\"\n",
    "])"
   ]
  },
  {
   "cell_type": "markdown",
   "id": "5e170e15",
   "metadata": {},
   "source": [
    "### 7.4 Epoch Logging and Early Stopping functions"
   ]
  },
  {
   "cell_type": "code",
   "execution_count": 424,
   "id": "c377de4e",
   "metadata": {},
   "outputs": [],
   "source": [
    "# Epoch logger callback\n",
    "class EpochLogger(Callback):\n",
    "    def __init__(self, interval=10):\n",
    "        super().__init__()\n",
    "        self.interval = interval\n",
    "\n",
    "    def on_epoch_end(self, epoch, logs=None):\n",
    "        if (epoch + 1) % self.interval == 0:\n",
    "            log_str = f\"Epoch {epoch + 1}: \" + \", \".join(\n",
    "                [f\"{k}: {v:.4f}\" for k, v in logs.items()]\n",
    "            )\n",
    "            print(log_str)\n",
    "\n",
    "# Define early stopping callbacks\n",
    "# early_stopping = EarlyStopping(monitor='val_loss', patience=50, restore_best_weights=True)"
   ]
  },
  {
   "cell_type": "markdown",
   "id": "9f95446a",
   "metadata": {},
   "source": [
    "## 8. Logistic regression model"
   ]
  },
  {
   "cell_type": "code",
   "execution_count": 425,
   "id": "6aaff28c",
   "metadata": {},
   "outputs": [],
   "source": [
    "# Build Logistic Regression Model\n",
    "log_reg_model = LogisticRegression(max_iter=1000, random_state=42)"
   ]
  },
  {
   "cell_type": "code",
   "execution_count": 426,
   "id": "f1f3f192",
   "metadata": {},
   "outputs": [
    {
     "data": {
      "text/html": [
       "<style>#sk-container-id-19 {\n",
       "  /* Definition of color scheme common for light and dark mode */\n",
       "  --sklearn-color-text: #000;\n",
       "  --sklearn-color-text-muted: #666;\n",
       "  --sklearn-color-line: gray;\n",
       "  /* Definition of color scheme for unfitted estimators */\n",
       "  --sklearn-color-unfitted-level-0: #fff5e6;\n",
       "  --sklearn-color-unfitted-level-1: #f6e4d2;\n",
       "  --sklearn-color-unfitted-level-2: #ffe0b3;\n",
       "  --sklearn-color-unfitted-level-3: chocolate;\n",
       "  /* Definition of color scheme for fitted estimators */\n",
       "  --sklearn-color-fitted-level-0: #f0f8ff;\n",
       "  --sklearn-color-fitted-level-1: #d4ebff;\n",
       "  --sklearn-color-fitted-level-2: #b3dbfd;\n",
       "  --sklearn-color-fitted-level-3: cornflowerblue;\n",
       "\n",
       "  /* Specific color for light theme */\n",
       "  --sklearn-color-text-on-default-background: var(--sg-text-color, var(--theme-code-foreground, var(--jp-content-font-color1, black)));\n",
       "  --sklearn-color-background: var(--sg-background-color, var(--theme-background, var(--jp-layout-color0, white)));\n",
       "  --sklearn-color-border-box: var(--sg-text-color, var(--theme-code-foreground, var(--jp-content-font-color1, black)));\n",
       "  --sklearn-color-icon: #696969;\n",
       "\n",
       "  @media (prefers-color-scheme: dark) {\n",
       "    /* Redefinition of color scheme for dark theme */\n",
       "    --sklearn-color-text-on-default-background: var(--sg-text-color, var(--theme-code-foreground, var(--jp-content-font-color1, white)));\n",
       "    --sklearn-color-background: var(--sg-background-color, var(--theme-background, var(--jp-layout-color0, #111)));\n",
       "    --sklearn-color-border-box: var(--sg-text-color, var(--theme-code-foreground, var(--jp-content-font-color1, white)));\n",
       "    --sklearn-color-icon: #878787;\n",
       "  }\n",
       "}\n",
       "\n",
       "#sk-container-id-19 {\n",
       "  color: var(--sklearn-color-text);\n",
       "}\n",
       "\n",
       "#sk-container-id-19 pre {\n",
       "  padding: 0;\n",
       "}\n",
       "\n",
       "#sk-container-id-19 input.sk-hidden--visually {\n",
       "  border: 0;\n",
       "  clip: rect(1px 1px 1px 1px);\n",
       "  clip: rect(1px, 1px, 1px, 1px);\n",
       "  height: 1px;\n",
       "  margin: -1px;\n",
       "  overflow: hidden;\n",
       "  padding: 0;\n",
       "  position: absolute;\n",
       "  width: 1px;\n",
       "}\n",
       "\n",
       "#sk-container-id-19 div.sk-dashed-wrapped {\n",
       "  border: 1px dashed var(--sklearn-color-line);\n",
       "  margin: 0 0.4em 0.5em 0.4em;\n",
       "  box-sizing: border-box;\n",
       "  padding-bottom: 0.4em;\n",
       "  background-color: var(--sklearn-color-background);\n",
       "}\n",
       "\n",
       "#sk-container-id-19 div.sk-container {\n",
       "  /* jupyter's `normalize.less` sets `[hidden] { display: none; }`\n",
       "     but bootstrap.min.css set `[hidden] { display: none !important; }`\n",
       "     so we also need the `!important` here to be able to override the\n",
       "     default hidden behavior on the sphinx rendered scikit-learn.org.\n",
       "     See: https://github.com/scikit-learn/scikit-learn/issues/21755 */\n",
       "  display: inline-block !important;\n",
       "  position: relative;\n",
       "}\n",
       "\n",
       "#sk-container-id-19 div.sk-text-repr-fallback {\n",
       "  display: none;\n",
       "}\n",
       "\n",
       "div.sk-parallel-item,\n",
       "div.sk-serial,\n",
       "div.sk-item {\n",
       "  /* draw centered vertical line to link estimators */\n",
       "  background-image: linear-gradient(var(--sklearn-color-text-on-default-background), var(--sklearn-color-text-on-default-background));\n",
       "  background-size: 2px 100%;\n",
       "  background-repeat: no-repeat;\n",
       "  background-position: center center;\n",
       "}\n",
       "\n",
       "/* Parallel-specific style estimator block */\n",
       "\n",
       "#sk-container-id-19 div.sk-parallel-item::after {\n",
       "  content: \"\";\n",
       "  width: 100%;\n",
       "  border-bottom: 2px solid var(--sklearn-color-text-on-default-background);\n",
       "  flex-grow: 1;\n",
       "}\n",
       "\n",
       "#sk-container-id-19 div.sk-parallel {\n",
       "  display: flex;\n",
       "  align-items: stretch;\n",
       "  justify-content: center;\n",
       "  background-color: var(--sklearn-color-background);\n",
       "  position: relative;\n",
       "}\n",
       "\n",
       "#sk-container-id-19 div.sk-parallel-item {\n",
       "  display: flex;\n",
       "  flex-direction: column;\n",
       "}\n",
       "\n",
       "#sk-container-id-19 div.sk-parallel-item:first-child::after {\n",
       "  align-self: flex-end;\n",
       "  width: 50%;\n",
       "}\n",
       "\n",
       "#sk-container-id-19 div.sk-parallel-item:last-child::after {\n",
       "  align-self: flex-start;\n",
       "  width: 50%;\n",
       "}\n",
       "\n",
       "#sk-container-id-19 div.sk-parallel-item:only-child::after {\n",
       "  width: 0;\n",
       "}\n",
       "\n",
       "/* Serial-specific style estimator block */\n",
       "\n",
       "#sk-container-id-19 div.sk-serial {\n",
       "  display: flex;\n",
       "  flex-direction: column;\n",
       "  align-items: center;\n",
       "  background-color: var(--sklearn-color-background);\n",
       "  padding-right: 1em;\n",
       "  padding-left: 1em;\n",
       "}\n",
       "\n",
       "\n",
       "/* Toggleable style: style used for estimator/Pipeline/ColumnTransformer box that is\n",
       "clickable and can be expanded/collapsed.\n",
       "- Pipeline and ColumnTransformer use this feature and define the default style\n",
       "- Estimators will overwrite some part of the style using the `sk-estimator` class\n",
       "*/\n",
       "\n",
       "/* Pipeline and ColumnTransformer style (default) */\n",
       "\n",
       "#sk-container-id-19 div.sk-toggleable {\n",
       "  /* Default theme specific background. It is overwritten whether we have a\n",
       "  specific estimator or a Pipeline/ColumnTransformer */\n",
       "  background-color: var(--sklearn-color-background);\n",
       "}\n",
       "\n",
       "/* Toggleable label */\n",
       "#sk-container-id-19 label.sk-toggleable__label {\n",
       "  cursor: pointer;\n",
       "  display: flex;\n",
       "  width: 100%;\n",
       "  margin-bottom: 0;\n",
       "  padding: 0.5em;\n",
       "  box-sizing: border-box;\n",
       "  text-align: center;\n",
       "  align-items: start;\n",
       "  justify-content: space-between;\n",
       "  gap: 0.5em;\n",
       "}\n",
       "\n",
       "#sk-container-id-19 label.sk-toggleable__label .caption {\n",
       "  font-size: 0.6rem;\n",
       "  font-weight: lighter;\n",
       "  color: var(--sklearn-color-text-muted);\n",
       "}\n",
       "\n",
       "#sk-container-id-19 label.sk-toggleable__label-arrow:before {\n",
       "  /* Arrow on the left of the label */\n",
       "  content: \"▸\";\n",
       "  float: left;\n",
       "  margin-right: 0.25em;\n",
       "  color: var(--sklearn-color-icon);\n",
       "}\n",
       "\n",
       "#sk-container-id-19 label.sk-toggleable__label-arrow:hover:before {\n",
       "  color: var(--sklearn-color-text);\n",
       "}\n",
       "\n",
       "/* Toggleable content - dropdown */\n",
       "\n",
       "#sk-container-id-19 div.sk-toggleable__content {\n",
       "  max-height: 0;\n",
       "  max-width: 0;\n",
       "  overflow: hidden;\n",
       "  text-align: left;\n",
       "  /* unfitted */\n",
       "  background-color: var(--sklearn-color-unfitted-level-0);\n",
       "}\n",
       "\n",
       "#sk-container-id-19 div.sk-toggleable__content.fitted {\n",
       "  /* fitted */\n",
       "  background-color: var(--sklearn-color-fitted-level-0);\n",
       "}\n",
       "\n",
       "#sk-container-id-19 div.sk-toggleable__content pre {\n",
       "  margin: 0.2em;\n",
       "  border-radius: 0.25em;\n",
       "  color: var(--sklearn-color-text);\n",
       "  /* unfitted */\n",
       "  background-color: var(--sklearn-color-unfitted-level-0);\n",
       "}\n",
       "\n",
       "#sk-container-id-19 div.sk-toggleable__content.fitted pre {\n",
       "  /* unfitted */\n",
       "  background-color: var(--sklearn-color-fitted-level-0);\n",
       "}\n",
       "\n",
       "#sk-container-id-19 input.sk-toggleable__control:checked~div.sk-toggleable__content {\n",
       "  /* Expand drop-down */\n",
       "  max-height: 200px;\n",
       "  max-width: 100%;\n",
       "  overflow: auto;\n",
       "}\n",
       "\n",
       "#sk-container-id-19 input.sk-toggleable__control:checked~label.sk-toggleable__label-arrow:before {\n",
       "  content: \"▾\";\n",
       "}\n",
       "\n",
       "/* Pipeline/ColumnTransformer-specific style */\n",
       "\n",
       "#sk-container-id-19 div.sk-label input.sk-toggleable__control:checked~label.sk-toggleable__label {\n",
       "  color: var(--sklearn-color-text);\n",
       "  background-color: var(--sklearn-color-unfitted-level-2);\n",
       "}\n",
       "\n",
       "#sk-container-id-19 div.sk-label.fitted input.sk-toggleable__control:checked~label.sk-toggleable__label {\n",
       "  background-color: var(--sklearn-color-fitted-level-2);\n",
       "}\n",
       "\n",
       "/* Estimator-specific style */\n",
       "\n",
       "/* Colorize estimator box */\n",
       "#sk-container-id-19 div.sk-estimator input.sk-toggleable__control:checked~label.sk-toggleable__label {\n",
       "  /* unfitted */\n",
       "  background-color: var(--sklearn-color-unfitted-level-2);\n",
       "}\n",
       "\n",
       "#sk-container-id-19 div.sk-estimator.fitted input.sk-toggleable__control:checked~label.sk-toggleable__label {\n",
       "  /* fitted */\n",
       "  background-color: var(--sklearn-color-fitted-level-2);\n",
       "}\n",
       "\n",
       "#sk-container-id-19 div.sk-label label.sk-toggleable__label,\n",
       "#sk-container-id-19 div.sk-label label {\n",
       "  /* The background is the default theme color */\n",
       "  color: var(--sklearn-color-text-on-default-background);\n",
       "}\n",
       "\n",
       "/* On hover, darken the color of the background */\n",
       "#sk-container-id-19 div.sk-label:hover label.sk-toggleable__label {\n",
       "  color: var(--sklearn-color-text);\n",
       "  background-color: var(--sklearn-color-unfitted-level-2);\n",
       "}\n",
       "\n",
       "/* Label box, darken color on hover, fitted */\n",
       "#sk-container-id-19 div.sk-label.fitted:hover label.sk-toggleable__label.fitted {\n",
       "  color: var(--sklearn-color-text);\n",
       "  background-color: var(--sklearn-color-fitted-level-2);\n",
       "}\n",
       "\n",
       "/* Estimator label */\n",
       "\n",
       "#sk-container-id-19 div.sk-label label {\n",
       "  font-family: monospace;\n",
       "  font-weight: bold;\n",
       "  display: inline-block;\n",
       "  line-height: 1.2em;\n",
       "}\n",
       "\n",
       "#sk-container-id-19 div.sk-label-container {\n",
       "  text-align: center;\n",
       "}\n",
       "\n",
       "/* Estimator-specific */\n",
       "#sk-container-id-19 div.sk-estimator {\n",
       "  font-family: monospace;\n",
       "  border: 1px dotted var(--sklearn-color-border-box);\n",
       "  border-radius: 0.25em;\n",
       "  box-sizing: border-box;\n",
       "  margin-bottom: 0.5em;\n",
       "  /* unfitted */\n",
       "  background-color: var(--sklearn-color-unfitted-level-0);\n",
       "}\n",
       "\n",
       "#sk-container-id-19 div.sk-estimator.fitted {\n",
       "  /* fitted */\n",
       "  background-color: var(--sklearn-color-fitted-level-0);\n",
       "}\n",
       "\n",
       "/* on hover */\n",
       "#sk-container-id-19 div.sk-estimator:hover {\n",
       "  /* unfitted */\n",
       "  background-color: var(--sklearn-color-unfitted-level-2);\n",
       "}\n",
       "\n",
       "#sk-container-id-19 div.sk-estimator.fitted:hover {\n",
       "  /* fitted */\n",
       "  background-color: var(--sklearn-color-fitted-level-2);\n",
       "}\n",
       "\n",
       "/* Specification for estimator info (e.g. \"i\" and \"?\") */\n",
       "\n",
       "/* Common style for \"i\" and \"?\" */\n",
       "\n",
       ".sk-estimator-doc-link,\n",
       "a:link.sk-estimator-doc-link,\n",
       "a:visited.sk-estimator-doc-link {\n",
       "  float: right;\n",
       "  font-size: smaller;\n",
       "  line-height: 1em;\n",
       "  font-family: monospace;\n",
       "  background-color: var(--sklearn-color-background);\n",
       "  border-radius: 1em;\n",
       "  height: 1em;\n",
       "  width: 1em;\n",
       "  text-decoration: none !important;\n",
       "  margin-left: 0.5em;\n",
       "  text-align: center;\n",
       "  /* unfitted */\n",
       "  border: var(--sklearn-color-unfitted-level-1) 1pt solid;\n",
       "  color: var(--sklearn-color-unfitted-level-1);\n",
       "}\n",
       "\n",
       ".sk-estimator-doc-link.fitted,\n",
       "a:link.sk-estimator-doc-link.fitted,\n",
       "a:visited.sk-estimator-doc-link.fitted {\n",
       "  /* fitted */\n",
       "  border: var(--sklearn-color-fitted-level-1) 1pt solid;\n",
       "  color: var(--sklearn-color-fitted-level-1);\n",
       "}\n",
       "\n",
       "/* On hover */\n",
       "div.sk-estimator:hover .sk-estimator-doc-link:hover,\n",
       ".sk-estimator-doc-link:hover,\n",
       "div.sk-label-container:hover .sk-estimator-doc-link:hover,\n",
       ".sk-estimator-doc-link:hover {\n",
       "  /* unfitted */\n",
       "  background-color: var(--sklearn-color-unfitted-level-3);\n",
       "  color: var(--sklearn-color-background);\n",
       "  text-decoration: none;\n",
       "}\n",
       "\n",
       "div.sk-estimator.fitted:hover .sk-estimator-doc-link.fitted:hover,\n",
       ".sk-estimator-doc-link.fitted:hover,\n",
       "div.sk-label-container:hover .sk-estimator-doc-link.fitted:hover,\n",
       ".sk-estimator-doc-link.fitted:hover {\n",
       "  /* fitted */\n",
       "  background-color: var(--sklearn-color-fitted-level-3);\n",
       "  color: var(--sklearn-color-background);\n",
       "  text-decoration: none;\n",
       "}\n",
       "\n",
       "/* Span, style for the box shown on hovering the info icon */\n",
       ".sk-estimator-doc-link span {\n",
       "  display: none;\n",
       "  z-index: 9999;\n",
       "  position: relative;\n",
       "  font-weight: normal;\n",
       "  right: .2ex;\n",
       "  padding: .5ex;\n",
       "  margin: .5ex;\n",
       "  width: min-content;\n",
       "  min-width: 20ex;\n",
       "  max-width: 50ex;\n",
       "  color: var(--sklearn-color-text);\n",
       "  box-shadow: 2pt 2pt 4pt #999;\n",
       "  /* unfitted */\n",
       "  background: var(--sklearn-color-unfitted-level-0);\n",
       "  border: .5pt solid var(--sklearn-color-unfitted-level-3);\n",
       "}\n",
       "\n",
       ".sk-estimator-doc-link.fitted span {\n",
       "  /* fitted */\n",
       "  background: var(--sklearn-color-fitted-level-0);\n",
       "  border: var(--sklearn-color-fitted-level-3);\n",
       "}\n",
       "\n",
       ".sk-estimator-doc-link:hover span {\n",
       "  display: block;\n",
       "}\n",
       "\n",
       "/* \"?\"-specific style due to the `<a>` HTML tag */\n",
       "\n",
       "#sk-container-id-19 a.estimator_doc_link {\n",
       "  float: right;\n",
       "  font-size: 1rem;\n",
       "  line-height: 1em;\n",
       "  font-family: monospace;\n",
       "  background-color: var(--sklearn-color-background);\n",
       "  border-radius: 1rem;\n",
       "  height: 1rem;\n",
       "  width: 1rem;\n",
       "  text-decoration: none;\n",
       "  /* unfitted */\n",
       "  color: var(--sklearn-color-unfitted-level-1);\n",
       "  border: var(--sklearn-color-unfitted-level-1) 1pt solid;\n",
       "}\n",
       "\n",
       "#sk-container-id-19 a.estimator_doc_link.fitted {\n",
       "  /* fitted */\n",
       "  border: var(--sklearn-color-fitted-level-1) 1pt solid;\n",
       "  color: var(--sklearn-color-fitted-level-1);\n",
       "}\n",
       "\n",
       "/* On hover */\n",
       "#sk-container-id-19 a.estimator_doc_link:hover {\n",
       "  /* unfitted */\n",
       "  background-color: var(--sklearn-color-unfitted-level-3);\n",
       "  color: var(--sklearn-color-background);\n",
       "  text-decoration: none;\n",
       "}\n",
       "\n",
       "#sk-container-id-19 a.estimator_doc_link.fitted:hover {\n",
       "  /* fitted */\n",
       "  background-color: var(--sklearn-color-fitted-level-3);\n",
       "}\n",
       "</style><div id=\"sk-container-id-19\" class=\"sk-top-container\"><div class=\"sk-text-repr-fallback\"><pre>LogisticRegression(max_iter=1000, random_state=42)</pre><b>In a Jupyter environment, please rerun this cell to show the HTML representation or trust the notebook. <br />On GitHub, the HTML representation is unable to render, please try loading this page with nbviewer.org.</b></div><div class=\"sk-container\" hidden><div class=\"sk-item\"><div class=\"sk-estimator fitted sk-toggleable\"><input class=\"sk-toggleable__control sk-hidden--visually\" id=\"sk-estimator-id-19\" type=\"checkbox\" checked><label for=\"sk-estimator-id-19\" class=\"sk-toggleable__label fitted sk-toggleable__label-arrow\"><div><div>LogisticRegression</div></div><div><a class=\"sk-estimator-doc-link fitted\" rel=\"noreferrer\" target=\"_blank\" href=\"https://scikit-learn.org/1.6/modules/generated/sklearn.linear_model.LogisticRegression.html\">?<span>Documentation for LogisticRegression</span></a><span class=\"sk-estimator-doc-link fitted\">i<span>Fitted</span></span></div></label><div class=\"sk-toggleable__content fitted\"><pre>LogisticRegression(max_iter=1000, random_state=42)</pre></div> </div></div></div></div>"
      ],
      "text/plain": [
       "LogisticRegression(max_iter=1000, random_state=42)"
      ]
     },
     "execution_count": 426,
     "metadata": {},
     "output_type": "execute_result"
    }
   ],
   "source": [
    "# Train the Logistic Regression Model\n",
    "log_reg_model.fit(X_train, y_train)"
   ]
  },
  {
   "cell_type": "code",
   "execution_count": 427,
   "id": "46b95674",
   "metadata": {},
   "outputs": [
    {
     "name": "stdout",
     "output_type": "stream",
     "text": [
      "Classification metrics of Logistic Regression\n",
      "                                  0\n",
      "model_name      Logistic Regression\n",
      "train_accuracy               0.9178\n",
      "test_accuracy                0.8985\n",
      "train_f1                     0.9185\n",
      "test_f1                      0.8991\n",
      "\n",
      "Confusion Matrix of Logistic Regression\n",
      "[[205   0  15]\n",
      " [  8 184  25]\n",
      " [ 17   2 204]]\n",
      "\n",
      "Classification Report of Logistic Regression\n",
      "              precision    recall  f1-score   support\n",
      "\n",
      "           0       0.89      0.93      0.91       220\n",
      "           1       0.99      0.85      0.91       217\n",
      "           2       0.84      0.91      0.87       223\n",
      "\n",
      "    accuracy                           0.90       660\n",
      "   macro avg       0.91      0.90      0.90       660\n",
      "weighted avg       0.90      0.90      0.90       660\n",
      "\n"
     ]
    },
    {
     "name": "stderr",
     "output_type": "stream",
     "text": [
      "C:\\Users\\chris\\AppData\\Local\\Temp\\ipykernel_38232\\812160816.py:3: FutureWarning: The behavior of DataFrame concatenation with empty or all-NA entries is deprecated. In a future version, this will no longer exclude empty or all-NA columns when determining the result dtypes. To retain the old behavior, exclude the relevant entries before the concat operation.\n",
      "  classification_metrics_all_results = pd.concat([classification_metrics_all_results, log_reg_metrics_df], ignore_index=True)\n"
     ]
    },
    {
     "data": {
      "text/html": [
       "<div>\n",
       "<style scoped>\n",
       "    .dataframe tbody tr th:only-of-type {\n",
       "        vertical-align: middle;\n",
       "    }\n",
       "\n",
       "    .dataframe tbody tr th {\n",
       "        vertical-align: top;\n",
       "    }\n",
       "\n",
       "    .dataframe thead th {\n",
       "        text-align: right;\n",
       "    }\n",
       "</style>\n",
       "<table border=\"1\" class=\"dataframe\">\n",
       "  <thead>\n",
       "    <tr style=\"text-align: right;\">\n",
       "      <th></th>\n",
       "      <th>model_name</th>\n",
       "      <th>train_accuracy</th>\n",
       "      <th>test_accuracy</th>\n",
       "      <th>train_f1</th>\n",
       "      <th>test_f1</th>\n",
       "    </tr>\n",
       "  </thead>\n",
       "  <tbody>\n",
       "    <tr>\n",
       "      <th>0</th>\n",
       "      <td>Logistic Regression</td>\n",
       "      <td>0.9178</td>\n",
       "      <td>0.8985</td>\n",
       "      <td>0.9185</td>\n",
       "      <td>0.8991</td>\n",
       "    </tr>\n",
       "  </tbody>\n",
       "</table>\n",
       "</div>"
      ],
      "text/plain": [
       "            model_name  train_accuracy  test_accuracy  train_f1  test_f1\n",
       "0  Logistic Regression          0.9178         0.8985    0.9185   0.8991"
      ]
     },
     "execution_count": 427,
     "metadata": {},
     "output_type": "execute_result"
    }
   ],
   "source": [
    "# Evaluate the Logistic Regression Model\n",
    "log_reg_metrics_df = get_multiclass_classification_metrics(log_reg_model, \"Logistic Regression\", X_train, y_train, X_test, y_test)\n",
    "classification_metrics_all_results = pd.concat([classification_metrics_all_results, log_reg_metrics_df], ignore_index=True)\n",
    "classification_metrics_all_results"
   ]
  },
  {
   "cell_type": "markdown",
   "id": "d9f2cfb6",
   "metadata": {},
   "source": [
    "## 9. Naïve Bayes Model"
   ]
  },
  {
   "cell_type": "code",
   "execution_count": 428,
   "id": "e9ee8074",
   "metadata": {},
   "outputs": [],
   "source": [
    "# Build Naïve Bayes Model\n",
    "naive_bayes_model = GaussianNB()"
   ]
  },
  {
   "cell_type": "code",
   "execution_count": 429,
   "id": "c93b7fa6",
   "metadata": {},
   "outputs": [
    {
     "data": {
      "text/html": [
       "<style>#sk-container-id-20 {\n",
       "  /* Definition of color scheme common for light and dark mode */\n",
       "  --sklearn-color-text: #000;\n",
       "  --sklearn-color-text-muted: #666;\n",
       "  --sklearn-color-line: gray;\n",
       "  /* Definition of color scheme for unfitted estimators */\n",
       "  --sklearn-color-unfitted-level-0: #fff5e6;\n",
       "  --sklearn-color-unfitted-level-1: #f6e4d2;\n",
       "  --sklearn-color-unfitted-level-2: #ffe0b3;\n",
       "  --sklearn-color-unfitted-level-3: chocolate;\n",
       "  /* Definition of color scheme for fitted estimators */\n",
       "  --sklearn-color-fitted-level-0: #f0f8ff;\n",
       "  --sklearn-color-fitted-level-1: #d4ebff;\n",
       "  --sklearn-color-fitted-level-2: #b3dbfd;\n",
       "  --sklearn-color-fitted-level-3: cornflowerblue;\n",
       "\n",
       "  /* Specific color for light theme */\n",
       "  --sklearn-color-text-on-default-background: var(--sg-text-color, var(--theme-code-foreground, var(--jp-content-font-color1, black)));\n",
       "  --sklearn-color-background: var(--sg-background-color, var(--theme-background, var(--jp-layout-color0, white)));\n",
       "  --sklearn-color-border-box: var(--sg-text-color, var(--theme-code-foreground, var(--jp-content-font-color1, black)));\n",
       "  --sklearn-color-icon: #696969;\n",
       "\n",
       "  @media (prefers-color-scheme: dark) {\n",
       "    /* Redefinition of color scheme for dark theme */\n",
       "    --sklearn-color-text-on-default-background: var(--sg-text-color, var(--theme-code-foreground, var(--jp-content-font-color1, white)));\n",
       "    --sklearn-color-background: var(--sg-background-color, var(--theme-background, var(--jp-layout-color0, #111)));\n",
       "    --sklearn-color-border-box: var(--sg-text-color, var(--theme-code-foreground, var(--jp-content-font-color1, white)));\n",
       "    --sklearn-color-icon: #878787;\n",
       "  }\n",
       "}\n",
       "\n",
       "#sk-container-id-20 {\n",
       "  color: var(--sklearn-color-text);\n",
       "}\n",
       "\n",
       "#sk-container-id-20 pre {\n",
       "  padding: 0;\n",
       "}\n",
       "\n",
       "#sk-container-id-20 input.sk-hidden--visually {\n",
       "  border: 0;\n",
       "  clip: rect(1px 1px 1px 1px);\n",
       "  clip: rect(1px, 1px, 1px, 1px);\n",
       "  height: 1px;\n",
       "  margin: -1px;\n",
       "  overflow: hidden;\n",
       "  padding: 0;\n",
       "  position: absolute;\n",
       "  width: 1px;\n",
       "}\n",
       "\n",
       "#sk-container-id-20 div.sk-dashed-wrapped {\n",
       "  border: 1px dashed var(--sklearn-color-line);\n",
       "  margin: 0 0.4em 0.5em 0.4em;\n",
       "  box-sizing: border-box;\n",
       "  padding-bottom: 0.4em;\n",
       "  background-color: var(--sklearn-color-background);\n",
       "}\n",
       "\n",
       "#sk-container-id-20 div.sk-container {\n",
       "  /* jupyter's `normalize.less` sets `[hidden] { display: none; }`\n",
       "     but bootstrap.min.css set `[hidden] { display: none !important; }`\n",
       "     so we also need the `!important` here to be able to override the\n",
       "     default hidden behavior on the sphinx rendered scikit-learn.org.\n",
       "     See: https://github.com/scikit-learn/scikit-learn/issues/21755 */\n",
       "  display: inline-block !important;\n",
       "  position: relative;\n",
       "}\n",
       "\n",
       "#sk-container-id-20 div.sk-text-repr-fallback {\n",
       "  display: none;\n",
       "}\n",
       "\n",
       "div.sk-parallel-item,\n",
       "div.sk-serial,\n",
       "div.sk-item {\n",
       "  /* draw centered vertical line to link estimators */\n",
       "  background-image: linear-gradient(var(--sklearn-color-text-on-default-background), var(--sklearn-color-text-on-default-background));\n",
       "  background-size: 2px 100%;\n",
       "  background-repeat: no-repeat;\n",
       "  background-position: center center;\n",
       "}\n",
       "\n",
       "/* Parallel-specific style estimator block */\n",
       "\n",
       "#sk-container-id-20 div.sk-parallel-item::after {\n",
       "  content: \"\";\n",
       "  width: 100%;\n",
       "  border-bottom: 2px solid var(--sklearn-color-text-on-default-background);\n",
       "  flex-grow: 1;\n",
       "}\n",
       "\n",
       "#sk-container-id-20 div.sk-parallel {\n",
       "  display: flex;\n",
       "  align-items: stretch;\n",
       "  justify-content: center;\n",
       "  background-color: var(--sklearn-color-background);\n",
       "  position: relative;\n",
       "}\n",
       "\n",
       "#sk-container-id-20 div.sk-parallel-item {\n",
       "  display: flex;\n",
       "  flex-direction: column;\n",
       "}\n",
       "\n",
       "#sk-container-id-20 div.sk-parallel-item:first-child::after {\n",
       "  align-self: flex-end;\n",
       "  width: 50%;\n",
       "}\n",
       "\n",
       "#sk-container-id-20 div.sk-parallel-item:last-child::after {\n",
       "  align-self: flex-start;\n",
       "  width: 50%;\n",
       "}\n",
       "\n",
       "#sk-container-id-20 div.sk-parallel-item:only-child::after {\n",
       "  width: 0;\n",
       "}\n",
       "\n",
       "/* Serial-specific style estimator block */\n",
       "\n",
       "#sk-container-id-20 div.sk-serial {\n",
       "  display: flex;\n",
       "  flex-direction: column;\n",
       "  align-items: center;\n",
       "  background-color: var(--sklearn-color-background);\n",
       "  padding-right: 1em;\n",
       "  padding-left: 1em;\n",
       "}\n",
       "\n",
       "\n",
       "/* Toggleable style: style used for estimator/Pipeline/ColumnTransformer box that is\n",
       "clickable and can be expanded/collapsed.\n",
       "- Pipeline and ColumnTransformer use this feature and define the default style\n",
       "- Estimators will overwrite some part of the style using the `sk-estimator` class\n",
       "*/\n",
       "\n",
       "/* Pipeline and ColumnTransformer style (default) */\n",
       "\n",
       "#sk-container-id-20 div.sk-toggleable {\n",
       "  /* Default theme specific background. It is overwritten whether we have a\n",
       "  specific estimator or a Pipeline/ColumnTransformer */\n",
       "  background-color: var(--sklearn-color-background);\n",
       "}\n",
       "\n",
       "/* Toggleable label */\n",
       "#sk-container-id-20 label.sk-toggleable__label {\n",
       "  cursor: pointer;\n",
       "  display: flex;\n",
       "  width: 100%;\n",
       "  margin-bottom: 0;\n",
       "  padding: 0.5em;\n",
       "  box-sizing: border-box;\n",
       "  text-align: center;\n",
       "  align-items: start;\n",
       "  justify-content: space-between;\n",
       "  gap: 0.5em;\n",
       "}\n",
       "\n",
       "#sk-container-id-20 label.sk-toggleable__label .caption {\n",
       "  font-size: 0.6rem;\n",
       "  font-weight: lighter;\n",
       "  color: var(--sklearn-color-text-muted);\n",
       "}\n",
       "\n",
       "#sk-container-id-20 label.sk-toggleable__label-arrow:before {\n",
       "  /* Arrow on the left of the label */\n",
       "  content: \"▸\";\n",
       "  float: left;\n",
       "  margin-right: 0.25em;\n",
       "  color: var(--sklearn-color-icon);\n",
       "}\n",
       "\n",
       "#sk-container-id-20 label.sk-toggleable__label-arrow:hover:before {\n",
       "  color: var(--sklearn-color-text);\n",
       "}\n",
       "\n",
       "/* Toggleable content - dropdown */\n",
       "\n",
       "#sk-container-id-20 div.sk-toggleable__content {\n",
       "  max-height: 0;\n",
       "  max-width: 0;\n",
       "  overflow: hidden;\n",
       "  text-align: left;\n",
       "  /* unfitted */\n",
       "  background-color: var(--sklearn-color-unfitted-level-0);\n",
       "}\n",
       "\n",
       "#sk-container-id-20 div.sk-toggleable__content.fitted {\n",
       "  /* fitted */\n",
       "  background-color: var(--sklearn-color-fitted-level-0);\n",
       "}\n",
       "\n",
       "#sk-container-id-20 div.sk-toggleable__content pre {\n",
       "  margin: 0.2em;\n",
       "  border-radius: 0.25em;\n",
       "  color: var(--sklearn-color-text);\n",
       "  /* unfitted */\n",
       "  background-color: var(--sklearn-color-unfitted-level-0);\n",
       "}\n",
       "\n",
       "#sk-container-id-20 div.sk-toggleable__content.fitted pre {\n",
       "  /* unfitted */\n",
       "  background-color: var(--sklearn-color-fitted-level-0);\n",
       "}\n",
       "\n",
       "#sk-container-id-20 input.sk-toggleable__control:checked~div.sk-toggleable__content {\n",
       "  /* Expand drop-down */\n",
       "  max-height: 200px;\n",
       "  max-width: 100%;\n",
       "  overflow: auto;\n",
       "}\n",
       "\n",
       "#sk-container-id-20 input.sk-toggleable__control:checked~label.sk-toggleable__label-arrow:before {\n",
       "  content: \"▾\";\n",
       "}\n",
       "\n",
       "/* Pipeline/ColumnTransformer-specific style */\n",
       "\n",
       "#sk-container-id-20 div.sk-label input.sk-toggleable__control:checked~label.sk-toggleable__label {\n",
       "  color: var(--sklearn-color-text);\n",
       "  background-color: var(--sklearn-color-unfitted-level-2);\n",
       "}\n",
       "\n",
       "#sk-container-id-20 div.sk-label.fitted input.sk-toggleable__control:checked~label.sk-toggleable__label {\n",
       "  background-color: var(--sklearn-color-fitted-level-2);\n",
       "}\n",
       "\n",
       "/* Estimator-specific style */\n",
       "\n",
       "/* Colorize estimator box */\n",
       "#sk-container-id-20 div.sk-estimator input.sk-toggleable__control:checked~label.sk-toggleable__label {\n",
       "  /* unfitted */\n",
       "  background-color: var(--sklearn-color-unfitted-level-2);\n",
       "}\n",
       "\n",
       "#sk-container-id-20 div.sk-estimator.fitted input.sk-toggleable__control:checked~label.sk-toggleable__label {\n",
       "  /* fitted */\n",
       "  background-color: var(--sklearn-color-fitted-level-2);\n",
       "}\n",
       "\n",
       "#sk-container-id-20 div.sk-label label.sk-toggleable__label,\n",
       "#sk-container-id-20 div.sk-label label {\n",
       "  /* The background is the default theme color */\n",
       "  color: var(--sklearn-color-text-on-default-background);\n",
       "}\n",
       "\n",
       "/* On hover, darken the color of the background */\n",
       "#sk-container-id-20 div.sk-label:hover label.sk-toggleable__label {\n",
       "  color: var(--sklearn-color-text);\n",
       "  background-color: var(--sklearn-color-unfitted-level-2);\n",
       "}\n",
       "\n",
       "/* Label box, darken color on hover, fitted */\n",
       "#sk-container-id-20 div.sk-label.fitted:hover label.sk-toggleable__label.fitted {\n",
       "  color: var(--sklearn-color-text);\n",
       "  background-color: var(--sklearn-color-fitted-level-2);\n",
       "}\n",
       "\n",
       "/* Estimator label */\n",
       "\n",
       "#sk-container-id-20 div.sk-label label {\n",
       "  font-family: monospace;\n",
       "  font-weight: bold;\n",
       "  display: inline-block;\n",
       "  line-height: 1.2em;\n",
       "}\n",
       "\n",
       "#sk-container-id-20 div.sk-label-container {\n",
       "  text-align: center;\n",
       "}\n",
       "\n",
       "/* Estimator-specific */\n",
       "#sk-container-id-20 div.sk-estimator {\n",
       "  font-family: monospace;\n",
       "  border: 1px dotted var(--sklearn-color-border-box);\n",
       "  border-radius: 0.25em;\n",
       "  box-sizing: border-box;\n",
       "  margin-bottom: 0.5em;\n",
       "  /* unfitted */\n",
       "  background-color: var(--sklearn-color-unfitted-level-0);\n",
       "}\n",
       "\n",
       "#sk-container-id-20 div.sk-estimator.fitted {\n",
       "  /* fitted */\n",
       "  background-color: var(--sklearn-color-fitted-level-0);\n",
       "}\n",
       "\n",
       "/* on hover */\n",
       "#sk-container-id-20 div.sk-estimator:hover {\n",
       "  /* unfitted */\n",
       "  background-color: var(--sklearn-color-unfitted-level-2);\n",
       "}\n",
       "\n",
       "#sk-container-id-20 div.sk-estimator.fitted:hover {\n",
       "  /* fitted */\n",
       "  background-color: var(--sklearn-color-fitted-level-2);\n",
       "}\n",
       "\n",
       "/* Specification for estimator info (e.g. \"i\" and \"?\") */\n",
       "\n",
       "/* Common style for \"i\" and \"?\" */\n",
       "\n",
       ".sk-estimator-doc-link,\n",
       "a:link.sk-estimator-doc-link,\n",
       "a:visited.sk-estimator-doc-link {\n",
       "  float: right;\n",
       "  font-size: smaller;\n",
       "  line-height: 1em;\n",
       "  font-family: monospace;\n",
       "  background-color: var(--sklearn-color-background);\n",
       "  border-radius: 1em;\n",
       "  height: 1em;\n",
       "  width: 1em;\n",
       "  text-decoration: none !important;\n",
       "  margin-left: 0.5em;\n",
       "  text-align: center;\n",
       "  /* unfitted */\n",
       "  border: var(--sklearn-color-unfitted-level-1) 1pt solid;\n",
       "  color: var(--sklearn-color-unfitted-level-1);\n",
       "}\n",
       "\n",
       ".sk-estimator-doc-link.fitted,\n",
       "a:link.sk-estimator-doc-link.fitted,\n",
       "a:visited.sk-estimator-doc-link.fitted {\n",
       "  /* fitted */\n",
       "  border: var(--sklearn-color-fitted-level-1) 1pt solid;\n",
       "  color: var(--sklearn-color-fitted-level-1);\n",
       "}\n",
       "\n",
       "/* On hover */\n",
       "div.sk-estimator:hover .sk-estimator-doc-link:hover,\n",
       ".sk-estimator-doc-link:hover,\n",
       "div.sk-label-container:hover .sk-estimator-doc-link:hover,\n",
       ".sk-estimator-doc-link:hover {\n",
       "  /* unfitted */\n",
       "  background-color: var(--sklearn-color-unfitted-level-3);\n",
       "  color: var(--sklearn-color-background);\n",
       "  text-decoration: none;\n",
       "}\n",
       "\n",
       "div.sk-estimator.fitted:hover .sk-estimator-doc-link.fitted:hover,\n",
       ".sk-estimator-doc-link.fitted:hover,\n",
       "div.sk-label-container:hover .sk-estimator-doc-link.fitted:hover,\n",
       ".sk-estimator-doc-link.fitted:hover {\n",
       "  /* fitted */\n",
       "  background-color: var(--sklearn-color-fitted-level-3);\n",
       "  color: var(--sklearn-color-background);\n",
       "  text-decoration: none;\n",
       "}\n",
       "\n",
       "/* Span, style for the box shown on hovering the info icon */\n",
       ".sk-estimator-doc-link span {\n",
       "  display: none;\n",
       "  z-index: 9999;\n",
       "  position: relative;\n",
       "  font-weight: normal;\n",
       "  right: .2ex;\n",
       "  padding: .5ex;\n",
       "  margin: .5ex;\n",
       "  width: min-content;\n",
       "  min-width: 20ex;\n",
       "  max-width: 50ex;\n",
       "  color: var(--sklearn-color-text);\n",
       "  box-shadow: 2pt 2pt 4pt #999;\n",
       "  /* unfitted */\n",
       "  background: var(--sklearn-color-unfitted-level-0);\n",
       "  border: .5pt solid var(--sklearn-color-unfitted-level-3);\n",
       "}\n",
       "\n",
       ".sk-estimator-doc-link.fitted span {\n",
       "  /* fitted */\n",
       "  background: var(--sklearn-color-fitted-level-0);\n",
       "  border: var(--sklearn-color-fitted-level-3);\n",
       "}\n",
       "\n",
       ".sk-estimator-doc-link:hover span {\n",
       "  display: block;\n",
       "}\n",
       "\n",
       "/* \"?\"-specific style due to the `<a>` HTML tag */\n",
       "\n",
       "#sk-container-id-20 a.estimator_doc_link {\n",
       "  float: right;\n",
       "  font-size: 1rem;\n",
       "  line-height: 1em;\n",
       "  font-family: monospace;\n",
       "  background-color: var(--sklearn-color-background);\n",
       "  border-radius: 1rem;\n",
       "  height: 1rem;\n",
       "  width: 1rem;\n",
       "  text-decoration: none;\n",
       "  /* unfitted */\n",
       "  color: var(--sklearn-color-unfitted-level-1);\n",
       "  border: var(--sklearn-color-unfitted-level-1) 1pt solid;\n",
       "}\n",
       "\n",
       "#sk-container-id-20 a.estimator_doc_link.fitted {\n",
       "  /* fitted */\n",
       "  border: var(--sklearn-color-fitted-level-1) 1pt solid;\n",
       "  color: var(--sklearn-color-fitted-level-1);\n",
       "}\n",
       "\n",
       "/* On hover */\n",
       "#sk-container-id-20 a.estimator_doc_link:hover {\n",
       "  /* unfitted */\n",
       "  background-color: var(--sklearn-color-unfitted-level-3);\n",
       "  color: var(--sklearn-color-background);\n",
       "  text-decoration: none;\n",
       "}\n",
       "\n",
       "#sk-container-id-20 a.estimator_doc_link.fitted:hover {\n",
       "  /* fitted */\n",
       "  background-color: var(--sklearn-color-fitted-level-3);\n",
       "}\n",
       "</style><div id=\"sk-container-id-20\" class=\"sk-top-container\"><div class=\"sk-text-repr-fallback\"><pre>GaussianNB()</pre><b>In a Jupyter environment, please rerun this cell to show the HTML representation or trust the notebook. <br />On GitHub, the HTML representation is unable to render, please try loading this page with nbviewer.org.</b></div><div class=\"sk-container\" hidden><div class=\"sk-item\"><div class=\"sk-estimator fitted sk-toggleable\"><input class=\"sk-toggleable__control sk-hidden--visually\" id=\"sk-estimator-id-20\" type=\"checkbox\" checked><label for=\"sk-estimator-id-20\" class=\"sk-toggleable__label fitted sk-toggleable__label-arrow\"><div><div>GaussianNB</div></div><div><a class=\"sk-estimator-doc-link fitted\" rel=\"noreferrer\" target=\"_blank\" href=\"https://scikit-learn.org/1.6/modules/generated/sklearn.naive_bayes.GaussianNB.html\">?<span>Documentation for GaussianNB</span></a><span class=\"sk-estimator-doc-link fitted\">i<span>Fitted</span></span></div></label><div class=\"sk-toggleable__content fitted\"><pre>GaussianNB()</pre></div> </div></div></div></div>"
      ],
      "text/plain": [
       "GaussianNB()"
      ]
     },
     "execution_count": 429,
     "metadata": {},
     "output_type": "execute_result"
    }
   ],
   "source": [
    "# Train Naïve Bayes Model\n",
    "naive_bayes_model.fit(X_train, y_train)"
   ]
  },
  {
   "cell_type": "code",
   "execution_count": 430,
   "id": "391f4785",
   "metadata": {},
   "outputs": [
    {
     "name": "stdout",
     "output_type": "stream",
     "text": [
      "Classification metrics of Naïve Bayes\n",
      "                          0\n",
      "model_name      Naïve Bayes\n",
      "train_accuracy       0.8761\n",
      "test_accuracy        0.8636\n",
      "train_f1             0.8753\n",
      "test_f1              0.8633\n",
      "\n",
      "Confusion Matrix of Naïve Bayes\n",
      "[[174  17  29]\n",
      " [  8 183  26]\n",
      " [  7   3 213]]\n",
      "\n",
      "Classification Report of Naïve Bayes\n",
      "              precision    recall  f1-score   support\n",
      "\n",
      "           0       0.92      0.79      0.85       220\n",
      "           1       0.90      0.84      0.87       217\n",
      "           2       0.79      0.96      0.87       223\n",
      "\n",
      "    accuracy                           0.86       660\n",
      "   macro avg       0.87      0.86      0.86       660\n",
      "weighted avg       0.87      0.86      0.86       660\n",
      "\n"
     ]
    },
    {
     "data": {
      "text/html": [
       "<div>\n",
       "<style scoped>\n",
       "    .dataframe tbody tr th:only-of-type {\n",
       "        vertical-align: middle;\n",
       "    }\n",
       "\n",
       "    .dataframe tbody tr th {\n",
       "        vertical-align: top;\n",
       "    }\n",
       "\n",
       "    .dataframe thead th {\n",
       "        text-align: right;\n",
       "    }\n",
       "</style>\n",
       "<table border=\"1\" class=\"dataframe\">\n",
       "  <thead>\n",
       "    <tr style=\"text-align: right;\">\n",
       "      <th></th>\n",
       "      <th>model_name</th>\n",
       "      <th>train_accuracy</th>\n",
       "      <th>test_accuracy</th>\n",
       "      <th>train_f1</th>\n",
       "      <th>test_f1</th>\n",
       "    </tr>\n",
       "  </thead>\n",
       "  <tbody>\n",
       "    <tr>\n",
       "      <th>0</th>\n",
       "      <td>Logistic Regression</td>\n",
       "      <td>0.9178</td>\n",
       "      <td>0.8985</td>\n",
       "      <td>0.9185</td>\n",
       "      <td>0.8991</td>\n",
       "    </tr>\n",
       "    <tr>\n",
       "      <th>1</th>\n",
       "      <td>Naïve Bayes</td>\n",
       "      <td>0.8761</td>\n",
       "      <td>0.8636</td>\n",
       "      <td>0.8753</td>\n",
       "      <td>0.8633</td>\n",
       "    </tr>\n",
       "  </tbody>\n",
       "</table>\n",
       "</div>"
      ],
      "text/plain": [
       "            model_name  train_accuracy  test_accuracy  train_f1  test_f1\n",
       "0  Logistic Regression          0.9178         0.8985    0.9185   0.8991\n",
       "1          Naïve Bayes          0.8761         0.8636    0.8753   0.8633"
      ]
     },
     "execution_count": 430,
     "metadata": {},
     "output_type": "execute_result"
    }
   ],
   "source": [
    "# Evaluate the Naïve Bayes Model\n",
    "naive_bayes_metrics_df = get_multiclass_classification_metrics(naive_bayes_model, \"Naïve Bayes\", X_train, y_train, X_test, y_test)\n",
    "classification_metrics_all_results = pd.concat([classification_metrics_all_results, naive_bayes_metrics_df], ignore_index=True)\n",
    "classification_metrics_all_results"
   ]
  },
  {
   "cell_type": "markdown",
   "id": "7573ab6f",
   "metadata": {},
   "source": [
    "## 10. LSTM Model"
   ]
  },
  {
   "cell_type": "markdown",
   "id": "a877dad2",
   "metadata": {},
   "source": [
    "### 10.1 Build and configure LSTM model"
   ]
  },
  {
   "cell_type": "code",
   "execution_count": 431,
   "id": "96613605",
   "metadata": {},
   "outputs": [],
   "source": [
    "# Build LSTM model\n",
    "number_of_classes = len(np.unique(y))\n",
    "vocab_size = 5000  # Adjust based on your dataset\n",
    "lstm_model = Sequential(\n",
    "    [\n",
    "        Embedding(vocab_size, embedding_dim),\n",
    "        Bidirectional(LSTM(embedding_dim)),\n",
    "        Dense(embedding_dim, activation='relu'),\n",
    "        Dense(number_of_classes, activation='softmax')\n",
    "    ]\n",
    ")"
   ]
  },
  {
   "cell_type": "code",
   "execution_count": 432,
   "id": "9d804c20",
   "metadata": {},
   "outputs": [
    {
     "data": {
      "text/html": [
       "<pre style=\"white-space:pre;overflow-x:auto;line-height:normal;font-family:Menlo,'DejaVu Sans Mono',consolas,'Courier New',monospace\"><span style=\"font-weight: bold\">Model: \"sequential_8\"</span>\n",
       "</pre>\n"
      ],
      "text/plain": [
       "\u001b[1mModel: \"sequential_8\"\u001b[0m\n"
      ]
     },
     "metadata": {},
     "output_type": "display_data"
    },
    {
     "data": {
      "text/html": [
       "<pre style=\"white-space:pre;overflow-x:auto;line-height:normal;font-family:Menlo,'DejaVu Sans Mono',consolas,'Courier New',monospace\">┏━━━━━━━━━━━━━━━━━━━━━━━━━━━━━━━━━┳━━━━━━━━━━━━━━━━━━━━━━━━┳━━━━━━━━━━━━━━━┓\n",
       "┃<span style=\"font-weight: bold\"> Layer (type)                    </span>┃<span style=\"font-weight: bold\"> Output Shape           </span>┃<span style=\"font-weight: bold\">       Param # </span>┃\n",
       "┡━━━━━━━━━━━━━━━━━━━━━━━━━━━━━━━━━╇━━━━━━━━━━━━━━━━━━━━━━━━╇━━━━━━━━━━━━━━━┩\n",
       "│ embedding_8 (<span style=\"color: #0087ff; text-decoration-color: #0087ff\">Embedding</span>)         │ ?                      │   <span style=\"color: #00af00; text-decoration-color: #00af00\">0</span> (unbuilt) │\n",
       "├─────────────────────────────────┼────────────────────────┼───────────────┤\n",
       "│ bidirectional_8 (<span style=\"color: #0087ff; text-decoration-color: #0087ff\">Bidirectional</span>) │ ?                      │   <span style=\"color: #00af00; text-decoration-color: #00af00\">0</span> (unbuilt) │\n",
       "├─────────────────────────────────┼────────────────────────┼───────────────┤\n",
       "│ dense_16 (<span style=\"color: #0087ff; text-decoration-color: #0087ff\">Dense</span>)                │ ?                      │   <span style=\"color: #00af00; text-decoration-color: #00af00\">0</span> (unbuilt) │\n",
       "├─────────────────────────────────┼────────────────────────┼───────────────┤\n",
       "│ dense_17 (<span style=\"color: #0087ff; text-decoration-color: #0087ff\">Dense</span>)                │ ?                      │   <span style=\"color: #00af00; text-decoration-color: #00af00\">0</span> (unbuilt) │\n",
       "└─────────────────────────────────┴────────────────────────┴───────────────┘\n",
       "</pre>\n"
      ],
      "text/plain": [
       "┏━━━━━━━━━━━━━━━━━━━━━━━━━━━━━━━━━┳━━━━━━━━━━━━━━━━━━━━━━━━┳━━━━━━━━━━━━━━━┓\n",
       "┃\u001b[1m \u001b[0m\u001b[1mLayer (type)                   \u001b[0m\u001b[1m \u001b[0m┃\u001b[1m \u001b[0m\u001b[1mOutput Shape          \u001b[0m\u001b[1m \u001b[0m┃\u001b[1m \u001b[0m\u001b[1m      Param #\u001b[0m\u001b[1m \u001b[0m┃\n",
       "┡━━━━━━━━━━━━━━━━━━━━━━━━━━━━━━━━━╇━━━━━━━━━━━━━━━━━━━━━━━━╇━━━━━━━━━━━━━━━┩\n",
       "│ embedding_8 (\u001b[38;5;33mEmbedding\u001b[0m)         │ ?                      │   \u001b[38;5;34m0\u001b[0m (unbuilt) │\n",
       "├─────────────────────────────────┼────────────────────────┼───────────────┤\n",
       "│ bidirectional_8 (\u001b[38;5;33mBidirectional\u001b[0m) │ ?                      │   \u001b[38;5;34m0\u001b[0m (unbuilt) │\n",
       "├─────────────────────────────────┼────────────────────────┼───────────────┤\n",
       "│ dense_16 (\u001b[38;5;33mDense\u001b[0m)                │ ?                      │   \u001b[38;5;34m0\u001b[0m (unbuilt) │\n",
       "├─────────────────────────────────┼────────────────────────┼───────────────┤\n",
       "│ dense_17 (\u001b[38;5;33mDense\u001b[0m)                │ ?                      │   \u001b[38;5;34m0\u001b[0m (unbuilt) │\n",
       "└─────────────────────────────────┴────────────────────────┴───────────────┘\n"
      ]
     },
     "metadata": {},
     "output_type": "display_data"
    },
    {
     "data": {
      "text/html": [
       "<pre style=\"white-space:pre;overflow-x:auto;line-height:normal;font-family:Menlo,'DejaVu Sans Mono',consolas,'Courier New',monospace\"><span style=\"font-weight: bold\"> Total params: </span><span style=\"color: #00af00; text-decoration-color: #00af00\">0</span> (0.00 B)\n",
       "</pre>\n"
      ],
      "text/plain": [
       "\u001b[1m Total params: \u001b[0m\u001b[38;5;34m0\u001b[0m (0.00 B)\n"
      ]
     },
     "metadata": {},
     "output_type": "display_data"
    },
    {
     "data": {
      "text/html": [
       "<pre style=\"white-space:pre;overflow-x:auto;line-height:normal;font-family:Menlo,'DejaVu Sans Mono',consolas,'Courier New',monospace\"><span style=\"font-weight: bold\"> Trainable params: </span><span style=\"color: #00af00; text-decoration-color: #00af00\">0</span> (0.00 B)\n",
       "</pre>\n"
      ],
      "text/plain": [
       "\u001b[1m Trainable params: \u001b[0m\u001b[38;5;34m0\u001b[0m (0.00 B)\n"
      ]
     },
     "metadata": {},
     "output_type": "display_data"
    },
    {
     "data": {
      "text/html": [
       "<pre style=\"white-space:pre;overflow-x:auto;line-height:normal;font-family:Menlo,'DejaVu Sans Mono',consolas,'Courier New',monospace\"><span style=\"font-weight: bold\"> Non-trainable params: </span><span style=\"color: #00af00; text-decoration-color: #00af00\">0</span> (0.00 B)\n",
       "</pre>\n"
      ],
      "text/plain": [
       "\u001b[1m Non-trainable params: \u001b[0m\u001b[38;5;34m0\u001b[0m (0.00 B)\n"
      ]
     },
     "metadata": {},
     "output_type": "display_data"
    }
   ],
   "source": [
    "lstm_model.summary()"
   ]
  },
  {
   "cell_type": "code",
   "execution_count": 433,
   "id": "6aca8be8",
   "metadata": {},
   "outputs": [],
   "source": [
    "lstm_model.compile(\n",
    "    loss='sparse_categorical_crossentropy',\n",
    "    optimizer='adam',\n",
    "    metrics=['accuracy']\n",
    ")"
   ]
  },
  {
   "cell_type": "markdown",
   "id": "fd7bf380",
   "metadata": {},
   "source": [
    "### 10.2 Train LSTM model"
   ]
  },
  {
   "cell_type": "code",
   "execution_count": 434,
   "id": "e834b748",
   "metadata": {},
   "outputs": [
    {
     "name": "stdout",
     "output_type": "stream",
     "text": [
      "Epoch 5: accuracy: 0.3362, loss: 1.0989, val_accuracy: 0.3144, val_loss: 1.0990\n",
      "Epoch 10: accuracy: 0.3381, loss: 1.0988, val_accuracy: 0.3144, val_loss: 1.0991\n",
      "Epoch 15: accuracy: 0.3310, loss: 1.0990, val_accuracy: 0.3144, val_loss: 1.0989\n",
      "Epoch 20: accuracy: 0.3381, loss: 1.0987, val_accuracy: 0.3144, val_loss: 1.0991\n",
      "Epoch 25: accuracy: 0.3295, loss: 1.0988, val_accuracy: 0.3144, val_loss: 1.0992\n",
      "Epoch 30: accuracy: 0.3381, loss: 1.0986, val_accuracy: 0.3144, val_loss: 1.0991\n",
      "Epoch 35: accuracy: 0.3381, loss: 1.0986, val_accuracy: 0.3144, val_loss: 1.0991\n",
      "Epoch 40: accuracy: 0.3381, loss: 1.0987, val_accuracy: 0.3144, val_loss: 1.0991\n",
      "Epoch 45: accuracy: 0.3381, loss: 1.0986, val_accuracy: 0.3144, val_loss: 1.0991\n",
      "Epoch 50: accuracy: 0.3381, loss: 1.0986, val_accuracy: 0.3144, val_loss: 1.0991\n"
     ]
    }
   ],
   "source": [
    "# Train the model\n",
    "lstm_model_history = lstm_model.fit(\n",
    "    X_train, y_train,\n",
    "    epochs=50,\n",
    "    validation_split=0.2,\n",
    "    verbose=0,\n",
    "    callbacks=[EpochLogger(interval=5)]\n",
    ")"
   ]
  },
  {
   "cell_type": "code",
   "execution_count": 435,
   "id": "750183fc",
   "metadata": {},
   "outputs": [
    {
     "data": {
      "image/png": "[encoded data removed]",
      "text/plain": [
       "<Figure size 640x480 with 1 Axes>"
      ]
     },
     "metadata": {},
     "output_type": "display_data"
    }
   ],
   "source": [
    "# Plot training history\n",
    "plt.plot(lstm_model_history.history['loss'], label='train_loss')\n",
    "plt.plot(lstm_model_history.history['val_loss'], label='val_loss')\n",
    "plt.xlabel('Epoch')\n",
    "plt.ylabel('Loss')\n",
    "plt.legend()\n",
    "plt.show()"
   ]
  },
  {
   "cell_type": "markdown",
   "id": "0aeda5f6",
   "metadata": {},
   "source": [
    "### 10.3 Test LSTM model and calculate performance metrics"
   ]
  },
  {
   "cell_type": "code",
   "execution_count": 436,
   "id": "560dbb7b",
   "metadata": {},
   "outputs": [
    {
     "name": "stdout",
     "output_type": "stream",
     "text": [
      "\u001b[1m83/83\u001b[0m \u001b[32m━━━━━━━━━━━━━━━━━━━━\u001b[0m\u001b[37m\u001b[0m \u001b[1m1s\u001b[0m 14ms/step\n",
      "\u001b[1m21/21\u001b[0m \u001b[32m━━━━━━━━━━━━━━━━━━━━\u001b[0m\u001b[37m\u001b[0m \u001b[1m0s\u001b[0m 11ms/step\n",
      "Train Accuracy: 0.3333, Train F1 Score: 0.1667\n",
      "Test Accuracy: 0.3333, Test F1 Score: 0.1667\n"
     ]
    }
   ],
   "source": [
    "# Predict probabilities\n",
    "y_train_lstm_pred_prob = lstm_model.predict(X_train)\n",
    "y_test_lstm_pred_prob = lstm_model.predict(X_test)\n",
    "\n",
    "# Predict labels\n",
    "y_train_lstm_pred = np.argmax(y_train_lstm_pred_prob, axis=1)\n",
    "y_test_lstm_pred = np.argmax(y_test_lstm_pred_prob, axis=1)\n",
    "\n",
    "# Calculate accuracy and f1 score\n",
    "lstm_model_train_accuracy = accuracy_score(y_train, y_train_lstm_pred)\n",
    "lstm_model_test_accuracy = accuracy_score(y_test, y_test_lstm_pred)\n",
    "lstm_model_train_f1 = f1_score(y_train, y_train_lstm_pred, average='weighted')\n",
    "lstm_model_test_f1 = f1_score(y_test, y_test_lstm_pred, average='weighted')\n",
    "\n",
    "print(f\"Train Accuracy: {lstm_model_train_accuracy:.4f}, Train F1 Score: {lstm_model_train_f1:.4f}\")\n",
    "print(f\"Test Accuracy: {lstm_model_test_accuracy:.4f}, Test F1 Score: {lstm_model_test_f1:.4f}\")"
   ]
  },
  {
   "cell_type": "code",
   "execution_count": 437,
   "id": "f1c12481",
   "metadata": {},
   "outputs": [
    {
     "data": {
      "text/html": [
       "<div>\n",
       "<style scoped>\n",
       "    .dataframe tbody tr th:only-of-type {\n",
       "        vertical-align: middle;\n",
       "    }\n",
       "\n",
       "    .dataframe tbody tr th {\n",
       "        vertical-align: top;\n",
       "    }\n",
       "\n",
       "    .dataframe thead th {\n",
       "        text-align: right;\n",
       "    }\n",
       "</style>\n",
       "<table border=\"1\" class=\"dataframe\">\n",
       "  <thead>\n",
       "    <tr style=\"text-align: right;\">\n",
       "      <th></th>\n",
       "      <th>model_name</th>\n",
       "      <th>train_accuracy</th>\n",
       "      <th>test_accuracy</th>\n",
       "      <th>train_f1</th>\n",
       "      <th>test_f1</th>\n",
       "    </tr>\n",
       "  </thead>\n",
       "  <tbody>\n",
       "    <tr>\n",
       "      <th>0</th>\n",
       "      <td>Logistic Regression</td>\n",
       "      <td>0.917800</td>\n",
       "      <td>0.898500</td>\n",
       "      <td>0.918500</td>\n",
       "      <td>0.899100</td>\n",
       "    </tr>\n",
       "    <tr>\n",
       "      <th>1</th>\n",
       "      <td>Naïve Bayes</td>\n",
       "      <td>0.876100</td>\n",
       "      <td>0.863600</td>\n",
       "      <td>0.875300</td>\n",
       "      <td>0.863300</td>\n",
       "    </tr>\n",
       "    <tr>\n",
       "      <th>2</th>\n",
       "      <td>LSTM</td>\n",
       "      <td>0.333333</td>\n",
       "      <td>0.333333</td>\n",
       "      <td>0.166667</td>\n",
       "      <td>0.166667</td>\n",
       "    </tr>\n",
       "  </tbody>\n",
       "</table>\n",
       "</div>"
      ],
      "text/plain": [
       "            model_name  train_accuracy  test_accuracy  train_f1   test_f1\n",
       "0  Logistic Regression        0.917800       0.898500  0.918500  0.899100\n",
       "1          Naïve Bayes        0.876100       0.863600  0.875300  0.863300\n",
       "2                 LSTM        0.333333       0.333333  0.166667  0.166667"
      ]
     },
     "execution_count": 437,
     "metadata": {},
     "output_type": "execute_result"
    }
   ],
   "source": [
    "lstm_model_metrics_df = pd.DataFrame([{\n",
    "    'model_name': 'LSTM',\n",
    "    'train_accuracy': lstm_model_train_accuracy,\n",
    "    'test_accuracy': lstm_model_test_accuracy,\n",
    "    'train_f1': lstm_model_train_f1,\n",
    "    'test_f1': lstm_model_test_f1\n",
    "}])\n",
    "classification_metrics_all_results = pd.concat([classification_metrics_all_results, lstm_model_metrics_df], ignore_index=True)\n",
    "classification_metrics_all_results"
   ]
  },
  {
   "cell_type": "markdown",
   "id": "55522408",
   "metadata": {},
   "source": [
    "## 11. BERT model"
   ]
  },
  {
   "cell_type": "markdown",
   "id": "969fe693",
   "metadata": {},
   "source": [
    "### 11.1 Load pre-trained BERT model and tokenizer"
   ]
  },
  {
   "cell_type": "code",
   "execution_count": 438,
   "id": "c5e874b6",
   "metadata": {},
   "outputs": [
    {
     "name": "stderr",
     "output_type": "stream",
     "text": [
      "All PyTorch model weights were used when initializing TFBertForSequenceClassification.\n",
      "\n",
      "Some weights or buffers of the TF 2.0 model TFBertForSequenceClassification were not initialized from the PyTorch model and are newly initialized: ['classifier.weight', 'classifier.bias']\n",
      "You should probably TRAIN this model on a down-stream task to be able to use it for predictions and inference.\n"
     ]
    },
    {
     "name": "stdout",
     "output_type": "stream",
     "text": [
      "Sample review text: The entire process was easy, and the availability was high quality.\n",
      "Tokens: [101, 1996, 2972, 2832, 2001, 3733, 1010, 1998, 1996, 11343, 2001, 2152, 3737, 1012, 102, 0, 0, 0, 0, 0, 0, 0, 0, 0, 0, 0, 0, 0, 0, 0, 0, 0, 0, 0, 0, 0, 0, 0, 0, 0, 0, 0, 0, 0, 0, 0, 0, 0, 0, 0, 0, 0, 0, 0, 0, 0, 0, 0, 0, 0, 0, 0, 0, 0]\n",
      "Decoded text: the entire process was easy, and the availability was high quality.\n"
     ]
    }
   ],
   "source": [
    "# Define our model configuration\n",
    "model_name = 'bert-base-uncased'    # Use base BERT model (uncased = lowercase)\n",
    "max_length = 64                     # Maximum number of tokens per review\n",
    "num_labels = len(np.unique(y))\n",
    "\n",
    "# Load the BERT tokenizer\n",
    "tokenizer = BertTokenizer.from_pretrained(model_name)\n",
    "\n",
    "# Load the pre-trained BERT model for classification\n",
    "bert_model = TFBertForSequenceClassification.from_pretrained(model_name, num_labels=num_labels)\n",
    "\n",
    "# test the tokenizer with a sample review_text\n",
    "sample_review_text = df['review_text'].iloc[0]\n",
    "print('Sample review text:', sample_review_text)\n",
    "tokens = tokenizer.encode(sample_review_text, max_length=max_length, padding='max_length', truncation=True)\n",
    "print('Tokens:', tokens)\n",
    "decoded_text = tokenizer.decode(tokens, skip_special_tokens=True)\n",
    "print('Decoded text:', decoded_text)"
   ]
  },
  {
   "cell_type": "markdown",
   "id": "b4bb9b34",
   "metadata": {},
   "source": [
    "### 11.2 Tokenize reviews and prepare training data"
   ]
  },
  {
   "cell_type": "code",
   "execution_count": 439,
   "id": "12c785e3",
   "metadata": {},
   "outputs": [],
   "source": [
    "# Function to tokenize reviews\n",
    "def tokenize_reviews(texts, labels, tokenizer, max_length):\n",
    "    # Lists to store the processed data\n",
    "    input_ids = []          # Token IDs for each review\n",
    "    attention_masks = []    # Masks to ignore padding tokens\n",
    "\n",
    "    # Process each review\n",
    "    for text in texts:\n",
    "        # Tokenize the text and prepare it for BERT\n",
    "        encoded = tokenizer.encode_plus(\n",
    "            text,\n",
    "            add_special_tokens=True,        # Add [CLS] at start, [SEP] at end\n",
    "            max_length=max_length,          # Limit length to MAX_LENGTH\n",
    "            padding='max_length',           # Pad shorter texts with zeros\n",
    "            truncation=True,                # Cut off longer texts\n",
    "            return_attention_mask=True,     # Create attention mask\n",
    "            return_tensors='tf'             # Return TensorFlow tensors\n",
    "        )\n",
    "\n",
    "        # Store the tokenized data\n",
    "        input_ids.append(encoded['input_ids'])\n",
    "        attention_masks.append(encoded['attention_mask'])\n",
    "\n",
    "    # Convert lists to tensors\n",
    "    input_ids = tf.concat(input_ids, axis=0)\n",
    "    attention_masks = tf.concat(attention_masks, axis=0)\n",
    "    labels_tensor = tf.constant(labels)\n",
    "\n",
    "    return input_ids, attention_masks, labels_tensor"
   ]
  },
  {
   "cell_type": "code",
   "execution_count": 440,
   "id": "dca77e86",
   "metadata": {},
   "outputs": [],
   "source": [
    "# Prepare training data and test data\n",
    "train_texts, test_texts, train_labels, test_labels = train_test_split(\n",
    "    df['review_text'].tolist(),\n",
    "    y.tolist(),\n",
    "    test_size=0.2,\n",
    "    random_state=42)"
   ]
  },
  {
   "cell_type": "code",
   "execution_count": 441,
   "id": "68638c77",
   "metadata": {},
   "outputs": [
    {
     "name": "stdout",
     "output_type": "stream",
     "text": [
      "test_input_ids: tf.Tensor(\n",
      "[[  101  1996 18105 ...     0     0     0]\n",
      " [  101 11079  2134 ...     0     0     0]\n",
      " [  101 11079  2134 ...     0     0     0]\n",
      " ...\n",
      " [  101  4638  1029 ...     0     0     0]\n",
      " [  101  1996 11079 ...     0     0     0]\n",
      " [  101 12635  2001 ...     0     0     0]], shape=(660, 64), dtype=int32)\n",
      "test_attention_masks: tf.Tensor(\n",
      "[[1 1 1 ... 0 0 0]\n",
      " [1 1 1 ... 0 0 0]\n",
      " [1 1 1 ... 0 0 0]\n",
      " ...\n",
      " [1 1 1 ... 0 0 0]\n",
      " [1 1 1 ... 0 0 0]\n",
      " [1 1 1 ... 0 0 0]], shape=(660, 64), dtype=int32)\n",
      "test_labels_tensor: tf.Tensor(\n",
      "[1 0 0 2 2 1 0 1 2 2 2 0 2 1 1 0 2 0 2 2 2 0 1 0 1 1 2 2 2 1 2 0 1 2 0 2 0\n",
      " 2 0 1 1 1 1 0 1 2 2 1 0 1 0 0 2 1 0 0 1 0 1 0 1 1 2 2 0 2 0 1 0 1 2 0 0 2\n",
      " 2 2 2 2 1 1 2 1 0 0 1 1 1 1 2 0 2 2 0 2 2 0 2 2 1 2 0 2 2 1 2 0 1 1 0 2 0\n",
      " 1 1 1 1 2 2 1 0 1 1 2 0 2 0 2 0 1 2 0 0 2 0 1 2 2 0 0 0 0 0 2 2 0 1 0 1 0\n",
      " 0 2 0 0 0 0 1 0 1 1 0 0 2 1 1 1 0 2 2 1 0 2 1 2 2 0 2 0 1 2 0 0 2 0 1 1 0\n",
      " 0 0 1 0 2 2 1 2 2 2 1 2 2 2 0 0 1 0 2 2 2 2 0 2 0 0 0 1 2 1 2 0 1 0 2 0 0\n",
      " 0 1 1 0 1 1 0 0 0 1 1 0 0 1 2 0 2 0 0 2 1 2 2 0 1 0 2 0 1 1 1 2 0 2 1 0 1\n",
      " 1 2 1 2 1 1 1 1 1 0 2 2 2 2 0 1 0 0 2 1 2 2 1 0 1 2 2 0 2 0 1 0 1 2 1 2 1\n",
      " 0 1 2 0 2 2 1 1 0 0 1 2 2 0 1 0 2 0 0 2 1 1 0 1 0 2 0 2 0 2 1 2 2 2 1 2 2\n",
      " 1 2 1 2 2 0 0 2 0 2 0 1 1 1 1 0 1 2 2 1 0 0 0 2 2 0 2 2 2 0 2 1 0 0 1 1 0\n",
      " 2 2 2 1 1 0 0 0 0 0 0 1 1 0 0 2 0 0 2 2 1 2 2 2 2 0 0 1 1 1 2 1 2 2 1 0 0\n",
      " 0 2 1 1 1 0 1 2 1 1 0 1 1 1 2 0 1 2 0 1 0 1 0 0 2 0 1 2 2 1 2 2 1 0 2 1 2\n",
      " 2 1 1 2 0 2 2 1 1 2 0 1 1 2 0 2 1 2 0 0 1 0 1 1 0 1 2 1 0 0 1 1 0 2 1 0 1\n",
      " 0 1 0 2 1 1 0 1 2 0 2 0 1 0 0 2 0 2 0 2 2 1 1 0 1 1 2 0 1 1 2 2 1 2 2 0 1\n",
      " 1 1 0 0 1 2 2 2 1 0 0 0 1 0 2 0 2 2 0 2 1 2 0 1 0 0 0 0 1 0 1 1 2 1 2 1 2\n",
      " 1 2 1 0 1 0 2 1 0 2 0 0 0 2 2 0 0 1 0 2 2 0 0 2 1 2 1 2 1 1 0 2 0 2 2 1 2\n",
      " 2 1 2 1 2 0 2 1 0 1 0 2 0 2 1 1 1 0 1 0 2 1 0 2 1 1 0 0 1 1 2 2 1 1 2 0 2\n",
      " 2 1 2 1 1 1 1 2 2 0 0 1 2 2 2 0 1 1 1 2 0 0 2 1 2 0 2 0 0 0 1], shape=(660,), dtype=int32)\n"
     ]
    }
   ],
   "source": [
    "# Tokenize the training and test data\n",
    "train_input_ids, train_attention_masks, train_labels_tensor = tokenize_reviews(\n",
    "    train_texts, train_labels, tokenizer, max_length)\n",
    "\n",
    "test_input_ids, test_attention_masks, test_labels_tensor = tokenize_reviews(\n",
    "    test_texts, test_labels, tokenizer, max_length)\n",
    "\n",
    "print('test_input_ids:', test_input_ids)\n",
    "print('test_attention_masks:', test_attention_masks)\n",
    "print('test_labels_tensor:', test_labels_tensor)"
   ]
  },
  {
   "cell_type": "markdown",
   "id": "5ce82009",
   "metadata": {},
   "source": [
    "### 11.3 Set up and train our BERT model"
   ]
  },
  {
   "cell_type": "code",
   "execution_count": 442,
   "id": "9557eb89",
   "metadata": {},
   "outputs": [],
   "source": [
    "# Configure and compile BERT model\n",
    "optimizer = tf.keras.optimizers.Adam(learning_rate=2e-5)  # Use a small learning rate for fine-tuning\n",
    "loss_function = tf.keras.losses.SparseCategoricalCrossentropy(from_logits=True)\n",
    "metrics = ['accuracy']\n",
    "bert_model.compile(optimizer='adam', loss=loss_function, metrics=metrics)"
   ]
  },
  {
   "cell_type": "code",
   "execution_count": 443,
   "id": "9ddceede",
   "metadata": {},
   "outputs": [],
   "source": [
    "# Prepare training data in the format BERT expects\n",
    "# BERT needs both input_ids and attention_mask as input\n",
    "train_dataset = tf.data.Dataset.from_tensor_slices(\n",
    "    ({\n",
    "        'input_ids': train_input_ids,            # Token IDs\n",
    "        'attention_mask': train_attention_masks  # Attention masks\n",
    "    },\n",
    "    train_labels_tensor)\n",
    ")\n",
    "test_dataset = tf.data.Dataset.from_tensor_slices(\n",
    "    ({\n",
    "        'input_ids': test_input_ids,\n",
    "        'attention_mask': test_attention_masks\n",
    "    },\n",
    "    test_labels_tensor)\n",
    ")"
   ]
  },
  {
   "cell_type": "code",
   "execution_count": 444,
   "id": "122b1cd6",
   "metadata": {},
   "outputs": [],
   "source": [
    "# Create batches for efficient training\n",
    "batch_size = 4                  # Process 4 reviews at a time\n",
    "train_dataset = train_dataset.batch(batch_size=batch_size)\n",
    "test_dataset = test_dataset.batch(batch_size=batch_size)"
   ]
  },
  {
   "cell_type": "code",
   "execution_count": 445,
   "id": "638f86f1",
   "metadata": {},
   "outputs": [
    {
     "name": "stdout",
     "output_type": "stream",
     "text": [
      "Epoch 1/5\n",
      "660/660 [==============================] - 674s 999ms/step - loss: 1.2419 - accuracy: 0.3307 - val_loss: 1.1775 - val_accuracy: 0.3379\n",
      "Epoch 2/5\n",
      "660/660 [==============================] - 969s 1s/step - loss: 1.2342 - accuracy: 0.3348 - val_loss: 1.1870 - val_accuracy: 0.3379\n",
      "Epoch 3/5\n",
      "660/660 [==============================] - 521s 790ms/step - loss: 1.2303 - accuracy: 0.3383 - val_loss: 1.2043 - val_accuracy: 0.3379\n",
      "Epoch 4/5\n",
      "660/660 [==============================] - 566s 857ms/step - loss: 1.2385 - accuracy: 0.3375 - val_loss: 1.1559 - val_accuracy: 0.3379\n",
      "Epoch 5/5\n",
      "660/660 [==============================] - 599s 908ms/step - loss: 1.2226 - accuracy: 0.3364 - val_loss: 1.1323 - val_accuracy: 0.3379\n"
     ]
    }
   ],
   "source": [
    "# Train BERT model\n",
    "bert_model_history = bert_model.fit(\n",
    "    train_dataset,\n",
    "    validation_data=test_dataset,\n",
    "    epochs=5,\n",
    "    verbose=1\n",
    ")"
   ]
  },
  {
   "cell_type": "code",
   "execution_count": 446,
   "id": "40ed1366",
   "metadata": {},
   "outputs": [
    {
     "data": {
      "image/png": "[encoded data removed]",
      "text/plain": [
       "<Figure size 640x480 with 1 Axes>"
      ]
     },
     "metadata": {},
     "output_type": "display_data"
    }
   ],
   "source": [
    "# Plot training history\n",
    "plt.plot(bert_model_history.history['loss'], label='train_loss')\n",
    "plt.plot(bert_model_history.history['val_loss'], label='val_loss')\n",
    "plt.xlabel('Epoch')\n",
    "plt.ylabel('Loss')\n",
    "plt.legend()\n",
    "plt.show()"
   ]
  },
  {
   "cell_type": "markdown",
   "id": "62a3a4a8",
   "metadata": {},
   "source": [
    "### 11.4 Test BERT model and calculate performance metrics"
   ]
  },
  {
   "cell_type": "code",
   "execution_count": 447,
   "id": "170ada18",
   "metadata": {},
   "outputs": [
    {
     "name": "stdout",
     "output_type": "stream",
     "text": [
      "660/660 [==============================] - 152s 228ms/step\n",
      "165/165 [==============================] - 36s 216ms/step\n",
      "Train Accuracy: 0.3322, Train F1 Score: 0.1657\n",
      "Test Accuracy: 0.3379, Test F1 Score: 0.1707\n"
     ]
    }
   ],
   "source": [
    "# Predict probabilities\n",
    "y_train_bert_pred_prob = bert_model.predict(train_dataset)\n",
    "y_test_bert_pred_prob = bert_model.predict(test_dataset)\n",
    "\n",
    "# Predict labels\n",
    "y_train_bert_pred = np.argmax(y_train_bert_pred_prob.logits, axis=1)\n",
    "y_test_bert_pred = np.argmax(y_test_bert_pred_prob.logits, axis=1)\n",
    "\n",
    "# Calculate accuracy and f1 score\n",
    "bert_model_train_accuracy = accuracy_score(y_train, y_train_bert_pred)\n",
    "bert_model_test_accuracy = accuracy_score(y_test, y_test_bert_pred)\n",
    "bert_model_train_f1 = f1_score(y_train, y_train_bert_pred, average='weighted')\n",
    "bert_model_test_f1 = f1_score(y_test, y_test_bert_pred, average='weighted')\n",
    "\n",
    "print(f\"Train Accuracy: {bert_model_train_accuracy:.4f}, Train F1 Score: {bert_model_train_f1:.4f}\")\n",
    "print(f\"Test Accuracy: {bert_model_test_accuracy:.4f}, Test F1 Score: {bert_model_test_f1:.4f}\")"
   ]
  },
  {
   "cell_type": "code",
   "execution_count": 448,
   "id": "f1a1bafc",
   "metadata": {},
   "outputs": [
    {
     "data": {
      "text/html": [
       "<div>\n",
       "<style scoped>\n",
       "    .dataframe tbody tr th:only-of-type {\n",
       "        vertical-align: middle;\n",
       "    }\n",
       "\n",
       "    .dataframe tbody tr th {\n",
       "        vertical-align: top;\n",
       "    }\n",
       "\n",
       "    .dataframe thead th {\n",
       "        text-align: right;\n",
       "    }\n",
       "</style>\n",
       "<table border=\"1\" class=\"dataframe\">\n",
       "  <thead>\n",
       "    <tr style=\"text-align: right;\">\n",
       "      <th></th>\n",
       "      <th>model_name</th>\n",
       "      <th>train_accuracy</th>\n",
       "      <th>test_accuracy</th>\n",
       "      <th>train_f1</th>\n",
       "      <th>test_f1</th>\n",
       "    </tr>\n",
       "  </thead>\n",
       "  <tbody>\n",
       "    <tr>\n",
       "      <th>0</th>\n",
       "      <td>Logistic Regression</td>\n",
       "      <td>0.917800</td>\n",
       "      <td>0.898500</td>\n",
       "      <td>0.918500</td>\n",
       "      <td>0.899100</td>\n",
       "    </tr>\n",
       "    <tr>\n",
       "      <th>1</th>\n",
       "      <td>Naïve Bayes</td>\n",
       "      <td>0.876100</td>\n",
       "      <td>0.863600</td>\n",
       "      <td>0.875300</td>\n",
       "      <td>0.863300</td>\n",
       "    </tr>\n",
       "    <tr>\n",
       "      <th>2</th>\n",
       "      <td>LSTM</td>\n",
       "      <td>0.333333</td>\n",
       "      <td>0.333333</td>\n",
       "      <td>0.166667</td>\n",
       "      <td>0.166667</td>\n",
       "    </tr>\n",
       "    <tr>\n",
       "      <th>3</th>\n",
       "      <td>BERT</td>\n",
       "      <td>0.332197</td>\n",
       "      <td>0.337879</td>\n",
       "      <td>0.165673</td>\n",
       "      <td>0.170661</td>\n",
       "    </tr>\n",
       "  </tbody>\n",
       "</table>\n",
       "</div>"
      ],
      "text/plain": [
       "            model_name  train_accuracy  test_accuracy  train_f1   test_f1\n",
       "0  Logistic Regression        0.917800       0.898500  0.918500  0.899100\n",
       "1          Naïve Bayes        0.876100       0.863600  0.875300  0.863300\n",
       "2                 LSTM        0.333333       0.333333  0.166667  0.166667\n",
       "3                 BERT        0.332197       0.337879  0.165673  0.170661"
      ]
     },
     "execution_count": 448,
     "metadata": {},
     "output_type": "execute_result"
    }
   ],
   "source": [
    "bert_model_metrics_df = pd.DataFrame([{\n",
    "    'model_name': 'BERT',\n",
    "    'train_accuracy': bert_model_train_accuracy,\n",
    "    'test_accuracy': bert_model_test_accuracy,\n",
    "    'train_f1': bert_model_train_f1,\n",
    "    'test_f1': bert_model_test_f1\n",
    "}])\n",
    "classification_metrics_all_results = pd.concat([classification_metrics_all_results, bert_model_metrics_df], ignore_index=True)\n",
    "classification_metrics_all_results"
   ]
  },
  {
   "cell_type": "markdown",
   "id": "62ce419d",
   "metadata": {},
   "source": [
    "## 12. README"
   ]
  },
  {
   "cell_type": "markdown",
   "id": "1e26a2f5",
   "metadata": {},
   "source": [
    "### Bike Rental Reviews Sentiment Analysis  \n",
    "\n",
    "#### Project Overview  \n",
    "This project focuses on sentiment analysis of customer reviews for a bike rental service. The goal is to classify reviews into three categories: positive, neutral, or negative.  \n",
    "\n",
    "The workflow involves:  \n",
    "1. Importing and preparing data  \n",
    "2. Cleaning and preprocessing text  \n",
    "3. Converting text into numerical embeddings  \n",
    "4. Training and evaluating multiple machine learning and deep learning models:  \n",
    "   - Logistic Regression  \n",
    "   - Naïve Bayes  \n",
    "   - LSTM (Bidirectional)  \n",
    "   - BERT (pretrained transformer)  \n",
    "\n",
    "#### Dataset  \n",
    "- Source file: `bike_rental_reviews.csv` (50,000 reviews)  \n",
    "- After removing 49,700 duplicates, only 300 unique reviews remained (100 per sentiment class).  \n",
    "- To address this, synthetic reviews were added using `bike_rental_reviews_augmented_unique.csv`, resulting in 3,300 balanced records:  \n",
    "  - 1,100 positive  \n",
    "  - 1,100 neutral  \n",
    "  - 1,100 negative  \n",
    "- Both CSV files must be placed in the working directory for the code to run properly.  \n",
    "\n",
    "#### Preprocessing Steps  \n",
    "The following text preprocessing functions were applied:  \n",
    "- Convert to lowercase  \n",
    "- Remove numbers  \n",
    "- Remove stopwords (except key sentiment words: not, no, never, very, really, extremely)  \n",
    "- Remove punctuation and extra spaces  \n",
    "- Tokenization and Part-of-Speech tagging  \n",
    "- Lemmatization with WordNet  \n",
    "\n",
    "Text is then transformed into vectors using Word2Vec embeddings.  \n",
    "\n",
    "#### Models Implemented  \n",
    "##### 1. Logistic Regression  \n",
    "- Achieved strong accuracy (~90%) and F1 score.  \n",
    "\n",
    "##### 2. Naïve Bayes  \n",
    "- Slightly lower performance (~86% accuracy), but effective as a simple baseline model.  \n",
    "\n",
    "##### 3. LSTM (Bidirectional)  \n",
    "- Configured with an embedding layer and bidirectional LSTM.  \n",
    "- Results were poor (~33% accuracy), likely due to limited data and lack of optimized hyperparameters.  \n",
    "\n",
    "##### 4. BERT (Transformers)  \n",
    "- Fine-tuned with `bert-base-uncased`.  \n",
    "- Accuracy remained low (~33%), suggesting more fine-tuning is required.  \n",
    "\n",
    "#### Performance Summary  \n",
    "| Model               | Train Accuracy | Test Accuracy | Train F1  | Test F1  |  \n",
    "|----------------------|----------------|---------------|-----------|----------|  \n",
    "| Logistic Regression  | 0.9178         | 0.8985        | 0.9185    | 0.8991   |  \n",
    "| Naïve Bayes          | 0.8761         | 0.8636        | 0.8753    | 0.8633   |  \n",
    "| LSTM                 | 0.3333         | 0.3333        | 0.1667    | 0.1667   |  \n",
    "| BERT                 | 0.3322         | 0.3379        | 0.1657    | 0.1707   |  \n",
    "\n",
    "\n",
    "#### How to run\n",
    "Place the datasets (bike_rental_reviews.csv and bike_rental_reviews_augmented_unique.csv) in your working directory.\n",
    "\n",
    "Run the Python script or Jupyter Notebook.\n",
    "\n",
    "The script will:\n",
    "\n",
    "Load and preprocess data\n",
    "\n",
    "Train models\n",
    "\n",
    "Output evaluation metrics (accuracy, F1 score, confusion matrix, classification report)\n",
    "\n",
    "#### Conclusion\n",
    "Among all tested models, Logistic Regression performed the best, with a test accuracy of approximately 89.9% and F1 score of 0.8991. Naïve Bayes followed closely with a test accuracy of 86.4% and F1 score of 0.8633. LSTM and BERT underperformed significantly on this dataset."
   ]
  },
  {
   "cell_type": "markdown",
   "id": "47a03de5",
   "metadata": {},
   "source": []
  }
 ],
 "metadata": {
  "kernelspec": {
   "display_name": "Python 3",
   "language": "python",
   "name": "python3"
  },
  "language_info": {
   "codemirror_mode": {
    "name": "ipython",
    "version": 3
   },
   "file_extension": ".py",
   "mimetype": "text/x-python",
   "name": "python",
   "nbconvert_exporter": "python",
   "pygments_lexer": "ipython3",
   "version": "3.12.10"
  }
 },
 "nbformat": 4,
 "nbformat_minor": 5
}
